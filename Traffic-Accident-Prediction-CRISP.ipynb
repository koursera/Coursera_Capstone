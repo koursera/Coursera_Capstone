{
 "cells": [
  {
   "cell_type": "markdown",
   "metadata": {},
   "source": [
    "# Traffic Accident Prediction"
   ]
  },
  {
   "cell_type": "markdown",
   "metadata": {},
   "source": [
    "This notebook is extra CRISPy used for the Capstone Project for IBM DS Pro Certificate.  It covers -\n",
    "\n",
    "* Business Understanding: The initial phase is to understand the project's objective from the business or application perspective. Then, you need to translate this knowledge into a machine learning problem with a preliminary plan to achieve the objectives. \n",
    "* Data Understanding:  In this phase, you need to collect or extract the dataset from various sources such as csv file or SQL database. Then, you need to determine the attributes (columns) that you will use to train your machine learning model. Also, you will assess the condition of chosen attributes by looking for trends, certain patterns, skewed information, correlations, and so on. \n",
    "* Data Preparation:  The data preparation includes all the required activities to construct the final dataset which will be fed into the modeling tools. Data preparation can be performed multiple times and it includes balancing the labeled data, transformation, filling missing data, and cleaning the dataset. \n",
    "* Modeling:  In this phase, various algorithms and methods can be selected and applied to build the model including supervised machine learning techniques. You can select SVM, XGBoost, decision tree, or any other techniques. You can select a single or multiple machine learning models for the same data mining problem. At this phase, stepping back to the data preparation phase is often required. \n",
    "* Evaluation:  Before proceeding to the deployment stage, the model needs to be evaluated thoroughly to ensure that the business or the applications' objectives are achieved. Certain metrics can be used for the model evaluation such as accuracy, recall, F1-score, precision, and others. \n",
    "* Deployment: The deployment phase requirements vary from project to project. It can be as simple as creating a report, developing interactive visualization, or making the machine learning model available in the production environment. In this environment, the customers or end-users can utilize the model in different ways such as API, website, or so on.\n"
   ]
  },
  {
   "cell_type": "markdown",
   "metadata": {},
   "source": [
    "# Business Understanding"
   ]
  },
  {
   "cell_type": "markdown",
   "metadata": {},
   "source": [
    "TODO - Merge BU section"
   ]
  },
  {
   "cell_type": "code",
   "execution_count": 2,
   "metadata": {},
   "outputs": [
    {
     "name": "stdout",
     "output_type": "stream",
     "text": [
      "Collecting package metadata (current_repodata.json): done\n",
      "Solving environment: done\n",
      "\n",
      "\n",
      "==> WARNING: A newer version of conda exists. <==\n",
      "  current version: 4.8.3\n",
      "  latest version: 4.8.5\n",
      "\n",
      "Please update conda by running\n",
      "\n",
      "    $ conda update -n base -c defaults conda\n",
      "\n",
      "\n",
      "\n",
      "## Package Plan ##\n",
      "\n",
      "  environment location: /home/jupyterlab/conda/envs/python\n",
      "\n",
      "  added / updated specs:\n",
      "    - xgboost\n",
      "\n",
      "\n",
      "The following packages will be downloaded:\n",
      "\n",
      "    package                    |            build\n",
      "    ---------------------------|-----------------\n",
      "    _py-xgboost-mutex-2.0      |            cpu_0           8 KB  conda-forge\n",
      "    joblib-0.17.0              |             py_0         204 KB  conda-forge\n",
      "    libxgboost-1.2.0           |       he1b5a44_0         3.1 MB  conda-forge\n",
      "    openssl-1.1.1h             |       h516909a_0         2.1 MB  conda-forge\n",
      "    py-xgboost-1.2.0           |   py36h9f0ad1d_0         1.7 MB  conda-forge\n",
      "    scikit-learn-0.23.2        |   py36hfb379a7_0         6.8 MB  conda-forge\n",
      "    scipy-1.5.2                |   py36h3a855aa_0        18.6 MB  conda-forge\n",
      "    threadpoolctl-2.1.0        |     pyh5ca1d4c_0          15 KB  conda-forge\n",
      "    xgboost-1.2.0              |   py36h831f99a_0          11 KB  conda-forge\n",
      "    ------------------------------------------------------------\n",
      "                                           Total:        32.6 MB\n",
      "\n",
      "The following NEW packages will be INSTALLED:\n",
      "\n",
      "  _py-xgboost-mutex  conda-forge/linux-64::_py-xgboost-mutex-2.0-cpu_0\n",
      "  joblib             conda-forge/noarch::joblib-0.17.0-py_0\n",
      "  libxgboost         conda-forge/linux-64::libxgboost-1.2.0-he1b5a44_0\n",
      "  py-xgboost         conda-forge/linux-64::py-xgboost-1.2.0-py36h9f0ad1d_0\n",
      "  scikit-learn       conda-forge/linux-64::scikit-learn-0.23.2-py36hfb379a7_0\n",
      "  scipy              conda-forge/linux-64::scipy-1.5.2-py36h3a855aa_0\n",
      "  threadpoolctl      conda-forge/noarch::threadpoolctl-2.1.0-pyh5ca1d4c_0\n",
      "  xgboost            conda-forge/linux-64::xgboost-1.2.0-py36h831f99a_0\n",
      "\n",
      "The following packages will be UPDATED:\n",
      "\n",
      "  openssl                                 1.1.1g-h516909a_0 --> 1.1.1h-h516909a_0\n",
      "\n",
      "\n",
      "\n",
      "Downloading and Extracting Packages\n",
      "scipy-1.5.2          | 18.6 MB   | ##################################### | 100% \n",
      "joblib-0.17.0        | 204 KB    | ##################################### | 100% \n",
      "scikit-learn-0.23.2  | 6.8 MB    | ##################################### | 100% \n",
      "libxgboost-1.2.0     | 3.1 MB    | ##################################### | 100% \n",
      "threadpoolctl-2.1.0  | 15 KB     | ##################################### | 100% \n",
      "xgboost-1.2.0        | 11 KB     | ##################################### | 100% \n",
      "openssl-1.1.1h       | 2.1 MB    | ##################################### | 100% \n",
      "py-xgboost-1.2.0     | 1.7 MB    | ##################################### | 100% \n",
      "_py-xgboost-mutex-2. | 8 KB      | ##################################### | 100% \n",
      "Preparing transaction: done\n",
      "Verifying transaction: done\n",
      "Executing transaction: done\n"
     ]
    }
   ],
   "source": [
    "!conda install -c conda-forge xgboost -y"
   ]
  },
  {
   "cell_type": "code",
   "execution_count": null,
   "metadata": {},
   "outputs": [],
   "source": [
    "!conda install -c conda-forge imbalanced-learn --y"
   ]
  },
  {
   "cell_type": "code",
   "execution_count": 3,
   "metadata": {},
   "outputs": [],
   "source": [
    "import pandas as pd\n",
    "import types\n",
    "import itertools\n",
    "import numpy as np\n",
    "from datetime import timedelta\n",
    "\n",
    "from sklearn import preprocessing\n",
    "from sklearn.preprocessing import OrdinalEncoder\n",
    "from sklearn.preprocessing import LabelEncoder\n",
    "from imblearn.under_sampling import RandomUnderSampler\n",
    "\n",
    "from sklearn import metrics\n",
    "from sklearn.model_selection import train_test_split\n",
    "from sklearn.metrics import accuracy_score\n",
    "from sklearn.metrics import f1_score\n",
    "from sklearn.metrics import log_loss\n",
    "from sklearn.metrics import confusion_matrix\n",
    "from sklearn.metrics import classification_report\n",
    "from sklearn.metrics import roc_auc_score\n",
    "from sklearn.metrics import roc_curve \n",
    "\n",
    "from sklearn.model_selection import GridSearchCV\n",
    "from sklearn.ensemble import GradientBoostingClassifier\n",
    "from sklearn.tree import DecisionTreeClassifier\n",
    "from sklearn.neighbors import KNeighborsClassifier\n",
    "from sklearn.linear_model import LogisticRegression\n",
    "from sklearn import svm\n",
    "from xgboost import XGBClassifier\n",
    "from sklearn.ensemble import RandomForestClassifier\n",
    "\n",
    "import pydotplus\n",
    "import seaborn as sns\n",
    "import matplotlib.ticker as ticker\n",
    "import matplotlib.pyplot as plt\n",
    "from matplotlib.ticker import NullFormatter\n",
    "%matplotlib inline"
   ]
  },
  {
   "cell_type": "markdown",
   "metadata": {},
   "source": [
    "# Data Understanding"
   ]
  },
  {
   "cell_type": "markdown",
   "metadata": {},
   "source": [
    "This project uses accident data from SDOT and is referred to as collisions.  The data is <a href=\"https://data-seattlecitygis.opendata.arcgis.com/datasets/5b5c745e0f1f48e7a53acec63a0022ab_0?geometry=-123.310%2C47.452%2C-121.352%2C47.776\">hosted</a> by SDOT GIS Division and curated by the SDOT Traffic Division where collisions are collected from Seattle Police Department after a collision is reported.  Instead of using the full data set this project uses a <a href=\"https://s3.us.cloud-object-storage.appdomain.cloud/cf-courses-data/CognitiveClass/DP0701EN/version-2/Data-Collisions.csv\">subset</a> of the data provided by Coursera.\n",
    "<br><br>\n",
    "General characteristics of the subset -\n",
    "- Format: CSV\n",
    "- Timeframe: January 2004 to May 2020\n",
    "- Columns: 38, 37 are unique\n",
    "- Rows:  194,673\n",
    "- Bounding Coordinates\n",
    "-- West Bounding Coordinate: -122.4754\n",
    "-- East Bounding Coordinate: -122.2008\n",
    "-- North Bounding Coordinate: 47.7582\n",
    "-- South Bounding Coordinate: 47.4814"
   ]
  },
  {
   "cell_type": "markdown",
   "metadata": {},
   "source": [
    "The subset of the SDOT collision data is used that includes collisions, defined by severity, as property damage, e.g., hitting a parked car, or injury where at least one person involved in the collision was hurt.  The complete data set has additional severities however these are not included which might need to be revisited upon further investigation.\n",
    "<br><br>\n",
    "The list below represents the attributes to be considered as independent variables for modeling.  Definitions and data types are defined in the <a href=\"https://www.seattle.gov/Documents/Departments/SDOT/GIS/Collisions_OD.pdf\">SDOT Attribute Dictionary</a>.  Samples are extracted from the Coursera Data Set.  The dependent variable is accident severity, defined as SEVERITYCODE.  There are 37 possible independent variables.  Of the 37 possible 17 were selected as independent variables and are specified in the table.  While the goal is to use date, time, weather, light and road conditions to predict accident severity other attributes are worth exploring and could be beneficial as features to the model.\n",
    "<br><br>\n",
    "A significant omission from the potential features is the type of collision.  SDOT uses a state-defined coding scheme that specifies 84 types of collisions including an additional descriptive attribute to further define the code.  While the subset includes these codes and is informative the initial iteration does not include these.  This might need to be revisited based on further investigation.\n",
    "<br>"
   ]
  },
  {
   "cell_type": "markdown",
   "metadata": {},
   "source": [
    "For details on all attributes visit the following link -\n",
    "https://www.seattle.gov/Documents/Departments/SDOT/GIS/Collisions_OD.pdf\n",
    "\n",
    "Original Data Set - https://data-seattlecitygis.opendata.arcgis.com/datasets/5b5c745e0f1f48e7a53acec63a0022ab_0?geometry=-123.310%2C47.452%2C-121.352%2C47.776\n",
    "\n",
    "Coursera Subset - https://s3.us.cloud-object-storage.appdomain.cloud/cf-courses-data/CognitiveClass/DP0701EN/version-2/Data-Collisions.csv\n",
    "\n",
    "ESRI Metadata - https://www.arcgis.com/sharing/rest/content/items/5b5c745e0f1f48e7a53acec63a0022ab/info/metadata/metadata.xml?format=default&output=html"
   ]
  },
  {
   "cell_type": "markdown",
   "metadata": {},
   "source": [
    "*Data-Collisions.csv* attributes with data type, detail and examples as defined in Collision_OD PDF:\n",
    "\n",
    "- Severity\n",
    "    - **SEVERITYCODE** - Text,100 - code that corresponds to the severity, e.g., 3—fatality, 2b—serious injury, 2—injury, 1—property damage, 0—unknown\n",
    "    - **SEVERITYDESC** - Text,300 - Detailed description of the severity, e.g., Property Damage Only Collision, Injury Collision\n",
    "- Location, Time\n",
    "    - **INCDATE** - Date - date of the incident, ex: 2013/03/27 00:00:00+00\n",
    "    - **INCDTTM** - Text,30 - date and time of the incident, ex: 3/27/2013  2:54:00 PM \n",
    "    - **X** - float - longitude of the collision\n",
    "    - **Y** - float - latitude of the collision\n",
    "    - **LOCATION** - Text,255 - description of the general location of the collision, e.g. 5TH AVE NE AND NE 103RD ST\n",
    "    - **ADDRTYPE** - Text,12 -  collision address type, e.g, alley, block, intersection\n",
    "    - **JUNCTIONTYPE** - Text,300 - category of junction where the collision occurred. e.g., At Intersection (intersection related)\n",
    "    - **INTKEY** - Double - key corresponding to the intersection associated with a collision \n",
    "    - **CROSSWALKKEY** - Long - key for the crosswalk at which the collision occurred \n",
    "- Situational Conditions\n",
    "    - **WEATHER** - Text,300 - weather condition, e.g., Clear, Overcast, Raining, Snowing \n",
    "    - **ROADCOND** - Text,300 - road condition, e.g., Wet, Dry\n",
    "    - **LIGHTCOND** - Text,300 - light condition, e.g., Daylight, Dark, Dark - Street Lights On\n",
    "- Counts\n",
    "    - **VEHCOUNT** - Double - number of vehicles involved in the collision\n",
    "    - **PERSONCOUNT** - Double - total number of people involved in the collision \n",
    "    - **PEDCOUNT** - Double - number of pedestrians involved in the collision \n",
    "    - **PEDCYLCOUNT** - Double - number of bicycles involved in the collision\n",
    "- Human Factors\n",
    "    - **INATTENTIONIND** - Text,1 - whether or not collision was due to inattention (Y/N) \n",
    "    - **UNDERINFL** - Text,1 - whether or not a driver involved was under the influence of drugs or alcohol \n",
    "- Collision Descriptors\n",
    "    - **COLLISIONTYPE** - Text,300 - collision type, e.g., Angle, Sideswipe, Parked Car\n",
    "    - **SPEEDING** - Text,1 - whether or not speeding was a factor in the collision (Y/N) \n",
    "    - **SEGLANEKEY** - Long - key for the lane segment in which the collision occurred \n",
    "    - **HITPARKEDCAR** - Text,1 - whether or not the collision involved hitting a parked car (Y/N) \n",
    "    - **PEDROWNOTGRNT** - Text,1 - whether or not the pedestrian right of way was not granted (Y/N) \n",
    "    - **SDOTCOLNUM** - Text, 10 - number given to the collision by SDOT \n",
    "    - **SDOT_COLCODE** - Text,10 - code assigned to the collision by SDOT\n",
    "    - **SDOT_COLDESC** - Text,300 - description corresponding to the collision code \n",
    "    - **ST_COLCODE** - Text,10 - code provided by the state that describes the collision \n",
    "    - **ST_COLDESC** - Text,300 - description that corresponds to the state’s coding designation \n",
    "- Miscellaneous\n",
    "    - **OBJECTID** - Double - ESRI unique identifier \n",
    "    - **INCKEY** - Long - A unique key for the incident \n",
    "    - **COLDETKEY** - Long - Secondary key for the incident \n",
    "    - **EXCEPTRSNCODE** - Text,10 - undefined \n",
    "    - **EXCEPTRSNDESC** - Text,300 - A unique key for the incident \n",
    "    - **REPORTNO** - Long - undefined \n",
    "    - **STATUS** - Text - undefined \n",
    "<br>"
   ]
  },
  {
   "cell_type": "markdown",
   "metadata": {},
   "source": [
    "Examine the attributes in the context of collision severity.  If it doesn't help us with predicting severity then it's not worth including the attribute in our feature set."
   ]
  },
  {
   "cell_type": "code",
   "execution_count": 4,
   "metadata": {},
   "outputs": [
    {
     "name": "stdout",
     "output_type": "stream",
     "text": [
      "File downloaded\n"
     ]
    }
   ],
   "source": [
    "# Read data file from Coursera, not SDOT.  Low memory suppresses warning when loading file, does nothing else\n",
    "df = pd.read_csv(\"https://s3.us.cloud-object-storage.appdomain.cloud/cf-courses-data/CognitiveClass/DP0701EN/version-2/Data-Collisions.csv\",\\\n",
    "                low_memory = False)\n",
    "#df = pd.read_csv(\"Collisions-Modified.csv\", low_memory = False)\n",
    "print('File downloaded')"
   ]
  },
  {
   "cell_type": "code",
   "execution_count": 112,
   "metadata": {},
   "outputs": [
    {
     "name": "stdout",
     "output_type": "stream",
     "text": [
      "<class 'pandas.core.frame.DataFrame'>\n",
      "RangeIndex: 194673 entries, 0 to 194672\n",
      "Data columns (total 38 columns):\n",
      " #   Column          Non-Null Count   Dtype  \n",
      "---  ------          --------------   -----  \n",
      " 0   SEVERITYCODE    194673 non-null  int64  \n",
      " 1   X               189339 non-null  float64\n",
      " 2   Y               189339 non-null  float64\n",
      " 3   OBJECTID        194673 non-null  int64  \n",
      " 4   INCKEY          194673 non-null  int64  \n",
      " 5   COLDETKEY       194673 non-null  int64  \n",
      " 6   REPORTNO        194673 non-null  object \n",
      " 7   STATUS          194673 non-null  object \n",
      " 8   ADDRTYPE        192747 non-null  object \n",
      " 9   INTKEY          65070 non-null   float64\n",
      " 10  LOCATION        191996 non-null  object \n",
      " 11  EXCEPTRSNCODE   84811 non-null   object \n",
      " 12  EXCEPTRSNDESC   5638 non-null    object \n",
      " 13  SEVERITYCODE.1  194673 non-null  int64  \n",
      " 14  SEVERITYDESC    194673 non-null  object \n",
      " 15  COLLISIONTYPE   189769 non-null  object \n",
      " 16  PERSONCOUNT     194673 non-null  int64  \n",
      " 17  PEDCOUNT        194673 non-null  int64  \n",
      " 18  PEDCYLCOUNT     194673 non-null  int64  \n",
      " 19  VEHCOUNT        194673 non-null  int64  \n",
      " 20  INCDATE         194673 non-null  object \n",
      " 21  INCDTTM         194673 non-null  object \n",
      " 22  JUNCTIONTYPE    188344 non-null  object \n",
      " 23  SDOT_COLCODE    194673 non-null  int64  \n",
      " 24  SDOT_COLDESC    194673 non-null  object \n",
      " 25  INATTENTIONIND  29805 non-null   object \n",
      " 26  UNDERINFL       189789 non-null  object \n",
      " 27  WEATHER         189592 non-null  object \n",
      " 28  ROADCOND        189661 non-null  object \n",
      " 29  LIGHTCOND       189503 non-null  object \n",
      " 30  PEDROWNOTGRNT   4667 non-null    object \n",
      " 31  SDOTCOLNUM      114936 non-null  float64\n",
      " 32  SPEEDING        9333 non-null    object \n",
      " 33  ST_COLCODE      194655 non-null  object \n",
      " 34  ST_COLDESC      189769 non-null  object \n",
      " 35  SEGLANEKEY      194673 non-null  int64  \n",
      " 36  CROSSWALKKEY    194673 non-null  int64  \n",
      " 37  HITPARKEDCAR    194673 non-null  object \n",
      "dtypes: float64(4), int64(12), object(22)\n",
      "memory usage: 56.4+ MB\n"
     ]
    }
   ],
   "source": [
    "df.info()"
   ]
  },
  {
   "cell_type": "code",
   "execution_count": 113,
   "metadata": {},
   "outputs": [
    {
     "data": {
      "text/html": [
       "<div>\n",
       "<style scoped>\n",
       "    .dataframe tbody tr th:only-of-type {\n",
       "        vertical-align: middle;\n",
       "    }\n",
       "\n",
       "    .dataframe tbody tr th {\n",
       "        vertical-align: top;\n",
       "    }\n",
       "\n",
       "    .dataframe thead th {\n",
       "        text-align: right;\n",
       "    }\n",
       "</style>\n",
       "<table border=\"1\" class=\"dataframe\">\n",
       "  <thead>\n",
       "    <tr style=\"text-align: right;\">\n",
       "      <th></th>\n",
       "      <th>SEVERITYCODE</th>\n",
       "      <th>X</th>\n",
       "      <th>Y</th>\n",
       "      <th>OBJECTID</th>\n",
       "      <th>INCKEY</th>\n",
       "      <th>COLDETKEY</th>\n",
       "      <th>REPORTNO</th>\n",
       "      <th>STATUS</th>\n",
       "      <th>ADDRTYPE</th>\n",
       "      <th>INTKEY</th>\n",
       "      <th>...</th>\n",
       "      <th>ROADCOND</th>\n",
       "      <th>LIGHTCOND</th>\n",
       "      <th>PEDROWNOTGRNT</th>\n",
       "      <th>SDOTCOLNUM</th>\n",
       "      <th>SPEEDING</th>\n",
       "      <th>ST_COLCODE</th>\n",
       "      <th>ST_COLDESC</th>\n",
       "      <th>SEGLANEKEY</th>\n",
       "      <th>CROSSWALKKEY</th>\n",
       "      <th>HITPARKEDCAR</th>\n",
       "    </tr>\n",
       "  </thead>\n",
       "  <tbody>\n",
       "    <tr>\n",
       "      <th>0</th>\n",
       "      <td>2</td>\n",
       "      <td>-122.323148</td>\n",
       "      <td>47.703140</td>\n",
       "      <td>1</td>\n",
       "      <td>1307</td>\n",
       "      <td>1307</td>\n",
       "      <td>3502005</td>\n",
       "      <td>Matched</td>\n",
       "      <td>Intersection</td>\n",
       "      <td>37475.0</td>\n",
       "      <td>...</td>\n",
       "      <td>Wet</td>\n",
       "      <td>Daylight</td>\n",
       "      <td>NaN</td>\n",
       "      <td>NaN</td>\n",
       "      <td>NaN</td>\n",
       "      <td>10</td>\n",
       "      <td>Entering at angle</td>\n",
       "      <td>0</td>\n",
       "      <td>0</td>\n",
       "      <td>N</td>\n",
       "    </tr>\n",
       "    <tr>\n",
       "      <th>1</th>\n",
       "      <td>1</td>\n",
       "      <td>-122.347294</td>\n",
       "      <td>47.647172</td>\n",
       "      <td>2</td>\n",
       "      <td>52200</td>\n",
       "      <td>52200</td>\n",
       "      <td>2607959</td>\n",
       "      <td>Matched</td>\n",
       "      <td>Block</td>\n",
       "      <td>NaN</td>\n",
       "      <td>...</td>\n",
       "      <td>Wet</td>\n",
       "      <td>Dark - Street Lights On</td>\n",
       "      <td>NaN</td>\n",
       "      <td>6354039.0</td>\n",
       "      <td>NaN</td>\n",
       "      <td>11</td>\n",
       "      <td>From same direction - both going straight - bo...</td>\n",
       "      <td>0</td>\n",
       "      <td>0</td>\n",
       "      <td>N</td>\n",
       "    </tr>\n",
       "    <tr>\n",
       "      <th>2</th>\n",
       "      <td>1</td>\n",
       "      <td>-122.334540</td>\n",
       "      <td>47.607871</td>\n",
       "      <td>3</td>\n",
       "      <td>26700</td>\n",
       "      <td>26700</td>\n",
       "      <td>1482393</td>\n",
       "      <td>Matched</td>\n",
       "      <td>Block</td>\n",
       "      <td>NaN</td>\n",
       "      <td>...</td>\n",
       "      <td>Dry</td>\n",
       "      <td>Daylight</td>\n",
       "      <td>NaN</td>\n",
       "      <td>4323031.0</td>\n",
       "      <td>NaN</td>\n",
       "      <td>32</td>\n",
       "      <td>One parked--one moving</td>\n",
       "      <td>0</td>\n",
       "      <td>0</td>\n",
       "      <td>N</td>\n",
       "    </tr>\n",
       "    <tr>\n",
       "      <th>3</th>\n",
       "      <td>1</td>\n",
       "      <td>-122.334803</td>\n",
       "      <td>47.604803</td>\n",
       "      <td>4</td>\n",
       "      <td>1144</td>\n",
       "      <td>1144</td>\n",
       "      <td>3503937</td>\n",
       "      <td>Matched</td>\n",
       "      <td>Block</td>\n",
       "      <td>NaN</td>\n",
       "      <td>...</td>\n",
       "      <td>Dry</td>\n",
       "      <td>Daylight</td>\n",
       "      <td>NaN</td>\n",
       "      <td>NaN</td>\n",
       "      <td>NaN</td>\n",
       "      <td>23</td>\n",
       "      <td>From same direction - all others</td>\n",
       "      <td>0</td>\n",
       "      <td>0</td>\n",
       "      <td>N</td>\n",
       "    </tr>\n",
       "    <tr>\n",
       "      <th>4</th>\n",
       "      <td>2</td>\n",
       "      <td>-122.306426</td>\n",
       "      <td>47.545739</td>\n",
       "      <td>5</td>\n",
       "      <td>17700</td>\n",
       "      <td>17700</td>\n",
       "      <td>1807429</td>\n",
       "      <td>Matched</td>\n",
       "      <td>Intersection</td>\n",
       "      <td>34387.0</td>\n",
       "      <td>...</td>\n",
       "      <td>Wet</td>\n",
       "      <td>Daylight</td>\n",
       "      <td>NaN</td>\n",
       "      <td>4028032.0</td>\n",
       "      <td>NaN</td>\n",
       "      <td>10</td>\n",
       "      <td>Entering at angle</td>\n",
       "      <td>0</td>\n",
       "      <td>0</td>\n",
       "      <td>N</td>\n",
       "    </tr>\n",
       "    <tr>\n",
       "      <th>5</th>\n",
       "      <td>1</td>\n",
       "      <td>-122.387598</td>\n",
       "      <td>47.690575</td>\n",
       "      <td>6</td>\n",
       "      <td>320840</td>\n",
       "      <td>322340</td>\n",
       "      <td>E919477</td>\n",
       "      <td>Matched</td>\n",
       "      <td>Intersection</td>\n",
       "      <td>36974.0</td>\n",
       "      <td>...</td>\n",
       "      <td>Dry</td>\n",
       "      <td>Daylight</td>\n",
       "      <td>NaN</td>\n",
       "      <td>NaN</td>\n",
       "      <td>NaN</td>\n",
       "      <td>10</td>\n",
       "      <td>Entering at angle</td>\n",
       "      <td>0</td>\n",
       "      <td>0</td>\n",
       "      <td>N</td>\n",
       "    </tr>\n",
       "    <tr>\n",
       "      <th>6</th>\n",
       "      <td>1</td>\n",
       "      <td>-122.338485</td>\n",
       "      <td>47.618534</td>\n",
       "      <td>7</td>\n",
       "      <td>83300</td>\n",
       "      <td>83300</td>\n",
       "      <td>3282542</td>\n",
       "      <td>Matched</td>\n",
       "      <td>Intersection</td>\n",
       "      <td>29510.0</td>\n",
       "      <td>...</td>\n",
       "      <td>Wet</td>\n",
       "      <td>Daylight</td>\n",
       "      <td>NaN</td>\n",
       "      <td>8344002.0</td>\n",
       "      <td>NaN</td>\n",
       "      <td>10</td>\n",
       "      <td>Entering at angle</td>\n",
       "      <td>0</td>\n",
       "      <td>0</td>\n",
       "      <td>N</td>\n",
       "    </tr>\n",
       "    <tr>\n",
       "      <th>7</th>\n",
       "      <td>2</td>\n",
       "      <td>-122.320780</td>\n",
       "      <td>47.614076</td>\n",
       "      <td>9</td>\n",
       "      <td>330897</td>\n",
       "      <td>332397</td>\n",
       "      <td>EA30304</td>\n",
       "      <td>Matched</td>\n",
       "      <td>Intersection</td>\n",
       "      <td>29745.0</td>\n",
       "      <td>...</td>\n",
       "      <td>Dry</td>\n",
       "      <td>Daylight</td>\n",
       "      <td>NaN</td>\n",
       "      <td>NaN</td>\n",
       "      <td>NaN</td>\n",
       "      <td>5</td>\n",
       "      <td>Vehicle Strikes Pedalcyclist</td>\n",
       "      <td>6855</td>\n",
       "      <td>0</td>\n",
       "      <td>N</td>\n",
       "    </tr>\n",
       "    <tr>\n",
       "      <th>8</th>\n",
       "      <td>1</td>\n",
       "      <td>-122.335930</td>\n",
       "      <td>47.611904</td>\n",
       "      <td>10</td>\n",
       "      <td>63400</td>\n",
       "      <td>63400</td>\n",
       "      <td>2071243</td>\n",
       "      <td>Matched</td>\n",
       "      <td>Block</td>\n",
       "      <td>NaN</td>\n",
       "      <td>...</td>\n",
       "      <td>Dry</td>\n",
       "      <td>Daylight</td>\n",
       "      <td>NaN</td>\n",
       "      <td>6166014.0</td>\n",
       "      <td>NaN</td>\n",
       "      <td>32</td>\n",
       "      <td>One parked--one moving</td>\n",
       "      <td>0</td>\n",
       "      <td>0</td>\n",
       "      <td>N</td>\n",
       "    </tr>\n",
       "    <tr>\n",
       "      <th>9</th>\n",
       "      <td>2</td>\n",
       "      <td>-122.384700</td>\n",
       "      <td>47.528475</td>\n",
       "      <td>12</td>\n",
       "      <td>58600</td>\n",
       "      <td>58600</td>\n",
       "      <td>2072105</td>\n",
       "      <td>Matched</td>\n",
       "      <td>Intersection</td>\n",
       "      <td>34679.0</td>\n",
       "      <td>...</td>\n",
       "      <td>Dry</td>\n",
       "      <td>Daylight</td>\n",
       "      <td>NaN</td>\n",
       "      <td>6079001.0</td>\n",
       "      <td>NaN</td>\n",
       "      <td>10</td>\n",
       "      <td>Entering at angle</td>\n",
       "      <td>0</td>\n",
       "      <td>0</td>\n",
       "      <td>N</td>\n",
       "    </tr>\n",
       "  </tbody>\n",
       "</table>\n",
       "<p>10 rows × 38 columns</p>\n",
       "</div>"
      ],
      "text/plain": [
       "   SEVERITYCODE           X          Y  OBJECTID  INCKEY  COLDETKEY REPORTNO  \\\n",
       "0             2 -122.323148  47.703140         1    1307       1307  3502005   \n",
       "1             1 -122.347294  47.647172         2   52200      52200  2607959   \n",
       "2             1 -122.334540  47.607871         3   26700      26700  1482393   \n",
       "3             1 -122.334803  47.604803         4    1144       1144  3503937   \n",
       "4             2 -122.306426  47.545739         5   17700      17700  1807429   \n",
       "5             1 -122.387598  47.690575         6  320840     322340  E919477   \n",
       "6             1 -122.338485  47.618534         7   83300      83300  3282542   \n",
       "7             2 -122.320780  47.614076         9  330897     332397  EA30304   \n",
       "8             1 -122.335930  47.611904        10   63400      63400  2071243   \n",
       "9             2 -122.384700  47.528475        12   58600      58600  2072105   \n",
       "\n",
       "    STATUS      ADDRTYPE   INTKEY  ... ROADCOND                LIGHTCOND  \\\n",
       "0  Matched  Intersection  37475.0  ...      Wet                 Daylight   \n",
       "1  Matched         Block      NaN  ...      Wet  Dark - Street Lights On   \n",
       "2  Matched         Block      NaN  ...      Dry                 Daylight   \n",
       "3  Matched         Block      NaN  ...      Dry                 Daylight   \n",
       "4  Matched  Intersection  34387.0  ...      Wet                 Daylight   \n",
       "5  Matched  Intersection  36974.0  ...      Dry                 Daylight   \n",
       "6  Matched  Intersection  29510.0  ...      Wet                 Daylight   \n",
       "7  Matched  Intersection  29745.0  ...      Dry                 Daylight   \n",
       "8  Matched         Block      NaN  ...      Dry                 Daylight   \n",
       "9  Matched  Intersection  34679.0  ...      Dry                 Daylight   \n",
       "\n",
       "  PEDROWNOTGRNT  SDOTCOLNUM SPEEDING ST_COLCODE  \\\n",
       "0           NaN         NaN      NaN         10   \n",
       "1           NaN   6354039.0      NaN         11   \n",
       "2           NaN   4323031.0      NaN         32   \n",
       "3           NaN         NaN      NaN         23   \n",
       "4           NaN   4028032.0      NaN         10   \n",
       "5           NaN         NaN      NaN         10   \n",
       "6           NaN   8344002.0      NaN         10   \n",
       "7           NaN         NaN      NaN          5   \n",
       "8           NaN   6166014.0      NaN         32   \n",
       "9           NaN   6079001.0      NaN         10   \n",
       "\n",
       "                                          ST_COLDESC  SEGLANEKEY  \\\n",
       "0                                  Entering at angle           0   \n",
       "1  From same direction - both going straight - bo...           0   \n",
       "2                             One parked--one moving           0   \n",
       "3                   From same direction - all others           0   \n",
       "4                                  Entering at angle           0   \n",
       "5                                  Entering at angle           0   \n",
       "6                                  Entering at angle           0   \n",
       "7                       Vehicle Strikes Pedalcyclist        6855   \n",
       "8                             One parked--one moving           0   \n",
       "9                                  Entering at angle           0   \n",
       "\n",
       "   CROSSWALKKEY  HITPARKEDCAR  \n",
       "0             0             N  \n",
       "1             0             N  \n",
       "2             0             N  \n",
       "3             0             N  \n",
       "4             0             N  \n",
       "5             0             N  \n",
       "6             0             N  \n",
       "7             0             N  \n",
       "8             0             N  \n",
       "9             0             N  \n",
       "\n",
       "[10 rows x 38 columns]"
      ]
     },
     "execution_count": 113,
     "metadata": {},
     "output_type": "execute_result"
    }
   ],
   "source": [
    "df.head(10)"
   ]
  },
  {
   "cell_type": "markdown",
   "metadata": {},
   "source": [
    "A first look a number of these attributes are system or adminstration related and not really related to the collision.  This includes OBJECTID, REPORTNO, SEVERITYCODE.1, STATUS, EXCEPTRSNCODE, EXCEPTRSNDESC. INCKEY, COLDETKEY, INTKEY, SEGLANEKEY, CROSSWALKKEY all look like keys."
   ]
  },
  {
   "cell_type": "code",
   "execution_count": 6,
   "metadata": {},
   "outputs": [
    {
     "data": {
      "text/html": [
       "<style  type=\"text/css\" >\n",
       "    #T_5ea3c7be_0521_11eb_ab21_3202682a814arow0_col0 {\n",
       "            background-color:  #008000;\n",
       "            color:  #f1f1f1;\n",
       "        }    #T_5ea3c7be_0521_11eb_ab21_3202682a814arow0_col1 {\n",
       "            background-color:  #c4edc4;\n",
       "            color:  #000000;\n",
       "        }    #T_5ea3c7be_0521_11eb_ab21_3202682a814arow0_col2 {\n",
       "            background-color:  #c2ecc2;\n",
       "            color:  #000000;\n",
       "        }    #T_5ea3c7be_0521_11eb_ab21_3202682a814arow0_col3 {\n",
       "            background-color:  #cef2ce;\n",
       "            color:  #000000;\n",
       "        }    #T_5ea3c7be_0521_11eb_ab21_3202682a814arow0_col4 {\n",
       "            background-color:  #cbf1cb;\n",
       "            color:  #000000;\n",
       "        }    #T_5ea3c7be_0521_11eb_ab21_3202682a814arow0_col5 {\n",
       "            background-color:  #cbf1cb;\n",
       "            color:  #000000;\n",
       "        }    #T_5ea3c7be_0521_11eb_ab21_3202682a814arow0_col6 {\n",
       "            background-color:  #cdf2cd;\n",
       "            color:  #000000;\n",
       "        }    #T_5ea3c7be_0521_11eb_ab21_3202682a814arow0_col7 {\n",
       "            background-color:  #008000;\n",
       "            color:  #f1f1f1;\n",
       "        }    #T_5ea3c7be_0521_11eb_ab21_3202682a814arow0_col8 {\n",
       "            background-color:  #b1e2b1;\n",
       "            color:  #000000;\n",
       "        }    #T_5ea3c7be_0521_11eb_ab21_3202682a814arow0_col9 {\n",
       "            background-color:  #89cc89;\n",
       "            color:  #000000;\n",
       "        }    #T_5ea3c7be_0521_11eb_ab21_3202682a814arow0_col10 {\n",
       "            background-color:  #90d090;\n",
       "            color:  #000000;\n",
       "        }    #T_5ea3c7be_0521_11eb_ab21_3202682a814arow0_col11 {\n",
       "            background-color:  #b1e2b1;\n",
       "            color:  #000000;\n",
       "        }    #T_5ea3c7be_0521_11eb_ab21_3202682a814arow0_col12 {\n",
       "            background-color:  #89cc89;\n",
       "            color:  #000000;\n",
       "        }    #T_5ea3c7be_0521_11eb_ab21_3202682a814arow0_col13 {\n",
       "            background-color:  #dcfadc;\n",
       "            color:  #000000;\n",
       "        }    #T_5ea3c7be_0521_11eb_ab21_3202682a814arow0_col14 {\n",
       "            background-color:  #b8e6b8;\n",
       "            color:  #000000;\n",
       "        }    #T_5ea3c7be_0521_11eb_ab21_3202682a814arow0_col15 {\n",
       "            background-color:  #9ed79e;\n",
       "            color:  #000000;\n",
       "        }    #T_5ea3c7be_0521_11eb_ab21_3202682a814arow1_col0 {\n",
       "            background-color:  #d8f8d8;\n",
       "            color:  #000000;\n",
       "        }    #T_5ea3c7be_0521_11eb_ab21_3202682a814arow1_col1 {\n",
       "            background-color:  #008000;\n",
       "            color:  #f1f1f1;\n",
       "        }    #T_5ea3c7be_0521_11eb_ab21_3202682a814arow1_col2 {\n",
       "            background-color:  #e5ffe5;\n",
       "            color:  #000000;\n",
       "        }    #T_5ea3c7be_0521_11eb_ab21_3202682a814arow1_col3 {\n",
       "            background-color:  #d0f3d0;\n",
       "            color:  #000000;\n",
       "        }    #T_5ea3c7be_0521_11eb_ab21_3202682a814arow1_col4 {\n",
       "            background-color:  #cdf2cd;\n",
       "            color:  #000000;\n",
       "        }    #T_5ea3c7be_0521_11eb_ab21_3202682a814arow1_col5 {\n",
       "            background-color:  #cdf2cd;\n",
       "            color:  #000000;\n",
       "        }    #T_5ea3c7be_0521_11eb_ab21_3202682a814arow1_col6 {\n",
       "            background-color:  #b5e4b5;\n",
       "            color:  #000000;\n",
       "        }    #T_5ea3c7be_0521_11eb_ab21_3202682a814arow1_col7 {\n",
       "            background-color:  #d8f8d8;\n",
       "            color:  #000000;\n",
       "        }    #T_5ea3c7be_0521_11eb_ab21_3202682a814arow1_col8 {\n",
       "            background-color:  #c9efc9;\n",
       "            color:  #000000;\n",
       "        }    #T_5ea3c7be_0521_11eb_ab21_3202682a814arow1_col9 {\n",
       "            background-color:  #b4e4b4;\n",
       "            color:  #000000;\n",
       "        }    #T_5ea3c7be_0521_11eb_ab21_3202682a814arow1_col10 {\n",
       "            background-color:  #b8e6b8;\n",
       "            color:  #000000;\n",
       "        }    #T_5ea3c7be_0521_11eb_ab21_3202682a814arow1_col11 {\n",
       "            background-color:  #aadeaa;\n",
       "            color:  #000000;\n",
       "        }    #T_5ea3c7be_0521_11eb_ab21_3202682a814arow1_col12 {\n",
       "            background-color:  #a6dca6;\n",
       "            color:  #000000;\n",
       "        }    #T_5ea3c7be_0521_11eb_ab21_3202682a814arow1_col13 {\n",
       "            background-color:  #ddfbdd;\n",
       "            color:  #000000;\n",
       "        }    #T_5ea3c7be_0521_11eb_ab21_3202682a814arow1_col14 {\n",
       "            background-color:  #cdf2cd;\n",
       "            color:  #000000;\n",
       "        }    #T_5ea3c7be_0521_11eb_ab21_3202682a814arow1_col15 {\n",
       "            background-color:  #bde9bd;\n",
       "            color:  #000000;\n",
       "        }    #T_5ea3c7be_0521_11eb_ab21_3202682a814arow2_col0 {\n",
       "            background-color:  #d6f7d6;\n",
       "            color:  #000000;\n",
       "        }    #T_5ea3c7be_0521_11eb_ab21_3202682a814arow2_col1 {\n",
       "            background-color:  #e5ffe5;\n",
       "            color:  #000000;\n",
       "        }    #T_5ea3c7be_0521_11eb_ab21_3202682a814arow2_col2 {\n",
       "            background-color:  #008000;\n",
       "            color:  #f1f1f1;\n",
       "        }    #T_5ea3c7be_0521_11eb_ab21_3202682a814arow2_col3 {\n",
       "            background-color:  #d7f7d7;\n",
       "            color:  #000000;\n",
       "        }    #T_5ea3c7be_0521_11eb_ab21_3202682a814arow2_col4 {\n",
       "            background-color:  #d5f6d5;\n",
       "            color:  #000000;\n",
       "        }    #T_5ea3c7be_0521_11eb_ab21_3202682a814arow2_col5 {\n",
       "            background-color:  #d5f6d5;\n",
       "            color:  #000000;\n",
       "        }    #T_5ea3c7be_0521_11eb_ab21_3202682a814arow2_col6 {\n",
       "            background-color:  #e5ffe5;\n",
       "            color:  #000000;\n",
       "        }    #T_5ea3c7be_0521_11eb_ab21_3202682a814arow2_col7 {\n",
       "            background-color:  #d6f7d6;\n",
       "            color:  #000000;\n",
       "        }    #T_5ea3c7be_0521_11eb_ab21_3202682a814arow2_col8 {\n",
       "            background-color:  #cef2ce;\n",
       "            color:  #000000;\n",
       "        }    #T_5ea3c7be_0521_11eb_ab21_3202682a814arow2_col9 {\n",
       "            background-color:  #b4e4b4;\n",
       "            color:  #000000;\n",
       "        }    #T_5ea3c7be_0521_11eb_ab21_3202682a814arow2_col10 {\n",
       "            background-color:  #b2e3b2;\n",
       "            color:  #000000;\n",
       "        }    #T_5ea3c7be_0521_11eb_ab21_3202682a814arow2_col11 {\n",
       "            background-color:  #a6dca6;\n",
       "            color:  #000000;\n",
       "        }    #T_5ea3c7be_0521_11eb_ab21_3202682a814arow2_col12 {\n",
       "            background-color:  #acdfac;\n",
       "            color:  #000000;\n",
       "        }    #T_5ea3c7be_0521_11eb_ab21_3202682a814arow2_col13 {\n",
       "            background-color:  #defbde;\n",
       "            color:  #000000;\n",
       "        }    #T_5ea3c7be_0521_11eb_ab21_3202682a814arow2_col14 {\n",
       "            background-color:  #cbf1cb;\n",
       "            color:  #000000;\n",
       "        }    #T_5ea3c7be_0521_11eb_ab21_3202682a814arow2_col15 {\n",
       "            background-color:  #bee9be;\n",
       "            color:  #000000;\n",
       "        }    #T_5ea3c7be_0521_11eb_ab21_3202682a814arow3_col0 {\n",
       "            background-color:  #d5f6d5;\n",
       "            color:  #000000;\n",
       "        }    #T_5ea3c7be_0521_11eb_ab21_3202682a814arow3_col1 {\n",
       "            background-color:  #c4edc4;\n",
       "            color:  #000000;\n",
       "        }    #T_5ea3c7be_0521_11eb_ab21_3202682a814arow3_col2 {\n",
       "            background-color:  #caf0ca;\n",
       "            color:  #000000;\n",
       "        }    #T_5ea3c7be_0521_11eb_ab21_3202682a814arow3_col3 {\n",
       "            background-color:  #008000;\n",
       "            color:  #f1f1f1;\n",
       "        }    #T_5ea3c7be_0521_11eb_ab21_3202682a814arow3_col4 {\n",
       "            background-color:  #0b860b;\n",
       "            color:  #f1f1f1;\n",
       "        }    #T_5ea3c7be_0521_11eb_ab21_3202682a814arow3_col5 {\n",
       "            background-color:  #0b860b;\n",
       "            color:  #f1f1f1;\n",
       "        }    #T_5ea3c7be_0521_11eb_ab21_3202682a814arow3_col6 {\n",
       "            background-color:  #c4edc4;\n",
       "            color:  #000000;\n",
       "        }    #T_5ea3c7be_0521_11eb_ab21_3202682a814arow3_col7 {\n",
       "            background-color:  #d5f6d5;\n",
       "            color:  #000000;\n",
       "        }    #T_5ea3c7be_0521_11eb_ab21_3202682a814arow3_col8 {\n",
       "            background-color:  #d8f8d8;\n",
       "            color:  #000000;\n",
       "        }    #T_5ea3c7be_0521_11eb_ab21_3202682a814arow3_col9 {\n",
       "            background-color:  #b1e2b1;\n",
       "            color:  #000000;\n",
       "        }    #T_5ea3c7be_0521_11eb_ab21_3202682a814arow3_col10 {\n",
       "            background-color:  #b1e2b1;\n",
       "            color:  #000000;\n",
       "        }    #T_5ea3c7be_0521_11eb_ab21_3202682a814arow3_col11 {\n",
       "            background-color:  #b8e6b8;\n",
       "            color:  #000000;\n",
       "        }    #T_5ea3c7be_0521_11eb_ab21_3202682a814arow3_col12 {\n",
       "            background-color:  #afe1af;\n",
       "            color:  #000000;\n",
       "        }    #T_5ea3c7be_0521_11eb_ab21_3202682a814arow3_col13 {\n",
       "            background-color:  #068306;\n",
       "            color:  #f1f1f1;\n",
       "        }    #T_5ea3c7be_0521_11eb_ab21_3202682a814arow3_col14 {\n",
       "            background-color:  #c7eec7;\n",
       "            color:  #000000;\n",
       "        }    #T_5ea3c7be_0521_11eb_ab21_3202682a814arow3_col15 {\n",
       "            background-color:  #b5e4b5;\n",
       "            color:  #000000;\n",
       "        }    #T_5ea3c7be_0521_11eb_ab21_3202682a814arow4_col0 {\n",
       "            background-color:  #d5f6d5;\n",
       "            color:  #000000;\n",
       "        }    #T_5ea3c7be_0521_11eb_ab21_3202682a814arow4_col1 {\n",
       "            background-color:  #c4edc4;\n",
       "            color:  #000000;\n",
       "        }    #T_5ea3c7be_0521_11eb_ab21_3202682a814arow4_col2 {\n",
       "            background-color:  #cbf1cb;\n",
       "            color:  #000000;\n",
       "        }    #T_5ea3c7be_0521_11eb_ab21_3202682a814arow4_col3 {\n",
       "            background-color:  #0b860b;\n",
       "            color:  #f1f1f1;\n",
       "        }    #T_5ea3c7be_0521_11eb_ab21_3202682a814arow4_col4 {\n",
       "            background-color:  #008000;\n",
       "            color:  #f1f1f1;\n",
       "        }    #T_5ea3c7be_0521_11eb_ab21_3202682a814arow4_col5 {\n",
       "            background-color:  #008000;\n",
       "            color:  #f1f1f1;\n",
       "        }    #T_5ea3c7be_0521_11eb_ab21_3202682a814arow4_col6 {\n",
       "            background-color:  #c4edc4;\n",
       "            color:  #000000;\n",
       "        }    #T_5ea3c7be_0521_11eb_ab21_3202682a814arow4_col7 {\n",
       "            background-color:  #d5f6d5;\n",
       "            color:  #000000;\n",
       "        }    #T_5ea3c7be_0521_11eb_ab21_3202682a814arow4_col8 {\n",
       "            background-color:  #d8f8d8;\n",
       "            color:  #000000;\n",
       "        }    #T_5ea3c7be_0521_11eb_ab21_3202682a814arow4_col9 {\n",
       "            background-color:  #b1e2b1;\n",
       "            color:  #000000;\n",
       "        }    #T_5ea3c7be_0521_11eb_ab21_3202682a814arow4_col10 {\n",
       "            background-color:  #b1e2b1;\n",
       "            color:  #000000;\n",
       "        }    #T_5ea3c7be_0521_11eb_ab21_3202682a814arow4_col11 {\n",
       "            background-color:  #bae7ba;\n",
       "            color:  #000000;\n",
       "        }    #T_5ea3c7be_0521_11eb_ab21_3202682a814arow4_col12 {\n",
       "            background-color:  #ade0ad;\n",
       "            color:  #000000;\n",
       "        }    #T_5ea3c7be_0521_11eb_ab21_3202682a814arow4_col13 {\n",
       "            background-color:  #028102;\n",
       "            color:  #f1f1f1;\n",
       "        }    #T_5ea3c7be_0521_11eb_ab21_3202682a814arow4_col14 {\n",
       "            background-color:  #c9efc9;\n",
       "            color:  #000000;\n",
       "        }    #T_5ea3c7be_0521_11eb_ab21_3202682a814arow4_col15 {\n",
       "            background-color:  #b6e5b6;\n",
       "            color:  #000000;\n",
       "        }    #T_5ea3c7be_0521_11eb_ab21_3202682a814arow5_col0 {\n",
       "            background-color:  #d5f6d5;\n",
       "            color:  #000000;\n",
       "        }    #T_5ea3c7be_0521_11eb_ab21_3202682a814arow5_col1 {\n",
       "            background-color:  #c4edc4;\n",
       "            color:  #000000;\n",
       "        }    #T_5ea3c7be_0521_11eb_ab21_3202682a814arow5_col2 {\n",
       "            background-color:  #cbf1cb;\n",
       "            color:  #000000;\n",
       "        }    #T_5ea3c7be_0521_11eb_ab21_3202682a814arow5_col3 {\n",
       "            background-color:  #0b860b;\n",
       "            color:  #f1f1f1;\n",
       "        }    #T_5ea3c7be_0521_11eb_ab21_3202682a814arow5_col4 {\n",
       "            background-color:  #008000;\n",
       "            color:  #f1f1f1;\n",
       "        }    #T_5ea3c7be_0521_11eb_ab21_3202682a814arow5_col5 {\n",
       "            background-color:  #008000;\n",
       "            color:  #f1f1f1;\n",
       "        }    #T_5ea3c7be_0521_11eb_ab21_3202682a814arow5_col6 {\n",
       "            background-color:  #c4edc4;\n",
       "            color:  #000000;\n",
       "        }    #T_5ea3c7be_0521_11eb_ab21_3202682a814arow5_col7 {\n",
       "            background-color:  #d5f6d5;\n",
       "            color:  #000000;\n",
       "        }    #T_5ea3c7be_0521_11eb_ab21_3202682a814arow5_col8 {\n",
       "            background-color:  #d8f8d8;\n",
       "            color:  #000000;\n",
       "        }    #T_5ea3c7be_0521_11eb_ab21_3202682a814arow5_col9 {\n",
       "            background-color:  #b1e2b1;\n",
       "            color:  #000000;\n",
       "        }    #T_5ea3c7be_0521_11eb_ab21_3202682a814arow5_col10 {\n",
       "            background-color:  #b1e2b1;\n",
       "            color:  #000000;\n",
       "        }    #T_5ea3c7be_0521_11eb_ab21_3202682a814arow5_col11 {\n",
       "            background-color:  #bae7ba;\n",
       "            color:  #000000;\n",
       "        }    #T_5ea3c7be_0521_11eb_ab21_3202682a814arow5_col12 {\n",
       "            background-color:  #ade0ad;\n",
       "            color:  #000000;\n",
       "        }    #T_5ea3c7be_0521_11eb_ab21_3202682a814arow5_col13 {\n",
       "            background-color:  #028102;\n",
       "            color:  #f1f1f1;\n",
       "        }    #T_5ea3c7be_0521_11eb_ab21_3202682a814arow5_col14 {\n",
       "            background-color:  #c9efc9;\n",
       "            color:  #000000;\n",
       "        }    #T_5ea3c7be_0521_11eb_ab21_3202682a814arow5_col15 {\n",
       "            background-color:  #b6e5b6;\n",
       "            color:  #000000;\n",
       "        }    #T_5ea3c7be_0521_11eb_ab21_3202682a814arow6_col0 {\n",
       "            background-color:  #d9f8d9;\n",
       "            color:  #000000;\n",
       "        }    #T_5ea3c7be_0521_11eb_ab21_3202682a814arow6_col1 {\n",
       "            background-color:  #aee0ae;\n",
       "            color:  #000000;\n",
       "        }    #T_5ea3c7be_0521_11eb_ab21_3202682a814arow6_col2 {\n",
       "            background-color:  #dcfadc;\n",
       "            color:  #000000;\n",
       "        }    #T_5ea3c7be_0521_11eb_ab21_3202682a814arow6_col3 {\n",
       "            background-color:  #c8efc8;\n",
       "            color:  #000000;\n",
       "        }    #T_5ea3c7be_0521_11eb_ab21_3202682a814arow6_col4 {\n",
       "            background-color:  #c5edc5;\n",
       "            color:  #000000;\n",
       "        }    #T_5ea3c7be_0521_11eb_ab21_3202682a814arow6_col5 {\n",
       "            background-color:  #c5edc5;\n",
       "            color:  #000000;\n",
       "        }    #T_5ea3c7be_0521_11eb_ab21_3202682a814arow6_col6 {\n",
       "            background-color:  #008000;\n",
       "            color:  #f1f1f1;\n",
       "        }    #T_5ea3c7be_0521_11eb_ab21_3202682a814arow6_col7 {\n",
       "            background-color:  #d9f8d9;\n",
       "            color:  #000000;\n",
       "        }    #T_5ea3c7be_0521_11eb_ab21_3202682a814arow6_col8 {\n",
       "            background-color:  #cbf1cb;\n",
       "            color:  #000000;\n",
       "        }    #T_5ea3c7be_0521_11eb_ab21_3202682a814arow6_col9 {\n",
       "            background-color:  #b7e5b7;\n",
       "            color:  #000000;\n",
       "        }    #T_5ea3c7be_0521_11eb_ab21_3202682a814arow6_col10 {\n",
       "            background-color:  #b8e6b8;\n",
       "            color:  #000000;\n",
       "        }    #T_5ea3c7be_0521_11eb_ab21_3202682a814arow6_col11 {\n",
       "            background-color:  #aadeaa;\n",
       "            color:  #000000;\n",
       "        }    #T_5ea3c7be_0521_11eb_ab21_3202682a814arow6_col12 {\n",
       "            background-color:  #a7dda7;\n",
       "            color:  #000000;\n",
       "        }    #T_5ea3c7be_0521_11eb_ab21_3202682a814arow6_col13 {\n",
       "            background-color:  #d5f6d5;\n",
       "            color:  #000000;\n",
       "        }    #T_5ea3c7be_0521_11eb_ab21_3202682a814arow6_col14 {\n",
       "            background-color:  #cff3cf;\n",
       "            color:  #000000;\n",
       "        }    #T_5ea3c7be_0521_11eb_ab21_3202682a814arow6_col15 {\n",
       "            background-color:  #bce8bc;\n",
       "            color:  #000000;\n",
       "        }    #T_5ea3c7be_0521_11eb_ab21_3202682a814arow7_col0 {\n",
       "            background-color:  #008000;\n",
       "            color:  #f1f1f1;\n",
       "        }    #T_5ea3c7be_0521_11eb_ab21_3202682a814arow7_col1 {\n",
       "            background-color:  #c4edc4;\n",
       "            color:  #000000;\n",
       "        }    #T_5ea3c7be_0521_11eb_ab21_3202682a814arow7_col2 {\n",
       "            background-color:  #c2ecc2;\n",
       "            color:  #000000;\n",
       "        }    #T_5ea3c7be_0521_11eb_ab21_3202682a814arow7_col3 {\n",
       "            background-color:  #cef2ce;\n",
       "            color:  #000000;\n",
       "        }    #T_5ea3c7be_0521_11eb_ab21_3202682a814arow7_col4 {\n",
       "            background-color:  #cbf1cb;\n",
       "            color:  #000000;\n",
       "        }    #T_5ea3c7be_0521_11eb_ab21_3202682a814arow7_col5 {\n",
       "            background-color:  #cbf1cb;\n",
       "            color:  #000000;\n",
       "        }    #T_5ea3c7be_0521_11eb_ab21_3202682a814arow7_col6 {\n",
       "            background-color:  #cdf2cd;\n",
       "            color:  #000000;\n",
       "        }    #T_5ea3c7be_0521_11eb_ab21_3202682a814arow7_col7 {\n",
       "            background-color:  #008000;\n",
       "            color:  #f1f1f1;\n",
       "        }    #T_5ea3c7be_0521_11eb_ab21_3202682a814arow7_col8 {\n",
       "            background-color:  #b1e2b1;\n",
       "            color:  #000000;\n",
       "        }    #T_5ea3c7be_0521_11eb_ab21_3202682a814arow7_col9 {\n",
       "            background-color:  #89cc89;\n",
       "            color:  #000000;\n",
       "        }    #T_5ea3c7be_0521_11eb_ab21_3202682a814arow7_col10 {\n",
       "            background-color:  #90d090;\n",
       "            color:  #000000;\n",
       "        }    #T_5ea3c7be_0521_11eb_ab21_3202682a814arow7_col11 {\n",
       "            background-color:  #b1e2b1;\n",
       "            color:  #000000;\n",
       "        }    #T_5ea3c7be_0521_11eb_ab21_3202682a814arow7_col12 {\n",
       "            background-color:  #89cc89;\n",
       "            color:  #000000;\n",
       "        }    #T_5ea3c7be_0521_11eb_ab21_3202682a814arow7_col13 {\n",
       "            background-color:  #dcfadc;\n",
       "            color:  #000000;\n",
       "        }    #T_5ea3c7be_0521_11eb_ab21_3202682a814arow7_col14 {\n",
       "            background-color:  #b8e6b8;\n",
       "            color:  #000000;\n",
       "        }    #T_5ea3c7be_0521_11eb_ab21_3202682a814arow7_col15 {\n",
       "            background-color:  #9ed79e;\n",
       "            color:  #000000;\n",
       "        }    #T_5ea3c7be_0521_11eb_ab21_3202682a814arow8_col0 {\n",
       "            background-color:  #bde9bd;\n",
       "            color:  #000000;\n",
       "        }    #T_5ea3c7be_0521_11eb_ab21_3202682a814arow8_col1 {\n",
       "            background-color:  #c3ecc3;\n",
       "            color:  #000000;\n",
       "        }    #T_5ea3c7be_0521_11eb_ab21_3202682a814arow8_col2 {\n",
       "            background-color:  #c9efc9;\n",
       "            color:  #000000;\n",
       "        }    #T_5ea3c7be_0521_11eb_ab21_3202682a814arow8_col3 {\n",
       "            background-color:  #dffcdf;\n",
       "            color:  #000000;\n",
       "        }    #T_5ea3c7be_0521_11eb_ab21_3202682a814arow8_col4 {\n",
       "            background-color:  #dcfadc;\n",
       "            color:  #000000;\n",
       "        }    #T_5ea3c7be_0521_11eb_ab21_3202682a814arow8_col5 {\n",
       "            background-color:  #dcfadc;\n",
       "            color:  #000000;\n",
       "        }    #T_5ea3c7be_0521_11eb_ab21_3202682a814arow8_col6 {\n",
       "            background-color:  #cef2ce;\n",
       "            color:  #000000;\n",
       "        }    #T_5ea3c7be_0521_11eb_ab21_3202682a814arow8_col7 {\n",
       "            background-color:  #bde9bd;\n",
       "            color:  #000000;\n",
       "        }    #T_5ea3c7be_0521_11eb_ab21_3202682a814arow8_col8 {\n",
       "            background-color:  #008000;\n",
       "            color:  #f1f1f1;\n",
       "        }    #T_5ea3c7be_0521_11eb_ab21_3202682a814arow8_col9 {\n",
       "            background-color:  #bae7ba;\n",
       "            color:  #000000;\n",
       "        }    #T_5ea3c7be_0521_11eb_ab21_3202682a814arow8_col10 {\n",
       "            background-color:  #bfeabf;\n",
       "            color:  #000000;\n",
       "        }    #T_5ea3c7be_0521_11eb_ab21_3202682a814arow8_col11 {\n",
       "            background-color:  #68ba68;\n",
       "            color:  #000000;\n",
       "        }    #T_5ea3c7be_0521_11eb_ab21_3202682a814arow8_col12 {\n",
       "            background-color:  #bee9be;\n",
       "            color:  #000000;\n",
       "        }    #T_5ea3c7be_0521_11eb_ab21_3202682a814arow8_col13 {\n",
       "            background-color:  #daf9da;\n",
       "            color:  #000000;\n",
       "        }    #T_5ea3c7be_0521_11eb_ab21_3202682a814arow8_col14 {\n",
       "            background-color:  #d1f4d1;\n",
       "            color:  #000000;\n",
       "        }    #T_5ea3c7be_0521_11eb_ab21_3202682a814arow8_col15 {\n",
       "            background-color:  #c6eec6;\n",
       "            color:  #000000;\n",
       "        }    #T_5ea3c7be_0521_11eb_ab21_3202682a814arow9_col0 {\n",
       "            background-color:  #a4dba4;\n",
       "            color:  #000000;\n",
       "        }    #T_5ea3c7be_0521_11eb_ab21_3202682a814arow9_col1 {\n",
       "            background-color:  #c4edc4;\n",
       "            color:  #000000;\n",
       "        }    #T_5ea3c7be_0521_11eb_ab21_3202682a814arow9_col2 {\n",
       "            background-color:  #c4edc4;\n",
       "            color:  #000000;\n",
       "        }    #T_5ea3c7be_0521_11eb_ab21_3202682a814arow9_col3 {\n",
       "            background-color:  #cdf2cd;\n",
       "            color:  #000000;\n",
       "        }    #T_5ea3c7be_0521_11eb_ab21_3202682a814arow9_col4 {\n",
       "            background-color:  #caf0ca;\n",
       "            color:  #000000;\n",
       "        }    #T_5ea3c7be_0521_11eb_ab21_3202682a814arow9_col5 {\n",
       "            background-color:  #caf0ca;\n",
       "            color:  #000000;\n",
       "        }    #T_5ea3c7be_0521_11eb_ab21_3202682a814arow9_col6 {\n",
       "            background-color:  #cff3cf;\n",
       "            color:  #000000;\n",
       "        }    #T_5ea3c7be_0521_11eb_ab21_3202682a814arow9_col7 {\n",
       "            background-color:  #a4dba4;\n",
       "            color:  #000000;\n",
       "        }    #T_5ea3c7be_0521_11eb_ab21_3202682a814arow9_col8 {\n",
       "            background-color:  #d1f4d1;\n",
       "            color:  #000000;\n",
       "        }    #T_5ea3c7be_0521_11eb_ab21_3202682a814arow9_col9 {\n",
       "            background-color:  #008000;\n",
       "            color:  #f1f1f1;\n",
       "        }    #T_5ea3c7be_0521_11eb_ab21_3202682a814arow9_col10 {\n",
       "            background-color:  #bae7ba;\n",
       "            color:  #000000;\n",
       "        }    #T_5ea3c7be_0521_11eb_ab21_3202682a814arow9_col11 {\n",
       "            background-color:  #d4f6d4;\n",
       "            color:  #000000;\n",
       "        }    #T_5ea3c7be_0521_11eb_ab21_3202682a814arow9_col12 {\n",
       "            background-color:  #7cc57c;\n",
       "            color:  #000000;\n",
       "        }    #T_5ea3c7be_0521_11eb_ab21_3202682a814arow9_col13 {\n",
       "            background-color:  #d8f8d8;\n",
       "            color:  #000000;\n",
       "        }    #T_5ea3c7be_0521_11eb_ab21_3202682a814arow9_col14 {\n",
       "            background-color:  #ccf1cc;\n",
       "            color:  #000000;\n",
       "        }    #T_5ea3c7be_0521_11eb_ab21_3202682a814arow9_col15 {\n",
       "            background-color:  #53ae53;\n",
       "            color:  #000000;\n",
       "        }    #T_5ea3c7be_0521_11eb_ab21_3202682a814arow10_col0 {\n",
       "            background-color:  #abdfab;\n",
       "            color:  #000000;\n",
       "        }    #T_5ea3c7be_0521_11eb_ab21_3202682a814arow10_col1 {\n",
       "            background-color:  #c7eec7;\n",
       "            color:  #000000;\n",
       "        }    #T_5ea3c7be_0521_11eb_ab21_3202682a814arow10_col2 {\n",
       "            background-color:  #c1ebc1;\n",
       "            color:  #000000;\n",
       "        }    #T_5ea3c7be_0521_11eb_ab21_3202682a814arow10_col3 {\n",
       "            background-color:  #caf0ca;\n",
       "            color:  #000000;\n",
       "        }    #T_5ea3c7be_0521_11eb_ab21_3202682a814arow10_col4 {\n",
       "            background-color:  #c9efc9;\n",
       "            color:  #000000;\n",
       "        }    #T_5ea3c7be_0521_11eb_ab21_3202682a814arow10_col5 {\n",
       "            background-color:  #c9efc9;\n",
       "            color:  #000000;\n",
       "        }    #T_5ea3c7be_0521_11eb_ab21_3202682a814arow10_col6 {\n",
       "            background-color:  #cef2ce;\n",
       "            color:  #000000;\n",
       "        }    #T_5ea3c7be_0521_11eb_ab21_3202682a814arow10_col7 {\n",
       "            background-color:  #abdfab;\n",
       "            color:  #000000;\n",
       "        }    #T_5ea3c7be_0521_11eb_ab21_3202682a814arow10_col8 {\n",
       "            background-color:  #d3f5d3;\n",
       "            color:  #000000;\n",
       "        }    #T_5ea3c7be_0521_11eb_ab21_3202682a814arow10_col9 {\n",
       "            background-color:  #b9e7b9;\n",
       "            color:  #000000;\n",
       "        }    #T_5ea3c7be_0521_11eb_ab21_3202682a814arow10_col10 {\n",
       "            background-color:  #008000;\n",
       "            color:  #f1f1f1;\n",
       "        }    #T_5ea3c7be_0521_11eb_ab21_3202682a814arow10_col11 {\n",
       "            background-color:  #d3f5d3;\n",
       "            color:  #000000;\n",
       "        }    #T_5ea3c7be_0521_11eb_ab21_3202682a814arow10_col12 {\n",
       "            background-color:  #67b967;\n",
       "            color:  #000000;\n",
       "        }    #T_5ea3c7be_0521_11eb_ab21_3202682a814arow10_col13 {\n",
       "            background-color:  #d5f6d5;\n",
       "            color:  #000000;\n",
       "        }    #T_5ea3c7be_0521_11eb_ab21_3202682a814arow10_col14 {\n",
       "            background-color:  #70be70;\n",
       "            color:  #000000;\n",
       "        }    #T_5ea3c7be_0521_11eb_ab21_3202682a814arow10_col15 {\n",
       "            background-color:  #aadeaa;\n",
       "            color:  #000000;\n",
       "        }    #T_5ea3c7be_0521_11eb_ab21_3202682a814arow11_col0 {\n",
       "            background-color:  #e5ffe5;\n",
       "            color:  #000000;\n",
       "        }    #T_5ea3c7be_0521_11eb_ab21_3202682a814arow11_col1 {\n",
       "            background-color:  #c9efc9;\n",
       "            color:  #000000;\n",
       "        }    #T_5ea3c7be_0521_11eb_ab21_3202682a814arow11_col2 {\n",
       "            background-color:  #c2ecc2;\n",
       "            color:  #000000;\n",
       "        }    #T_5ea3c7be_0521_11eb_ab21_3202682a814arow11_col3 {\n",
       "            background-color:  #e5ffe5;\n",
       "            color:  #000000;\n",
       "        }    #T_5ea3c7be_0521_11eb_ab21_3202682a814arow11_col4 {\n",
       "            background-color:  #e5ffe5;\n",
       "            color:  #000000;\n",
       "        }    #T_5ea3c7be_0521_11eb_ab21_3202682a814arow11_col5 {\n",
       "            background-color:  #e5ffe5;\n",
       "            color:  #000000;\n",
       "        }    #T_5ea3c7be_0521_11eb_ab21_3202682a814arow11_col6 {\n",
       "            background-color:  #d1f4d1;\n",
       "            color:  #000000;\n",
       "        }    #T_5ea3c7be_0521_11eb_ab21_3202682a814arow11_col7 {\n",
       "            background-color:  #e5ffe5;\n",
       "            color:  #000000;\n",
       "        }    #T_5ea3c7be_0521_11eb_ab21_3202682a814arow11_col8 {\n",
       "            background-color:  #7ec67e;\n",
       "            color:  #000000;\n",
       "        }    #T_5ea3c7be_0521_11eb_ab21_3202682a814arow11_col9 {\n",
       "            background-color:  #e5ffe5;\n",
       "            color:  #000000;\n",
       "        }    #T_5ea3c7be_0521_11eb_ab21_3202682a814arow11_col10 {\n",
       "            background-color:  #e5ffe5;\n",
       "            color:  #000000;\n",
       "        }    #T_5ea3c7be_0521_11eb_ab21_3202682a814arow11_col11 {\n",
       "            background-color:  #008000;\n",
       "            color:  #f1f1f1;\n",
       "        }    #T_5ea3c7be_0521_11eb_ab21_3202682a814arow11_col12 {\n",
       "            background-color:  #e5ffe5;\n",
       "            color:  #000000;\n",
       "        }    #T_5ea3c7be_0521_11eb_ab21_3202682a814arow11_col13 {\n",
       "            background-color:  #e2fde2;\n",
       "            color:  #000000;\n",
       "        }    #T_5ea3c7be_0521_11eb_ab21_3202682a814arow11_col14 {\n",
       "            background-color:  #e5ffe5;\n",
       "            color:  #000000;\n",
       "        }    #T_5ea3c7be_0521_11eb_ab21_3202682a814arow11_col15 {\n",
       "            background-color:  #e5ffe5;\n",
       "            color:  #000000;\n",
       "        }    #T_5ea3c7be_0521_11eb_ab21_3202682a814arow12_col0 {\n",
       "            background-color:  #b0e2b0;\n",
       "            color:  #000000;\n",
       "        }    #T_5ea3c7be_0521_11eb_ab21_3202682a814arow12_col1 {\n",
       "            background-color:  #c4edc4;\n",
       "            color:  #000000;\n",
       "        }    #T_5ea3c7be_0521_11eb_ab21_3202682a814arow12_col2 {\n",
       "            background-color:  #caf0ca;\n",
       "            color:  #000000;\n",
       "        }    #T_5ea3c7be_0521_11eb_ab21_3202682a814arow12_col3 {\n",
       "            background-color:  #daf9da;\n",
       "            color:  #000000;\n",
       "        }    #T_5ea3c7be_0521_11eb_ab21_3202682a814arow12_col4 {\n",
       "            background-color:  #d5f6d5;\n",
       "            color:  #000000;\n",
       "        }    #T_5ea3c7be_0521_11eb_ab21_3202682a814arow12_col5 {\n",
       "            background-color:  #d5f6d5;\n",
       "            color:  #000000;\n",
       "        }    #T_5ea3c7be_0521_11eb_ab21_3202682a814arow12_col6 {\n",
       "            background-color:  #ccf1cc;\n",
       "            color:  #000000;\n",
       "        }    #T_5ea3c7be_0521_11eb_ab21_3202682a814arow12_col7 {\n",
       "            background-color:  #b0e2b0;\n",
       "            color:  #000000;\n",
       "        }    #T_5ea3c7be_0521_11eb_ab21_3202682a814arow12_col8 {\n",
       "            background-color:  #e5ffe5;\n",
       "            color:  #000000;\n",
       "        }    #T_5ea3c7be_0521_11eb_ab21_3202682a814arow12_col9 {\n",
       "            background-color:  #87cb87;\n",
       "            color:  #000000;\n",
       "        }    #T_5ea3c7be_0521_11eb_ab21_3202682a814arow12_col10 {\n",
       "            background-color:  #71bf71;\n",
       "            color:  #000000;\n",
       "        }    #T_5ea3c7be_0521_11eb_ab21_3202682a814arow12_col11 {\n",
       "            background-color:  #e5ffe5;\n",
       "            color:  #000000;\n",
       "        }    #T_5ea3c7be_0521_11eb_ab21_3202682a814arow12_col12 {\n",
       "            background-color:  #008000;\n",
       "            color:  #f1f1f1;\n",
       "        }    #T_5ea3c7be_0521_11eb_ab21_3202682a814arow12_col13 {\n",
       "            background-color:  #e5ffe5;\n",
       "            color:  #000000;\n",
       "        }    #T_5ea3c7be_0521_11eb_ab21_3202682a814arow12_col14 {\n",
       "            background-color:  #a2daa2;\n",
       "            color:  #000000;\n",
       "        }    #T_5ea3c7be_0521_11eb_ab21_3202682a814arow12_col15 {\n",
       "            background-color:  #9bd69b;\n",
       "            color:  #000000;\n",
       "        }    #T_5ea3c7be_0521_11eb_ab21_3202682a814arow13_col0 {\n",
       "            background-color:  #d9f8d9;\n",
       "            color:  #000000;\n",
       "        }    #T_5ea3c7be_0521_11eb_ab21_3202682a814arow13_col1 {\n",
       "            background-color:  #c6eec6;\n",
       "            color:  #000000;\n",
       "        }    #T_5ea3c7be_0521_11eb_ab21_3202682a814arow13_col2 {\n",
       "            background-color:  #c8efc8;\n",
       "            color:  #000000;\n",
       "        }    #T_5ea3c7be_0521_11eb_ab21_3202682a814arow13_col3 {\n",
       "            background-color:  #068306;\n",
       "            color:  #f1f1f1;\n",
       "        }    #T_5ea3c7be_0521_11eb_ab21_3202682a814arow13_col4 {\n",
       "            background-color:  #028102;\n",
       "            color:  #f1f1f1;\n",
       "        }    #T_5ea3c7be_0521_11eb_ab21_3202682a814arow13_col5 {\n",
       "            background-color:  #028102;\n",
       "            color:  #f1f1f1;\n",
       "        }    #T_5ea3c7be_0521_11eb_ab21_3202682a814arow13_col6 {\n",
       "            background-color:  #c8efc8;\n",
       "            color:  #000000;\n",
       "        }    #T_5ea3c7be_0521_11eb_ab21_3202682a814arow13_col7 {\n",
       "            background-color:  #d9f8d9;\n",
       "            color:  #000000;\n",
       "        }    #T_5ea3c7be_0521_11eb_ab21_3202682a814arow13_col8 {\n",
       "            background-color:  #caf0ca;\n",
       "            color:  #000000;\n",
       "        }    #T_5ea3c7be_0521_11eb_ab21_3202682a814arow13_col9 {\n",
       "            background-color:  #b2e3b2;\n",
       "            color:  #000000;\n",
       "        }    #T_5ea3c7be_0521_11eb_ab21_3202682a814arow13_col10 {\n",
       "            background-color:  #b1e2b1;\n",
       "            color:  #000000;\n",
       "        }    #T_5ea3c7be_0521_11eb_ab21_3202682a814arow13_col11 {\n",
       "            background-color:  #acdfac;\n",
       "            color:  #000000;\n",
       "        }    #T_5ea3c7be_0521_11eb_ab21_3202682a814arow13_col12 {\n",
       "            background-color:  #b0e1b0;\n",
       "            color:  #000000;\n",
       "        }    #T_5ea3c7be_0521_11eb_ab21_3202682a814arow13_col13 {\n",
       "            background-color:  #008000;\n",
       "            color:  #f1f1f1;\n",
       "        }    #T_5ea3c7be_0521_11eb_ab21_3202682a814arow13_col14 {\n",
       "            background-color:  #bfeabf;\n",
       "            color:  #000000;\n",
       "        }    #T_5ea3c7be_0521_11eb_ab21_3202682a814arow13_col15 {\n",
       "            background-color:  #afe1af;\n",
       "            color:  #000000;\n",
       "        }    #T_5ea3c7be_0521_11eb_ab21_3202682a814arow14_col0 {\n",
       "            background-color:  #c3ecc3;\n",
       "            color:  #000000;\n",
       "        }    #T_5ea3c7be_0521_11eb_ab21_3202682a814arow14_col1 {\n",
       "            background-color:  #c6eec6;\n",
       "            color:  #000000;\n",
       "        }    #T_5ea3c7be_0521_11eb_ab21_3202682a814arow14_col2 {\n",
       "            background-color:  #c5edc5;\n",
       "            color:  #000000;\n",
       "        }    #T_5ea3c7be_0521_11eb_ab21_3202682a814arow14_col3 {\n",
       "            background-color:  #ccf1cc;\n",
       "            color:  #000000;\n",
       "        }    #T_5ea3c7be_0521_11eb_ab21_3202682a814arow14_col4 {\n",
       "            background-color:  #cbf1cb;\n",
       "            color:  #000000;\n",
       "        }    #T_5ea3c7be_0521_11eb_ab21_3202682a814arow14_col5 {\n",
       "            background-color:  #cbf1cb;\n",
       "            color:  #000000;\n",
       "        }    #T_5ea3c7be_0521_11eb_ab21_3202682a814arow14_col6 {\n",
       "            background-color:  #d1f4d1;\n",
       "            color:  #000000;\n",
       "        }    #T_5ea3c7be_0521_11eb_ab21_3202682a814arow14_col7 {\n",
       "            background-color:  #c3ecc3;\n",
       "            color:  #000000;\n",
       "        }    #T_5ea3c7be_0521_11eb_ab21_3202682a814arow14_col8 {\n",
       "            background-color:  #d0f3d0;\n",
       "            color:  #000000;\n",
       "        }    #T_5ea3c7be_0521_11eb_ab21_3202682a814arow14_col9 {\n",
       "            background-color:  #b6e5b6;\n",
       "            color:  #000000;\n",
       "        }    #T_5ea3c7be_0521_11eb_ab21_3202682a814arow14_col10 {\n",
       "            background-color:  #64b764;\n",
       "            color:  #000000;\n",
       "        }    #T_5ea3c7be_0521_11eb_ab21_3202682a814arow14_col11 {\n",
       "            background-color:  #bde9bd;\n",
       "            color:  #000000;\n",
       "        }    #T_5ea3c7be_0521_11eb_ab21_3202682a814arow14_col12 {\n",
       "            background-color:  #85ca85;\n",
       "            color:  #000000;\n",
       "        }    #T_5ea3c7be_0521_11eb_ab21_3202682a814arow14_col13 {\n",
       "            background-color:  #cef2ce;\n",
       "            color:  #000000;\n",
       "        }    #T_5ea3c7be_0521_11eb_ab21_3202682a814arow14_col14 {\n",
       "            background-color:  #008000;\n",
       "            color:  #f1f1f1;\n",
       "        }    #T_5ea3c7be_0521_11eb_ab21_3202682a814arow14_col15 {\n",
       "            background-color:  #c0eac0;\n",
       "            color:  #000000;\n",
       "        }    #T_5ea3c7be_0521_11eb_ab21_3202682a814arow15_col0 {\n",
       "            background-color:  #b4e4b4;\n",
       "            color:  #000000;\n",
       "        }    #T_5ea3c7be_0521_11eb_ab21_3202682a814arow15_col1 {\n",
       "            background-color:  #c3ecc3;\n",
       "            color:  #000000;\n",
       "        }    #T_5ea3c7be_0521_11eb_ab21_3202682a814arow15_col2 {\n",
       "            background-color:  #c4edc4;\n",
       "            color:  #000000;\n",
       "        }    #T_5ea3c7be_0521_11eb_ab21_3202682a814arow15_col3 {\n",
       "            background-color:  #c6eec6;\n",
       "            color:  #000000;\n",
       "        }    #T_5ea3c7be_0521_11eb_ab21_3202682a814arow15_col4 {\n",
       "            background-color:  #c6eec6;\n",
       "            color:  #000000;\n",
       "        }    #T_5ea3c7be_0521_11eb_ab21_3202682a814arow15_col5 {\n",
       "            background-color:  #c6eec6;\n",
       "            color:  #000000;\n",
       "        }    #T_5ea3c7be_0521_11eb_ab21_3202682a814arow15_col6 {\n",
       "            background-color:  #caf0ca;\n",
       "            color:  #000000;\n",
       "        }    #T_5ea3c7be_0521_11eb_ab21_3202682a814arow15_col7 {\n",
       "            background-color:  #b4e4b4;\n",
       "            color:  #000000;\n",
       "        }    #T_5ea3c7be_0521_11eb_ab21_3202682a814arow15_col8 {\n",
       "            background-color:  #d3f5d3;\n",
       "            color:  #000000;\n",
       "        }    #T_5ea3c7be_0521_11eb_ab21_3202682a814arow15_col9 {\n",
       "            background-color:  #4fac4f;\n",
       "            color:  #000000;\n",
       "        }    #T_5ea3c7be_0521_11eb_ab21_3202682a814arow15_col10 {\n",
       "            background-color:  #a3daa3;\n",
       "            color:  #000000;\n",
       "        }    #T_5ea3c7be_0521_11eb_ab21_3202682a814arow15_col11 {\n",
       "            background-color:  #caf0ca;\n",
       "            color:  #000000;\n",
       "        }    #T_5ea3c7be_0521_11eb_ab21_3202682a814arow15_col12 {\n",
       "            background-color:  #88cb88;\n",
       "            color:  #000000;\n",
       "        }    #T_5ea3c7be_0521_11eb_ab21_3202682a814arow15_col13 {\n",
       "            background-color:  #caf0ca;\n",
       "            color:  #000000;\n",
       "        }    #T_5ea3c7be_0521_11eb_ab21_3202682a814arow15_col14 {\n",
       "            background-color:  #cdf2cd;\n",
       "            color:  #000000;\n",
       "        }    #T_5ea3c7be_0521_11eb_ab21_3202682a814arow15_col15 {\n",
       "            background-color:  #008000;\n",
       "            color:  #f1f1f1;\n",
       "        }</style><table id=\"T_5ea3c7be_0521_11eb_ab21_3202682a814a\" ><thead>    <tr>        <th class=\"blank level0\" ></th>        <th class=\"col_heading level0 col0\" >SEVERITYCODE</th>        <th class=\"col_heading level0 col1\" >X</th>        <th class=\"col_heading level0 col2\" >Y</th>        <th class=\"col_heading level0 col3\" >OBJECTID</th>        <th class=\"col_heading level0 col4\" >INCKEY</th>        <th class=\"col_heading level0 col5\" >COLDETKEY</th>        <th class=\"col_heading level0 col6\" >INTKEY</th>        <th class=\"col_heading level0 col7\" >SEVERITYCODE.1</th>        <th class=\"col_heading level0 col8\" >PERSONCOUNT</th>        <th class=\"col_heading level0 col9\" >PEDCOUNT</th>        <th class=\"col_heading level0 col10\" >PEDCYLCOUNT</th>        <th class=\"col_heading level0 col11\" >VEHCOUNT</th>        <th class=\"col_heading level0 col12\" >SDOT_COLCODE</th>        <th class=\"col_heading level0 col13\" >SDOTCOLNUM</th>        <th class=\"col_heading level0 col14\" >SEGLANEKEY</th>        <th class=\"col_heading level0 col15\" >CROSSWALKKEY</th>    </tr></thead><tbody>\n",
       "                <tr>\n",
       "                        <th id=\"T_5ea3c7be_0521_11eb_ab21_3202682a814alevel0_row0\" class=\"row_heading level0 row0\" >SEVERITYCODE</th>\n",
       "                        <td id=\"T_5ea3c7be_0521_11eb_ab21_3202682a814arow0_col0\" class=\"data row0 col0\" >1.00</td>\n",
       "                        <td id=\"T_5ea3c7be_0521_11eb_ab21_3202682a814arow0_col1\" class=\"data row0 col1\" >0.01</td>\n",
       "                        <td id=\"T_5ea3c7be_0521_11eb_ab21_3202682a814arow0_col2\" class=\"data row0 col2\" >0.02</td>\n",
       "                        <td id=\"T_5ea3c7be_0521_11eb_ab21_3202682a814arow0_col3\" class=\"data row0 col3\" >0.02</td>\n",
       "                        <td id=\"T_5ea3c7be_0521_11eb_ab21_3202682a814arow0_col4\" class=\"data row0 col4\" >0.02</td>\n",
       "                        <td id=\"T_5ea3c7be_0521_11eb_ab21_3202682a814arow0_col5\" class=\"data row0 col5\" >0.02</td>\n",
       "                        <td id=\"T_5ea3c7be_0521_11eb_ab21_3202682a814arow0_col6\" class=\"data row0 col6\" >0.01</td>\n",
       "                        <td id=\"T_5ea3c7be_0521_11eb_ab21_3202682a814arow0_col7\" class=\"data row0 col7\" >1.00</td>\n",
       "                        <td id=\"T_5ea3c7be_0521_11eb_ab21_3202682a814arow0_col8\" class=\"data row0 col8\" >0.13</td>\n",
       "                        <td id=\"T_5ea3c7be_0521_11eb_ab21_3202682a814arow0_col9\" class=\"data row0 col9\" >0.25</td>\n",
       "                        <td id=\"T_5ea3c7be_0521_11eb_ab21_3202682a814arow0_col10\" class=\"data row0 col10\" >0.21</td>\n",
       "                        <td id=\"T_5ea3c7be_0521_11eb_ab21_3202682a814arow0_col11\" class=\"data row0 col11\" >-0.05</td>\n",
       "                        <td id=\"T_5ea3c7be_0521_11eb_ab21_3202682a814arow0_col12\" class=\"data row0 col12\" >0.19</td>\n",
       "                        <td id=\"T_5ea3c7be_0521_11eb_ab21_3202682a814arow0_col13\" class=\"data row0 col13\" >0.00</td>\n",
       "                        <td id=\"T_5ea3c7be_0521_11eb_ab21_3202682a814arow0_col14\" class=\"data row0 col14\" >0.10</td>\n",
       "                        <td id=\"T_5ea3c7be_0521_11eb_ab21_3202682a814arow0_col15\" class=\"data row0 col15\" >0.18</td>\n",
       "            </tr>\n",
       "            <tr>\n",
       "                        <th id=\"T_5ea3c7be_0521_11eb_ab21_3202682a814alevel0_row1\" class=\"row_heading level0 row1\" >X</th>\n",
       "                        <td id=\"T_5ea3c7be_0521_11eb_ab21_3202682a814arow1_col0\" class=\"data row1 col0\" >0.01</td>\n",
       "                        <td id=\"T_5ea3c7be_0521_11eb_ab21_3202682a814arow1_col1\" class=\"data row1 col1\" >1.00</td>\n",
       "                        <td id=\"T_5ea3c7be_0521_11eb_ab21_3202682a814arow1_col2\" class=\"data row1 col2\" >-0.16</td>\n",
       "                        <td id=\"T_5ea3c7be_0521_11eb_ab21_3202682a814arow1_col3\" class=\"data row1 col3\" >0.01</td>\n",
       "                        <td id=\"T_5ea3c7be_0521_11eb_ab21_3202682a814arow1_col4\" class=\"data row1 col4\" >0.01</td>\n",
       "                        <td id=\"T_5ea3c7be_0521_11eb_ab21_3202682a814arow1_col5\" class=\"data row1 col5\" >0.01</td>\n",
       "                        <td id=\"T_5ea3c7be_0521_11eb_ab21_3202682a814arow1_col6\" class=\"data row1 col6\" >0.12</td>\n",
       "                        <td id=\"T_5ea3c7be_0521_11eb_ab21_3202682a814arow1_col7\" class=\"data row1 col7\" >0.01</td>\n",
       "                        <td id=\"T_5ea3c7be_0521_11eb_ab21_3202682a814arow1_col8\" class=\"data row1 col8\" >0.01</td>\n",
       "                        <td id=\"T_5ea3c7be_0521_11eb_ab21_3202682a814arow1_col9\" class=\"data row1 col9\" >0.01</td>\n",
       "                        <td id=\"T_5ea3c7be_0521_11eb_ab21_3202682a814arow1_col10\" class=\"data row1 col10\" >-0.00</td>\n",
       "                        <td id=\"T_5ea3c7be_0521_11eb_ab21_3202682a814arow1_col11\" class=\"data row1 col11\" >-0.01</td>\n",
       "                        <td id=\"T_5ea3c7be_0521_11eb_ab21_3202682a814arow1_col12\" class=\"data row1 col12\" >0.01</td>\n",
       "                        <td id=\"T_5ea3c7be_0521_11eb_ab21_3202682a814arow1_col13\" class=\"data row1 col13\" >-0.00</td>\n",
       "                        <td id=\"T_5ea3c7be_0521_11eb_ab21_3202682a814arow1_col14\" class=\"data row1 col14\" >-0.00</td>\n",
       "                        <td id=\"T_5ea3c7be_0521_11eb_ab21_3202682a814arow1_col15\" class=\"data row1 col15\" >0.01</td>\n",
       "            </tr>\n",
       "            <tr>\n",
       "                        <th id=\"T_5ea3c7be_0521_11eb_ab21_3202682a814alevel0_row2\" class=\"row_heading level0 row2\" >Y</th>\n",
       "                        <td id=\"T_5ea3c7be_0521_11eb_ab21_3202682a814arow2_col0\" class=\"data row2 col0\" >0.02</td>\n",
       "                        <td id=\"T_5ea3c7be_0521_11eb_ab21_3202682a814arow2_col1\" class=\"data row2 col1\" >-0.16</td>\n",
       "                        <td id=\"T_5ea3c7be_0521_11eb_ab21_3202682a814arow2_col2\" class=\"data row2 col2\" >1.00</td>\n",
       "                        <td id=\"T_5ea3c7be_0521_11eb_ab21_3202682a814arow2_col3\" class=\"data row2 col3\" >-0.02</td>\n",
       "                        <td id=\"T_5ea3c7be_0521_11eb_ab21_3202682a814arow2_col4\" class=\"data row2 col4\" >-0.03</td>\n",
       "                        <td id=\"T_5ea3c7be_0521_11eb_ab21_3202682a814arow2_col5\" class=\"data row2 col5\" >-0.03</td>\n",
       "                        <td id=\"T_5ea3c7be_0521_11eb_ab21_3202682a814arow2_col6\" class=\"data row2 col6\" >-0.11</td>\n",
       "                        <td id=\"T_5ea3c7be_0521_11eb_ab21_3202682a814arow2_col7\" class=\"data row2 col7\" >0.02</td>\n",
       "                        <td id=\"T_5ea3c7be_0521_11eb_ab21_3202682a814arow2_col8\" class=\"data row2 col8\" >-0.01</td>\n",
       "                        <td id=\"T_5ea3c7be_0521_11eb_ab21_3202682a814arow2_col9\" class=\"data row2 col9\" >0.01</td>\n",
       "                        <td id=\"T_5ea3c7be_0521_11eb_ab21_3202682a814arow2_col10\" class=\"data row2 col10\" >0.03</td>\n",
       "                        <td id=\"T_5ea3c7be_0521_11eb_ab21_3202682a814arow2_col11\" class=\"data row2 col11\" >0.02</td>\n",
       "                        <td id=\"T_5ea3c7be_0521_11eb_ab21_3202682a814arow2_col12\" class=\"data row2 col12\" >-0.02</td>\n",
       "                        <td id=\"T_5ea3c7be_0521_11eb_ab21_3202682a814arow2_col13\" class=\"data row2 col13\" >-0.01</td>\n",
       "                        <td id=\"T_5ea3c7be_0521_11eb_ab21_3202682a814arow2_col14\" class=\"data row2 col14\" >0.00</td>\n",
       "                        <td id=\"T_5ea3c7be_0521_11eb_ab21_3202682a814arow2_col15\" class=\"data row2 col15\" >0.01</td>\n",
       "            </tr>\n",
       "            <tr>\n",
       "                        <th id=\"T_5ea3c7be_0521_11eb_ab21_3202682a814alevel0_row3\" class=\"row_heading level0 row3\" >OBJECTID</th>\n",
       "                        <td id=\"T_5ea3c7be_0521_11eb_ab21_3202682a814arow3_col0\" class=\"data row3 col0\" >0.02</td>\n",
       "                        <td id=\"T_5ea3c7be_0521_11eb_ab21_3202682a814arow3_col1\" class=\"data row3 col1\" >0.01</td>\n",
       "                        <td id=\"T_5ea3c7be_0521_11eb_ab21_3202682a814arow3_col2\" class=\"data row3 col2\" >-0.02</td>\n",
       "                        <td id=\"T_5ea3c7be_0521_11eb_ab21_3202682a814arow3_col3\" class=\"data row3 col3\" >1.00</td>\n",
       "                        <td id=\"T_5ea3c7be_0521_11eb_ab21_3202682a814arow3_col4\" class=\"data row3 col4\" >0.95</td>\n",
       "                        <td id=\"T_5ea3c7be_0521_11eb_ab21_3202682a814arow3_col5\" class=\"data row3 col5\" >0.95</td>\n",
       "                        <td id=\"T_5ea3c7be_0521_11eb_ab21_3202682a814arow3_col6\" class=\"data row3 col6\" >0.05</td>\n",
       "                        <td id=\"T_5ea3c7be_0521_11eb_ab21_3202682a814arow3_col7\" class=\"data row3 col7\" >0.02</td>\n",
       "                        <td id=\"T_5ea3c7be_0521_11eb_ab21_3202682a814arow3_col8\" class=\"data row3 col8\" >-0.06</td>\n",
       "                        <td id=\"T_5ea3c7be_0521_11eb_ab21_3202682a814arow3_col9\" class=\"data row3 col9\" >0.02</td>\n",
       "                        <td id=\"T_5ea3c7be_0521_11eb_ab21_3202682a814arow3_col10\" class=\"data row3 col10\" >0.03</td>\n",
       "                        <td id=\"T_5ea3c7be_0521_11eb_ab21_3202682a814arow3_col11\" class=\"data row3 col11\" >-0.09</td>\n",
       "                        <td id=\"T_5ea3c7be_0521_11eb_ab21_3202682a814arow3_col12\" class=\"data row3 col12\" >-0.04</td>\n",
       "                        <td id=\"T_5ea3c7be_0521_11eb_ab21_3202682a814arow3_col13\" class=\"data row3 col13\" >0.97</td>\n",
       "                        <td id=\"T_5ea3c7be_0521_11eb_ab21_3202682a814arow3_col14\" class=\"data row3 col14\" >0.03</td>\n",
       "                        <td id=\"T_5ea3c7be_0521_11eb_ab21_3202682a814arow3_col15\" class=\"data row3 col15\" >0.06</td>\n",
       "            </tr>\n",
       "            <tr>\n",
       "                        <th id=\"T_5ea3c7be_0521_11eb_ab21_3202682a814alevel0_row4\" class=\"row_heading level0 row4\" >INCKEY</th>\n",
       "                        <td id=\"T_5ea3c7be_0521_11eb_ab21_3202682a814arow4_col0\" class=\"data row4 col0\" >0.02</td>\n",
       "                        <td id=\"T_5ea3c7be_0521_11eb_ab21_3202682a814arow4_col1\" class=\"data row4 col1\" >0.01</td>\n",
       "                        <td id=\"T_5ea3c7be_0521_11eb_ab21_3202682a814arow4_col2\" class=\"data row4 col2\" >-0.03</td>\n",
       "                        <td id=\"T_5ea3c7be_0521_11eb_ab21_3202682a814arow4_col3\" class=\"data row4 col3\" >0.95</td>\n",
       "                        <td id=\"T_5ea3c7be_0521_11eb_ab21_3202682a814arow4_col4\" class=\"data row4 col4\" >1.00</td>\n",
       "                        <td id=\"T_5ea3c7be_0521_11eb_ab21_3202682a814arow4_col5\" class=\"data row4 col5\" >1.00</td>\n",
       "                        <td id=\"T_5ea3c7be_0521_11eb_ab21_3202682a814arow4_col6\" class=\"data row4 col6\" >0.05</td>\n",
       "                        <td id=\"T_5ea3c7be_0521_11eb_ab21_3202682a814arow4_col7\" class=\"data row4 col7\" >0.02</td>\n",
       "                        <td id=\"T_5ea3c7be_0521_11eb_ab21_3202682a814arow4_col8\" class=\"data row4 col8\" >-0.06</td>\n",
       "                        <td id=\"T_5ea3c7be_0521_11eb_ab21_3202682a814arow4_col9\" class=\"data row4 col9\" >0.02</td>\n",
       "                        <td id=\"T_5ea3c7be_0521_11eb_ab21_3202682a814arow4_col10\" class=\"data row4 col10\" >0.03</td>\n",
       "                        <td id=\"T_5ea3c7be_0521_11eb_ab21_3202682a814arow4_col11\" class=\"data row4 col11\" >-0.11</td>\n",
       "                        <td id=\"T_5ea3c7be_0521_11eb_ab21_3202682a814arow4_col12\" class=\"data row4 col12\" >-0.03</td>\n",
       "                        <td id=\"T_5ea3c7be_0521_11eb_ab21_3202682a814arow4_col13\" class=\"data row4 col13\" >0.99</td>\n",
       "                        <td id=\"T_5ea3c7be_0521_11eb_ab21_3202682a814arow4_col14\" class=\"data row4 col14\" >0.02</td>\n",
       "                        <td id=\"T_5ea3c7be_0521_11eb_ab21_3202682a814arow4_col15\" class=\"data row4 col15\" >0.05</td>\n",
       "            </tr>\n",
       "            <tr>\n",
       "                        <th id=\"T_5ea3c7be_0521_11eb_ab21_3202682a814alevel0_row5\" class=\"row_heading level0 row5\" >COLDETKEY</th>\n",
       "                        <td id=\"T_5ea3c7be_0521_11eb_ab21_3202682a814arow5_col0\" class=\"data row5 col0\" >0.02</td>\n",
       "                        <td id=\"T_5ea3c7be_0521_11eb_ab21_3202682a814arow5_col1\" class=\"data row5 col1\" >0.01</td>\n",
       "                        <td id=\"T_5ea3c7be_0521_11eb_ab21_3202682a814arow5_col2\" class=\"data row5 col2\" >-0.03</td>\n",
       "                        <td id=\"T_5ea3c7be_0521_11eb_ab21_3202682a814arow5_col3\" class=\"data row5 col3\" >0.95</td>\n",
       "                        <td id=\"T_5ea3c7be_0521_11eb_ab21_3202682a814arow5_col4\" class=\"data row5 col4\" >1.00</td>\n",
       "                        <td id=\"T_5ea3c7be_0521_11eb_ab21_3202682a814arow5_col5\" class=\"data row5 col5\" >1.00</td>\n",
       "                        <td id=\"T_5ea3c7be_0521_11eb_ab21_3202682a814arow5_col6\" class=\"data row5 col6\" >0.05</td>\n",
       "                        <td id=\"T_5ea3c7be_0521_11eb_ab21_3202682a814arow5_col7\" class=\"data row5 col7\" >0.02</td>\n",
       "                        <td id=\"T_5ea3c7be_0521_11eb_ab21_3202682a814arow5_col8\" class=\"data row5 col8\" >-0.06</td>\n",
       "                        <td id=\"T_5ea3c7be_0521_11eb_ab21_3202682a814arow5_col9\" class=\"data row5 col9\" >0.02</td>\n",
       "                        <td id=\"T_5ea3c7be_0521_11eb_ab21_3202682a814arow5_col10\" class=\"data row5 col10\" >0.03</td>\n",
       "                        <td id=\"T_5ea3c7be_0521_11eb_ab21_3202682a814arow5_col11\" class=\"data row5 col11\" >-0.11</td>\n",
       "                        <td id=\"T_5ea3c7be_0521_11eb_ab21_3202682a814arow5_col12\" class=\"data row5 col12\" >-0.03</td>\n",
       "                        <td id=\"T_5ea3c7be_0521_11eb_ab21_3202682a814arow5_col13\" class=\"data row5 col13\" >0.99</td>\n",
       "                        <td id=\"T_5ea3c7be_0521_11eb_ab21_3202682a814arow5_col14\" class=\"data row5 col14\" >0.02</td>\n",
       "                        <td id=\"T_5ea3c7be_0521_11eb_ab21_3202682a814arow5_col15\" class=\"data row5 col15\" >0.05</td>\n",
       "            </tr>\n",
       "            <tr>\n",
       "                        <th id=\"T_5ea3c7be_0521_11eb_ab21_3202682a814alevel0_row6\" class=\"row_heading level0 row6\" >INTKEY</th>\n",
       "                        <td id=\"T_5ea3c7be_0521_11eb_ab21_3202682a814arow6_col0\" class=\"data row6 col0\" >0.01</td>\n",
       "                        <td id=\"T_5ea3c7be_0521_11eb_ab21_3202682a814arow6_col1\" class=\"data row6 col1\" >0.12</td>\n",
       "                        <td id=\"T_5ea3c7be_0521_11eb_ab21_3202682a814arow6_col2\" class=\"data row6 col2\" >-0.11</td>\n",
       "                        <td id=\"T_5ea3c7be_0521_11eb_ab21_3202682a814arow6_col3\" class=\"data row6 col3\" >0.05</td>\n",
       "                        <td id=\"T_5ea3c7be_0521_11eb_ab21_3202682a814arow6_col4\" class=\"data row6 col4\" >0.05</td>\n",
       "                        <td id=\"T_5ea3c7be_0521_11eb_ab21_3202682a814arow6_col5\" class=\"data row6 col5\" >0.05</td>\n",
       "                        <td id=\"T_5ea3c7be_0521_11eb_ab21_3202682a814arow6_col6\" class=\"data row6 col6\" >1.00</td>\n",
       "                        <td id=\"T_5ea3c7be_0521_11eb_ab21_3202682a814arow6_col7\" class=\"data row6 col7\" >0.01</td>\n",
       "                        <td id=\"T_5ea3c7be_0521_11eb_ab21_3202682a814arow6_col8\" class=\"data row6 col8\" >0.00</td>\n",
       "                        <td id=\"T_5ea3c7be_0521_11eb_ab21_3202682a814arow6_col9\" class=\"data row6 col9\" >-0.00</td>\n",
       "                        <td id=\"T_5ea3c7be_0521_11eb_ab21_3202682a814arow6_col10\" class=\"data row6 col10\" >0.00</td>\n",
       "                        <td id=\"T_5ea3c7be_0521_11eb_ab21_3202682a814arow6_col11\" class=\"data row6 col11\" >-0.01</td>\n",
       "                        <td id=\"T_5ea3c7be_0521_11eb_ab21_3202682a814arow6_col12\" class=\"data row6 col12\" >0.01</td>\n",
       "                        <td id=\"T_5ea3c7be_0521_11eb_ab21_3202682a814arow6_col13\" class=\"data row6 col13\" >0.03</td>\n",
       "                        <td id=\"T_5ea3c7be_0521_11eb_ab21_3202682a814arow6_col14\" class=\"data row6 col14\" >-0.01</td>\n",
       "                        <td id=\"T_5ea3c7be_0521_11eb_ab21_3202682a814arow6_col15\" class=\"data row6 col15\" >0.02</td>\n",
       "            </tr>\n",
       "            <tr>\n",
       "                        <th id=\"T_5ea3c7be_0521_11eb_ab21_3202682a814alevel0_row7\" class=\"row_heading level0 row7\" >SEVERITYCODE.1</th>\n",
       "                        <td id=\"T_5ea3c7be_0521_11eb_ab21_3202682a814arow7_col0\" class=\"data row7 col0\" >1.00</td>\n",
       "                        <td id=\"T_5ea3c7be_0521_11eb_ab21_3202682a814arow7_col1\" class=\"data row7 col1\" >0.01</td>\n",
       "                        <td id=\"T_5ea3c7be_0521_11eb_ab21_3202682a814arow7_col2\" class=\"data row7 col2\" >0.02</td>\n",
       "                        <td id=\"T_5ea3c7be_0521_11eb_ab21_3202682a814arow7_col3\" class=\"data row7 col3\" >0.02</td>\n",
       "                        <td id=\"T_5ea3c7be_0521_11eb_ab21_3202682a814arow7_col4\" class=\"data row7 col4\" >0.02</td>\n",
       "                        <td id=\"T_5ea3c7be_0521_11eb_ab21_3202682a814arow7_col5\" class=\"data row7 col5\" >0.02</td>\n",
       "                        <td id=\"T_5ea3c7be_0521_11eb_ab21_3202682a814arow7_col6\" class=\"data row7 col6\" >0.01</td>\n",
       "                        <td id=\"T_5ea3c7be_0521_11eb_ab21_3202682a814arow7_col7\" class=\"data row7 col7\" >1.00</td>\n",
       "                        <td id=\"T_5ea3c7be_0521_11eb_ab21_3202682a814arow7_col8\" class=\"data row7 col8\" >0.13</td>\n",
       "                        <td id=\"T_5ea3c7be_0521_11eb_ab21_3202682a814arow7_col9\" class=\"data row7 col9\" >0.25</td>\n",
       "                        <td id=\"T_5ea3c7be_0521_11eb_ab21_3202682a814arow7_col10\" class=\"data row7 col10\" >0.21</td>\n",
       "                        <td id=\"T_5ea3c7be_0521_11eb_ab21_3202682a814arow7_col11\" class=\"data row7 col11\" >-0.05</td>\n",
       "                        <td id=\"T_5ea3c7be_0521_11eb_ab21_3202682a814arow7_col12\" class=\"data row7 col12\" >0.19</td>\n",
       "                        <td id=\"T_5ea3c7be_0521_11eb_ab21_3202682a814arow7_col13\" class=\"data row7 col13\" >0.00</td>\n",
       "                        <td id=\"T_5ea3c7be_0521_11eb_ab21_3202682a814arow7_col14\" class=\"data row7 col14\" >0.10</td>\n",
       "                        <td id=\"T_5ea3c7be_0521_11eb_ab21_3202682a814arow7_col15\" class=\"data row7 col15\" >0.18</td>\n",
       "            </tr>\n",
       "            <tr>\n",
       "                        <th id=\"T_5ea3c7be_0521_11eb_ab21_3202682a814alevel0_row8\" class=\"row_heading level0 row8\" >PERSONCOUNT</th>\n",
       "                        <td id=\"T_5ea3c7be_0521_11eb_ab21_3202682a814arow8_col0\" class=\"data row8 col0\" >0.13</td>\n",
       "                        <td id=\"T_5ea3c7be_0521_11eb_ab21_3202682a814arow8_col1\" class=\"data row8 col1\" >0.01</td>\n",
       "                        <td id=\"T_5ea3c7be_0521_11eb_ab21_3202682a814arow8_col2\" class=\"data row8 col2\" >-0.01</td>\n",
       "                        <td id=\"T_5ea3c7be_0521_11eb_ab21_3202682a814arow8_col3\" class=\"data row8 col3\" >-0.06</td>\n",
       "                        <td id=\"T_5ea3c7be_0521_11eb_ab21_3202682a814arow8_col4\" class=\"data row8 col4\" >-0.06</td>\n",
       "                        <td id=\"T_5ea3c7be_0521_11eb_ab21_3202682a814arow8_col5\" class=\"data row8 col5\" >-0.06</td>\n",
       "                        <td id=\"T_5ea3c7be_0521_11eb_ab21_3202682a814arow8_col6\" class=\"data row8 col6\" >0.00</td>\n",
       "                        <td id=\"T_5ea3c7be_0521_11eb_ab21_3202682a814arow8_col7\" class=\"data row8 col7\" >0.13</td>\n",
       "                        <td id=\"T_5ea3c7be_0521_11eb_ab21_3202682a814arow8_col8\" class=\"data row8 col8\" >1.00</td>\n",
       "                        <td id=\"T_5ea3c7be_0521_11eb_ab21_3202682a814arow8_col9\" class=\"data row8 col9\" >-0.02</td>\n",
       "                        <td id=\"T_5ea3c7be_0521_11eb_ab21_3202682a814arow8_col10\" class=\"data row8 col10\" >-0.04</td>\n",
       "                        <td id=\"T_5ea3c7be_0521_11eb_ab21_3202682a814arow8_col11\" class=\"data row8 col11\" >0.38</td>\n",
       "                        <td id=\"T_5ea3c7be_0521_11eb_ab21_3202682a814arow8_col12\" class=\"data row8 col12\" >-0.13</td>\n",
       "                        <td id=\"T_5ea3c7be_0521_11eb_ab21_3202682a814arow8_col13\" class=\"data row8 col13\" >0.01</td>\n",
       "                        <td id=\"T_5ea3c7be_0521_11eb_ab21_3202682a814arow8_col14\" class=\"data row8 col14\" >-0.02</td>\n",
       "                        <td id=\"T_5ea3c7be_0521_11eb_ab21_3202682a814arow8_col15\" class=\"data row8 col15\" >-0.03</td>\n",
       "            </tr>\n",
       "            <tr>\n",
       "                        <th id=\"T_5ea3c7be_0521_11eb_ab21_3202682a814alevel0_row9\" class=\"row_heading level0 row9\" >PEDCOUNT</th>\n",
       "                        <td id=\"T_5ea3c7be_0521_11eb_ab21_3202682a814arow9_col0\" class=\"data row9 col0\" >0.25</td>\n",
       "                        <td id=\"T_5ea3c7be_0521_11eb_ab21_3202682a814arow9_col1\" class=\"data row9 col1\" >0.01</td>\n",
       "                        <td id=\"T_5ea3c7be_0521_11eb_ab21_3202682a814arow9_col2\" class=\"data row9 col2\" >0.01</td>\n",
       "                        <td id=\"T_5ea3c7be_0521_11eb_ab21_3202682a814arow9_col3\" class=\"data row9 col3\" >0.02</td>\n",
       "                        <td id=\"T_5ea3c7be_0521_11eb_ab21_3202682a814arow9_col4\" class=\"data row9 col4\" >0.02</td>\n",
       "                        <td id=\"T_5ea3c7be_0521_11eb_ab21_3202682a814arow9_col5\" class=\"data row9 col5\" >0.02</td>\n",
       "                        <td id=\"T_5ea3c7be_0521_11eb_ab21_3202682a814arow9_col6\" class=\"data row9 col6\" >-0.00</td>\n",
       "                        <td id=\"T_5ea3c7be_0521_11eb_ab21_3202682a814arow9_col7\" class=\"data row9 col7\" >0.25</td>\n",
       "                        <td id=\"T_5ea3c7be_0521_11eb_ab21_3202682a814arow9_col8\" class=\"data row9 col8\" >-0.02</td>\n",
       "                        <td id=\"T_5ea3c7be_0521_11eb_ab21_3202682a814arow9_col9\" class=\"data row9 col9\" >1.00</td>\n",
       "                        <td id=\"T_5ea3c7be_0521_11eb_ab21_3202682a814arow9_col10\" class=\"data row9 col10\" >-0.02</td>\n",
       "                        <td id=\"T_5ea3c7be_0521_11eb_ab21_3202682a814arow9_col11\" class=\"data row9 col11\" >-0.26</td>\n",
       "                        <td id=\"T_5ea3c7be_0521_11eb_ab21_3202682a814arow9_col12\" class=\"data row9 col12\" >0.26</td>\n",
       "                        <td id=\"T_5ea3c7be_0521_11eb_ab21_3202682a814arow9_col13\" class=\"data row9 col13\" >0.02</td>\n",
       "                        <td id=\"T_5ea3c7be_0521_11eb_ab21_3202682a814arow9_col14\" class=\"data row9 col14\" >0.00</td>\n",
       "                        <td id=\"T_5ea3c7be_0521_11eb_ab21_3202682a814arow9_col15\" class=\"data row9 col15\" >0.57</td>\n",
       "            </tr>\n",
       "            <tr>\n",
       "                        <th id=\"T_5ea3c7be_0521_11eb_ab21_3202682a814alevel0_row10\" class=\"row_heading level0 row10\" >PEDCYLCOUNT</th>\n",
       "                        <td id=\"T_5ea3c7be_0521_11eb_ab21_3202682a814arow10_col0\" class=\"data row10 col0\" >0.21</td>\n",
       "                        <td id=\"T_5ea3c7be_0521_11eb_ab21_3202682a814arow10_col1\" class=\"data row10 col1\" >-0.00</td>\n",
       "                        <td id=\"T_5ea3c7be_0521_11eb_ab21_3202682a814arow10_col2\" class=\"data row10 col2\" >0.03</td>\n",
       "                        <td id=\"T_5ea3c7be_0521_11eb_ab21_3202682a814arow10_col3\" class=\"data row10 col3\" >0.03</td>\n",
       "                        <td id=\"T_5ea3c7be_0521_11eb_ab21_3202682a814arow10_col4\" class=\"data row10 col4\" >0.03</td>\n",
       "                        <td id=\"T_5ea3c7be_0521_11eb_ab21_3202682a814arow10_col5\" class=\"data row10 col5\" >0.03</td>\n",
       "                        <td id=\"T_5ea3c7be_0521_11eb_ab21_3202682a814arow10_col6\" class=\"data row10 col6\" >0.00</td>\n",
       "                        <td id=\"T_5ea3c7be_0521_11eb_ab21_3202682a814arow10_col7\" class=\"data row10 col7\" >0.21</td>\n",
       "                        <td id=\"T_5ea3c7be_0521_11eb_ab21_3202682a814arow10_col8\" class=\"data row10 col8\" >-0.04</td>\n",
       "                        <td id=\"T_5ea3c7be_0521_11eb_ab21_3202682a814arow10_col9\" class=\"data row10 col9\" >-0.02</td>\n",
       "                        <td id=\"T_5ea3c7be_0521_11eb_ab21_3202682a814arow10_col10\" class=\"data row10 col10\" >1.00</td>\n",
       "                        <td id=\"T_5ea3c7be_0521_11eb_ab21_3202682a814arow10_col11\" class=\"data row10 col11\" >-0.25</td>\n",
       "                        <td id=\"T_5ea3c7be_0521_11eb_ab21_3202682a814arow10_col12\" class=\"data row10 col12\" >0.38</td>\n",
       "                        <td id=\"T_5ea3c7be_0521_11eb_ab21_3202682a814arow10_col13\" class=\"data row10 col13\" >0.03</td>\n",
       "                        <td id=\"T_5ea3c7be_0521_11eb_ab21_3202682a814arow10_col14\" class=\"data row10 col14\" >0.45</td>\n",
       "                        <td id=\"T_5ea3c7be_0521_11eb_ab21_3202682a814arow10_col15\" class=\"data row10 col15\" >0.11</td>\n",
       "            </tr>\n",
       "            <tr>\n",
       "                        <th id=\"T_5ea3c7be_0521_11eb_ab21_3202682a814alevel0_row11\" class=\"row_heading level0 row11\" >VEHCOUNT</th>\n",
       "                        <td id=\"T_5ea3c7be_0521_11eb_ab21_3202682a814arow11_col0\" class=\"data row11 col0\" >-0.05</td>\n",
       "                        <td id=\"T_5ea3c7be_0521_11eb_ab21_3202682a814arow11_col1\" class=\"data row11 col1\" >-0.01</td>\n",
       "                        <td id=\"T_5ea3c7be_0521_11eb_ab21_3202682a814arow11_col2\" class=\"data row11 col2\" >0.02</td>\n",
       "                        <td id=\"T_5ea3c7be_0521_11eb_ab21_3202682a814arow11_col3\" class=\"data row11 col3\" >-0.09</td>\n",
       "                        <td id=\"T_5ea3c7be_0521_11eb_ab21_3202682a814arow11_col4\" class=\"data row11 col4\" >-0.11</td>\n",
       "                        <td id=\"T_5ea3c7be_0521_11eb_ab21_3202682a814arow11_col5\" class=\"data row11 col5\" >-0.11</td>\n",
       "                        <td id=\"T_5ea3c7be_0521_11eb_ab21_3202682a814arow11_col6\" class=\"data row11 col6\" >-0.01</td>\n",
       "                        <td id=\"T_5ea3c7be_0521_11eb_ab21_3202682a814arow11_col7\" class=\"data row11 col7\" >-0.05</td>\n",
       "                        <td id=\"T_5ea3c7be_0521_11eb_ab21_3202682a814arow11_col8\" class=\"data row11 col8\" >0.38</td>\n",
       "                        <td id=\"T_5ea3c7be_0521_11eb_ab21_3202682a814arow11_col9\" class=\"data row11 col9\" >-0.26</td>\n",
       "                        <td id=\"T_5ea3c7be_0521_11eb_ab21_3202682a814arow11_col10\" class=\"data row11 col10\" >-0.25</td>\n",
       "                        <td id=\"T_5ea3c7be_0521_11eb_ab21_3202682a814arow11_col11\" class=\"data row11 col11\" >1.00</td>\n",
       "                        <td id=\"T_5ea3c7be_0521_11eb_ab21_3202682a814arow11_col12\" class=\"data row11 col12\" >-0.37</td>\n",
       "                        <td id=\"T_5ea3c7be_0521_11eb_ab21_3202682a814arow11_col13\" class=\"data row11 col13\" >-0.02</td>\n",
       "                        <td id=\"T_5ea3c7be_0521_11eb_ab21_3202682a814arow11_col14\" class=\"data row11 col14\" >-0.12</td>\n",
       "                        <td id=\"T_5ea3c7be_0521_11eb_ab21_3202682a814arow11_col15\" class=\"data row11 col15\" >-0.20</td>\n",
       "            </tr>\n",
       "            <tr>\n",
       "                        <th id=\"T_5ea3c7be_0521_11eb_ab21_3202682a814alevel0_row12\" class=\"row_heading level0 row12\" >SDOT_COLCODE</th>\n",
       "                        <td id=\"T_5ea3c7be_0521_11eb_ab21_3202682a814arow12_col0\" class=\"data row12 col0\" >0.19</td>\n",
       "                        <td id=\"T_5ea3c7be_0521_11eb_ab21_3202682a814arow12_col1\" class=\"data row12 col1\" >0.01</td>\n",
       "                        <td id=\"T_5ea3c7be_0521_11eb_ab21_3202682a814arow12_col2\" class=\"data row12 col2\" >-0.02</td>\n",
       "                        <td id=\"T_5ea3c7be_0521_11eb_ab21_3202682a814arow12_col3\" class=\"data row12 col3\" >-0.04</td>\n",
       "                        <td id=\"T_5ea3c7be_0521_11eb_ab21_3202682a814arow12_col4\" class=\"data row12 col4\" >-0.03</td>\n",
       "                        <td id=\"T_5ea3c7be_0521_11eb_ab21_3202682a814arow12_col5\" class=\"data row12 col5\" >-0.03</td>\n",
       "                        <td id=\"T_5ea3c7be_0521_11eb_ab21_3202682a814arow12_col6\" class=\"data row12 col6\" >0.01</td>\n",
       "                        <td id=\"T_5ea3c7be_0521_11eb_ab21_3202682a814arow12_col7\" class=\"data row12 col7\" >0.19</td>\n",
       "                        <td id=\"T_5ea3c7be_0521_11eb_ab21_3202682a814arow12_col8\" class=\"data row12 col8\" >-0.13</td>\n",
       "                        <td id=\"T_5ea3c7be_0521_11eb_ab21_3202682a814arow12_col9\" class=\"data row12 col9\" >0.26</td>\n",
       "                        <td id=\"T_5ea3c7be_0521_11eb_ab21_3202682a814arow12_col10\" class=\"data row12 col10\" >0.38</td>\n",
       "                        <td id=\"T_5ea3c7be_0521_11eb_ab21_3202682a814arow12_col11\" class=\"data row12 col11\" >-0.37</td>\n",
       "                        <td id=\"T_5ea3c7be_0521_11eb_ab21_3202682a814arow12_col12\" class=\"data row12 col12\" >1.00</td>\n",
       "                        <td id=\"T_5ea3c7be_0521_11eb_ab21_3202682a814arow12_col13\" class=\"data row12 col13\" >-0.04</td>\n",
       "                        <td id=\"T_5ea3c7be_0521_11eb_ab21_3202682a814arow12_col14\" class=\"data row12 col14\" >0.21</td>\n",
       "                        <td id=\"T_5ea3c7be_0521_11eb_ab21_3202682a814arow12_col15\" class=\"data row12 col15\" >0.19</td>\n",
       "            </tr>\n",
       "            <tr>\n",
       "                        <th id=\"T_5ea3c7be_0521_11eb_ab21_3202682a814alevel0_row13\" class=\"row_heading level0 row13\" >SDOTCOLNUM</th>\n",
       "                        <td id=\"T_5ea3c7be_0521_11eb_ab21_3202682a814arow13_col0\" class=\"data row13 col0\" >0.00</td>\n",
       "                        <td id=\"T_5ea3c7be_0521_11eb_ab21_3202682a814arow13_col1\" class=\"data row13 col1\" >-0.00</td>\n",
       "                        <td id=\"T_5ea3c7be_0521_11eb_ab21_3202682a814arow13_col2\" class=\"data row13 col2\" >-0.01</td>\n",
       "                        <td id=\"T_5ea3c7be_0521_11eb_ab21_3202682a814arow13_col3\" class=\"data row13 col3\" >0.97</td>\n",
       "                        <td id=\"T_5ea3c7be_0521_11eb_ab21_3202682a814arow13_col4\" class=\"data row13 col4\" >0.99</td>\n",
       "                        <td id=\"T_5ea3c7be_0521_11eb_ab21_3202682a814arow13_col5\" class=\"data row13 col5\" >0.99</td>\n",
       "                        <td id=\"T_5ea3c7be_0521_11eb_ab21_3202682a814arow13_col6\" class=\"data row13 col6\" >0.03</td>\n",
       "                        <td id=\"T_5ea3c7be_0521_11eb_ab21_3202682a814arow13_col7\" class=\"data row13 col7\" >0.00</td>\n",
       "                        <td id=\"T_5ea3c7be_0521_11eb_ab21_3202682a814arow13_col8\" class=\"data row13 col8\" >0.01</td>\n",
       "                        <td id=\"T_5ea3c7be_0521_11eb_ab21_3202682a814arow13_col9\" class=\"data row13 col9\" >0.02</td>\n",
       "                        <td id=\"T_5ea3c7be_0521_11eb_ab21_3202682a814arow13_col10\" class=\"data row13 col10\" >0.03</td>\n",
       "                        <td id=\"T_5ea3c7be_0521_11eb_ab21_3202682a814arow13_col11\" class=\"data row13 col11\" >-0.02</td>\n",
       "                        <td id=\"T_5ea3c7be_0521_11eb_ab21_3202682a814arow13_col12\" class=\"data row13 col12\" >-0.04</td>\n",
       "                        <td id=\"T_5ea3c7be_0521_11eb_ab21_3202682a814arow13_col13\" class=\"data row13 col13\" >1.00</td>\n",
       "                        <td id=\"T_5ea3c7be_0521_11eb_ab21_3202682a814arow13_col14\" class=\"data row13 col14\" >0.07</td>\n",
       "                        <td id=\"T_5ea3c7be_0521_11eb_ab21_3202682a814arow13_col15\" class=\"data row13 col15\" >0.09</td>\n",
       "            </tr>\n",
       "            <tr>\n",
       "                        <th id=\"T_5ea3c7be_0521_11eb_ab21_3202682a814alevel0_row14\" class=\"row_heading level0 row14\" >SEGLANEKEY</th>\n",
       "                        <td id=\"T_5ea3c7be_0521_11eb_ab21_3202682a814arow14_col0\" class=\"data row14 col0\" >0.10</td>\n",
       "                        <td id=\"T_5ea3c7be_0521_11eb_ab21_3202682a814arow14_col1\" class=\"data row14 col1\" >-0.00</td>\n",
       "                        <td id=\"T_5ea3c7be_0521_11eb_ab21_3202682a814arow14_col2\" class=\"data row14 col2\" >0.00</td>\n",
       "                        <td id=\"T_5ea3c7be_0521_11eb_ab21_3202682a814arow14_col3\" class=\"data row14 col3\" >0.03</td>\n",
       "                        <td id=\"T_5ea3c7be_0521_11eb_ab21_3202682a814arow14_col4\" class=\"data row14 col4\" >0.02</td>\n",
       "                        <td id=\"T_5ea3c7be_0521_11eb_ab21_3202682a814arow14_col5\" class=\"data row14 col5\" >0.02</td>\n",
       "                        <td id=\"T_5ea3c7be_0521_11eb_ab21_3202682a814arow14_col6\" class=\"data row14 col6\" >-0.01</td>\n",
       "                        <td id=\"T_5ea3c7be_0521_11eb_ab21_3202682a814arow14_col7\" class=\"data row14 col7\" >0.10</td>\n",
       "                        <td id=\"T_5ea3c7be_0521_11eb_ab21_3202682a814arow14_col8\" class=\"data row14 col8\" >-0.02</td>\n",
       "                        <td id=\"T_5ea3c7be_0521_11eb_ab21_3202682a814arow14_col9\" class=\"data row14 col9\" >0.00</td>\n",
       "                        <td id=\"T_5ea3c7be_0521_11eb_ab21_3202682a814arow14_col10\" class=\"data row14 col10\" >0.45</td>\n",
       "                        <td id=\"T_5ea3c7be_0521_11eb_ab21_3202682a814arow14_col11\" class=\"data row14 col11\" >-0.12</td>\n",
       "                        <td id=\"T_5ea3c7be_0521_11eb_ab21_3202682a814arow14_col12\" class=\"data row14 col12\" >0.21</td>\n",
       "                        <td id=\"T_5ea3c7be_0521_11eb_ab21_3202682a814arow14_col13\" class=\"data row14 col13\" >0.07</td>\n",
       "                        <td id=\"T_5ea3c7be_0521_11eb_ab21_3202682a814arow14_col14\" class=\"data row14 col14\" >1.00</td>\n",
       "                        <td id=\"T_5ea3c7be_0521_11eb_ab21_3202682a814arow14_col15\" class=\"data row14 col15\" >-0.00</td>\n",
       "            </tr>\n",
       "            <tr>\n",
       "                        <th id=\"T_5ea3c7be_0521_11eb_ab21_3202682a814alevel0_row15\" class=\"row_heading level0 row15\" >CROSSWALKKEY</th>\n",
       "                        <td id=\"T_5ea3c7be_0521_11eb_ab21_3202682a814arow15_col0\" class=\"data row15 col0\" >0.18</td>\n",
       "                        <td id=\"T_5ea3c7be_0521_11eb_ab21_3202682a814arow15_col1\" class=\"data row15 col1\" >0.01</td>\n",
       "                        <td id=\"T_5ea3c7be_0521_11eb_ab21_3202682a814arow15_col2\" class=\"data row15 col2\" >0.01</td>\n",
       "                        <td id=\"T_5ea3c7be_0521_11eb_ab21_3202682a814arow15_col3\" class=\"data row15 col3\" >0.06</td>\n",
       "                        <td id=\"T_5ea3c7be_0521_11eb_ab21_3202682a814arow15_col4\" class=\"data row15 col4\" >0.05</td>\n",
       "                        <td id=\"T_5ea3c7be_0521_11eb_ab21_3202682a814arow15_col5\" class=\"data row15 col5\" >0.05</td>\n",
       "                        <td id=\"T_5ea3c7be_0521_11eb_ab21_3202682a814arow15_col6\" class=\"data row15 col6\" >0.02</td>\n",
       "                        <td id=\"T_5ea3c7be_0521_11eb_ab21_3202682a814arow15_col7\" class=\"data row15 col7\" >0.18</td>\n",
       "                        <td id=\"T_5ea3c7be_0521_11eb_ab21_3202682a814arow15_col8\" class=\"data row15 col8\" >-0.03</td>\n",
       "                        <td id=\"T_5ea3c7be_0521_11eb_ab21_3202682a814arow15_col9\" class=\"data row15 col9\" >0.57</td>\n",
       "                        <td id=\"T_5ea3c7be_0521_11eb_ab21_3202682a814arow15_col10\" class=\"data row15 col10\" >0.11</td>\n",
       "                        <td id=\"T_5ea3c7be_0521_11eb_ab21_3202682a814arow15_col11\" class=\"data row15 col11\" >-0.20</td>\n",
       "                        <td id=\"T_5ea3c7be_0521_11eb_ab21_3202682a814arow15_col12\" class=\"data row15 col12\" >0.19</td>\n",
       "                        <td id=\"T_5ea3c7be_0521_11eb_ab21_3202682a814arow15_col13\" class=\"data row15 col13\" >0.09</td>\n",
       "                        <td id=\"T_5ea3c7be_0521_11eb_ab21_3202682a814arow15_col14\" class=\"data row15 col14\" >-0.00</td>\n",
       "                        <td id=\"T_5ea3c7be_0521_11eb_ab21_3202682a814arow15_col15\" class=\"data row15 col15\" >1.00</td>\n",
       "            </tr>\n",
       "    </tbody></table>"
      ],
      "text/plain": [
       "<pandas.io.formats.style.Styler at 0x7fc775278b70>"
      ]
     },
     "execution_count": 6,
     "metadata": {},
     "output_type": "execute_result"
    }
   ],
   "source": [
    "rs = np.random.RandomState(0)\n",
    "corr = df.corr()\n",
    "cm = sns.light_palette(\"green\", as_cmap=True)\n",
    "corr.style.background_gradient(cmap=cm).set_precision(2)"
   ]
  },
  {
   "cell_type": "code",
   "execution_count": 234,
   "metadata": {},
   "outputs": [],
   "source": [
    "# Dropping the columns that are keys and have minimum correlation to severity, leave in lat/long for now\n",
    "df.drop(columns=['OBJECTID','INCKEY','COLDETKEY','INTKEY','SEVERITYCODE.1'],inplace=True)"
   ]
  },
  {
   "cell_type": "markdown",
   "metadata": {},
   "source": [
    "## Collision Severity"
   ]
  },
  {
   "cell_type": "code",
   "execution_count": 126,
   "metadata": {},
   "outputs": [
    {
     "data": {
      "text/plain": [
       "SEVERITYDESC                    SEVERITYCODE\n",
       "Injury Collision                2                58188\n",
       "Property Damage Only Collision  1               136485\n",
       "Name: SEVERITYCODE, dtype: int64"
      ]
     },
     "execution_count": 126,
     "metadata": {},
     "output_type": "execute_result"
    }
   ],
   "source": [
    "df.groupby(['SEVERITYDESC'])['SEVERITYCODE'].value_counts()"
   ]
  },
  {
   "cell_type": "markdown",
   "metadata": {},
   "source": [
    "## Location - Latitude, Longitude"
   ]
  },
  {
   "cell_type": "markdown",
   "metadata": {},
   "source": [
    "For now do nothing with the coordinates but it is definitely something to consider.  It would be possible to assign these to regions based on neighborhoods to find hotzones.  For now attempt to predict severity without it, can revisit later if time permits."
   ]
  },
  {
   "cell_type": "code",
   "execution_count": 90,
   "metadata": {},
   "outputs": [
    {
     "name": "stdout",
     "output_type": "stream",
     "text": [
      "-122.332653    265\n",
      "-122.344896    254\n",
      "-122.328079    252\n",
      "-122.344997    239\n",
      "-122.299160    231\n",
      "              ... \n",
      "-122.322768      1\n",
      "-122.288680      1\n",
      "-122.405699      1\n",
      "-122.323578      1\n",
      "-122.343898      1\n",
      "Name: X, Length: 23563, dtype: int64\n",
      "5334\n"
     ]
    }
   ],
   "source": [
    "print(df[\"X\"].value_counts())\n",
    "print(df[\"X\"].isna().sum())"
   ]
  },
  {
   "cell_type": "code",
   "execution_count": 91,
   "metadata": {},
   "outputs": [
    {
     "name": "stdout",
     "output_type": "stream",
     "text": [
      "47.708655    265\n",
      "47.717173    254\n",
      "47.604161    252\n",
      "47.725036    239\n",
      "47.579673    231\n",
      "            ... \n",
      "47.556705      1\n",
      "47.709101      1\n",
      "47.513899      1\n",
      "47.565438      1\n",
      "47.563521      1\n",
      "Name: Y, Length: 23839, dtype: int64\n",
      "5334\n"
     ]
    }
   ],
   "source": [
    "print(df[\"Y\"].value_counts())\n",
    "print(df[\"Y\"].isna().sum())"
   ]
  },
  {
   "cell_type": "markdown",
   "metadata": {},
   "source": [
    "## Location - Street"
   ]
  },
  {
   "cell_type": "markdown",
   "metadata": {},
   "source": [
    "There is a lot of information here but there is collision is already geocoded so this seems like it's not worth it.  It seems possible to parse this and do some analysis to help with severity but that is out of scope here."
   ]
  },
  {
   "cell_type": "code",
   "execution_count": 95,
   "metadata": {},
   "outputs": [
    {
     "data": {
      "text/plain": [
       "0                     5TH AVE NE AND NE 103RD ST\n",
       "1     AURORA BR BETWEEN RAYE ST AND BRIDGE WAY N\n",
       "2    4TH AVE BETWEEN SENECA ST AND UNIVERSITY ST\n",
       "3       2ND AVE BETWEEN MARION ST AND MADISON ST\n",
       "4                SWIFT AVE S AND SWIFT AV OFF RP\n",
       "Name: LOCATION, dtype: object"
      ]
     },
     "execution_count": 95,
     "metadata": {},
     "output_type": "execute_result"
    }
   ],
   "source": [
    "df['LOCATION'].head()"
   ]
  },
  {
   "cell_type": "markdown",
   "metadata": {},
   "source": [
    "## Location - CROSSWALKKEY"
   ]
  },
  {
   "cell_type": "markdown",
   "metadata": {},
   "source": [
    "Not sure what this is, but a guess is that there is a dictionary of crosswalks for all of Seattle and this would indicate a particular one.  It would be interesting to explore this further because this could indicate a hotzone."
   ]
  },
  {
   "cell_type": "code",
   "execution_count": 111,
   "metadata": {},
   "outputs": [
    {
     "name": "stdout",
     "output_type": "stream",
     "text": [
      "[     0 520838 521466 ... 523792 650595 523322]\n",
      "0         190862\n",
      "523609        17\n",
      "520838        15\n",
      "525567        13\n",
      "521707        10\n",
      "           ...  \n",
      "521019         1\n",
      "630862         1\n",
      "25545          1\n",
      "523322         1\n",
      "27186          1\n",
      "Name: CROSSWALKKEY, Length: 2198, dtype: int64\n"
     ]
    }
   ],
   "source": [
    "print(df['CROSSWALKKEY'].unique())\n",
    "print(df['CROSSWALKKEY'].value_counts())"
   ]
  },
  {
   "cell_type": "markdown",
   "metadata": {},
   "source": [
    "## Location - ADDRTYPE, JUNCTIONTYPE"
   ]
  },
  {
   "cell_type": "markdown",
   "metadata": {},
   "source": [
    "For junction type keep At Intersection (intersection related), Mid-Block (not related to intersection), Driveway Junction, and Mid-Block (but intersection related).  For address type only alley doen't have a lot of use."
   ]
  },
  {
   "cell_type": "code",
   "execution_count": 106,
   "metadata": {},
   "outputs": [
    {
     "name": "stdout",
     "output_type": "stream",
     "text": [
      "['Intersection' 'Block' 'Alley' nan]\n",
      "Block           126926\n",
      "Intersection     65070\n",
      "Alley              751\n",
      "Name: ADDRTYPE, dtype: int64\n"
     ]
    }
   ],
   "source": [
    "print(df['ADDRTYPE'].unique())\n",
    "print(df['ADDRTYPE'].value_counts())"
   ]
  },
  {
   "cell_type": "code",
   "execution_count": 16,
   "metadata": {},
   "outputs": [
    {
     "data": {
      "image/png": "[encoded data removed]",
      "text/plain": [
       "<Figure size 576x360 with 1 Axes>"
      ]
     },
     "metadata": {
      "needs_background": "light"
     },
     "output_type": "display_data"
    }
   ],
   "source": [
    "figsize=(8,5)\n",
    "fig, ax = plt.subplots(figsize=figsize)\n",
    "ax = sns.countplot(x=\"ADDRTYPE\", hue=\"SEVERITYCODE\", data=df)"
   ]
  },
  {
   "cell_type": "code",
   "execution_count": 108,
   "metadata": {},
   "outputs": [
    {
     "name": "stdout",
     "output_type": "stream",
     "text": [
      "['At Intersection (intersection related)'\n",
      " 'Mid-Block (not related to intersection)' 'Driveway Junction'\n",
      " 'Mid-Block (but intersection related)'\n",
      " 'At Intersection (but not related to intersection)' nan 'Unknown'\n",
      " 'Ramp Junction']\n",
      "Mid-Block (not related to intersection)              89800\n",
      "At Intersection (intersection related)               62810\n",
      "Mid-Block (but intersection related)                 22790\n",
      "Driveway Junction                                    10671\n",
      "At Intersection (but not related to intersection)     2098\n",
      "Ramp Junction                                          166\n",
      "Unknown                                                  9\n",
      "Name: JUNCTIONTYPE, dtype: int64\n"
     ]
    }
   ],
   "source": [
    "print(df['JUNCTIONTYPE'].unique())\n",
    "print(df['JUNCTIONTYPE'].value_counts())"
   ]
  },
  {
   "cell_type": "code",
   "execution_count": 15,
   "metadata": {},
   "outputs": [
    {
     "data": {
      "text/plain": [
       "<AxesSubplot:xlabel='JUNCTIONTYPE', ylabel='count'>"
      ]
     },
     "execution_count": 15,
     "metadata": {},
     "output_type": "execute_result"
    },
    {
     "data": {
      "image/png": "[encoded data removed]",
      "text/plain": [
       "<Figure size 1800x720 with 1 Axes>"
      ]
     },
     "metadata": {
      "needs_background": "light"
     },
     "output_type": "display_data"
    }
   ],
   "source": [
    "figsize=(25,10)\n",
    "fig, ax = plt.subplots(figsize=figsize)\n",
    "plt.xticks(\n",
    "    rotation=45, \n",
    "    horizontalalignment='right',\n",
    "    fontweight='light',\n",
    "    fontsize='x-large'  \n",
    ")\n",
    "sns.countplot(x=\"JUNCTIONTYPE\", hue=\"SEVERITYCODE\", data=df, ax=ax)"
   ]
  },
  {
   "cell_type": "markdown",
   "metadata": {},
   "source": [
    "## Collision Date"
   ]
  },
  {
   "cell_type": "markdown",
   "metadata": {},
   "source": [
    "INCDATE is same as INCDTTM without the time.  So focus on INCDTTM which is in 12h time with merdian."
   ]
  },
  {
   "cell_type": "code",
   "execution_count": 154,
   "metadata": {},
   "outputs": [
    {
     "data": {
      "text/html": [
       "<div>\n",
       "<style scoped>\n",
       "    .dataframe tbody tr th:only-of-type {\n",
       "        vertical-align: middle;\n",
       "    }\n",
       "\n",
       "    .dataframe tbody tr th {\n",
       "        vertical-align: top;\n",
       "    }\n",
       "\n",
       "    .dataframe thead th {\n",
       "        text-align: right;\n",
       "    }\n",
       "</style>\n",
       "<table border=\"1\" class=\"dataframe\">\n",
       "  <thead>\n",
       "    <tr style=\"text-align: right;\">\n",
       "      <th></th>\n",
       "      <th>INCDATE</th>\n",
       "      <th>INCDTTM</th>\n",
       "    </tr>\n",
       "  </thead>\n",
       "  <tbody>\n",
       "    <tr>\n",
       "      <th>0</th>\n",
       "      <td>2013/03/27 00:00:00+00</td>\n",
       "      <td>3/27/2013 2:54:00 PM</td>\n",
       "    </tr>\n",
       "    <tr>\n",
       "      <th>1</th>\n",
       "      <td>2006/12/20 00:00:00+00</td>\n",
       "      <td>12/20/2006 6:55:00 PM</td>\n",
       "    </tr>\n",
       "    <tr>\n",
       "      <th>2</th>\n",
       "      <td>2004/11/18 00:00:00+00</td>\n",
       "      <td>11/18/2004 10:20:00 AM</td>\n",
       "    </tr>\n",
       "    <tr>\n",
       "      <th>3</th>\n",
       "      <td>2013/03/29 00:00:00+00</td>\n",
       "      <td>3/29/2013 9:26:00 AM</td>\n",
       "    </tr>\n",
       "    <tr>\n",
       "      <th>4</th>\n",
       "      <td>2004/01/28 00:00:00+00</td>\n",
       "      <td>1/28/2004 8:04:00 AM</td>\n",
       "    </tr>\n",
       "  </tbody>\n",
       "</table>\n",
       "</div>"
      ],
      "text/plain": [
       "                  INCDATE                 INCDTTM\n",
       "0  2013/03/27 00:00:00+00    3/27/2013 2:54:00 PM\n",
       "1  2006/12/20 00:00:00+00   12/20/2006 6:55:00 PM\n",
       "2  2004/11/18 00:00:00+00  11/18/2004 10:20:00 AM\n",
       "3  2013/03/29 00:00:00+00    3/29/2013 9:26:00 AM\n",
       "4  2004/01/28 00:00:00+00    1/28/2004 8:04:00 AM"
      ]
     },
     "execution_count": 154,
     "metadata": {},
     "output_type": "execute_result"
    }
   ],
   "source": [
    "df[['INCDATE','INCDTTM']].head()"
   ]
  },
  {
   "cell_type": "code",
   "execution_count": 171,
   "metadata": {},
   "outputs": [
    {
     "data": {
      "text/html": [
       "<div>\n",
       "<style scoped>\n",
       "    .dataframe tbody tr th:only-of-type {\n",
       "        vertical-align: middle;\n",
       "    }\n",
       "\n",
       "    .dataframe tbody tr th {\n",
       "        vertical-align: top;\n",
       "    }\n",
       "\n",
       "    .dataframe thead th {\n",
       "        text-align: right;\n",
       "    }\n",
       "</style>\n",
       "<table border=\"1\" class=\"dataframe\">\n",
       "  <thead>\n",
       "    <tr style=\"text-align: right;\">\n",
       "      <th></th>\n",
       "      <th>SEVERITYCODE</th>\n",
       "      <th>INCDTTM</th>\n",
       "    </tr>\n",
       "  </thead>\n",
       "  <tbody>\n",
       "    <tr>\n",
       "      <th>0</th>\n",
       "      <td>2</td>\n",
       "      <td>2013-03-27 14:54:00</td>\n",
       "    </tr>\n",
       "    <tr>\n",
       "      <th>1</th>\n",
       "      <td>1</td>\n",
       "      <td>2006-12-20 18:55:00</td>\n",
       "    </tr>\n",
       "    <tr>\n",
       "      <th>2</th>\n",
       "      <td>1</td>\n",
       "      <td>2004-11-18 10:20:00</td>\n",
       "    </tr>\n",
       "    <tr>\n",
       "      <th>3</th>\n",
       "      <td>1</td>\n",
       "      <td>2013-03-29 09:26:00</td>\n",
       "    </tr>\n",
       "    <tr>\n",
       "      <th>4</th>\n",
       "      <td>2</td>\n",
       "      <td>2004-01-28 08:04:00</td>\n",
       "    </tr>\n",
       "  </tbody>\n",
       "</table>\n",
       "</div>"
      ],
      "text/plain": [
       "   SEVERITYCODE             INCDTTM\n",
       "0             2 2013-03-27 14:54:00\n",
       "1             1 2006-12-20 18:55:00\n",
       "2             1 2004-11-18 10:20:00\n",
       "3             1 2013-03-29 09:26:00\n",
       "4             2 2004-01-28 08:04:00"
      ]
     },
     "execution_count": 171,
     "metadata": {},
     "output_type": "execute_result"
    }
   ],
   "source": [
    "df_explore = df[['SEVERITYCODE', 'INCDTTM']].copy()\n",
    "df_explore['INCDTTM'] = pd.to_datetime(df_explore['INCDTTM'])\n",
    "df_explore.dropna(inplace=True)\n",
    "df_explore.head()"
   ]
  },
  {
   "cell_type": "code",
   "execution_count": 172,
   "metadata": {},
   "outputs": [],
   "source": [
    "def peak_offpeak(inputDate):\n",
    "    hour = inputDate.hour\n",
    "    try:\n",
    "        return 1 if (hour>=8 and hour<=18) else 0\n",
    "    except:\n",
    "        return 0"
   ]
  },
  {
   "cell_type": "markdown",
   "metadata": {},
   "source": [
    "Analysis on the date of the collision.  Check the month, weekday, hour, week in the year.  Check peak or offpeak that would be similar to the workday hours, this might help with generalization but with predicting severity unless something jumps out."
   ]
  },
  {
   "cell_type": "code",
   "execution_count": 173,
   "metadata": {},
   "outputs": [
    {
     "data": {
      "text/html": [
       "<div>\n",
       "<style scoped>\n",
       "    .dataframe tbody tr th:only-of-type {\n",
       "        vertical-align: middle;\n",
       "    }\n",
       "\n",
       "    .dataframe tbody tr th {\n",
       "        vertical-align: top;\n",
       "    }\n",
       "\n",
       "    .dataframe thead th {\n",
       "        text-align: right;\n",
       "    }\n",
       "</style>\n",
       "<table border=\"1\" class=\"dataframe\">\n",
       "  <thead>\n",
       "    <tr style=\"text-align: right;\">\n",
       "      <th></th>\n",
       "      <th>SEVERITYCODE</th>\n",
       "      <th>INCDTTM</th>\n",
       "      <th>MONTH</th>\n",
       "      <th>WEEKDAY</th>\n",
       "      <th>HOUR</th>\n",
       "      <th>PEAKOROFFPEAK</th>\n",
       "      <th>YEARWEEK</th>\n",
       "    </tr>\n",
       "  </thead>\n",
       "  <tbody>\n",
       "    <tr>\n",
       "      <th>0</th>\n",
       "      <td>2</td>\n",
       "      <td>2013-03-27 14:54:00</td>\n",
       "      <td>3</td>\n",
       "      <td>2</td>\n",
       "      <td>14</td>\n",
       "      <td>1</td>\n",
       "      <td>13</td>\n",
       "    </tr>\n",
       "    <tr>\n",
       "      <th>1</th>\n",
       "      <td>1</td>\n",
       "      <td>2006-12-20 18:55:00</td>\n",
       "      <td>12</td>\n",
       "      <td>2</td>\n",
       "      <td>18</td>\n",
       "      <td>1</td>\n",
       "      <td>51</td>\n",
       "    </tr>\n",
       "    <tr>\n",
       "      <th>2</th>\n",
       "      <td>1</td>\n",
       "      <td>2004-11-18 10:20:00</td>\n",
       "      <td>11</td>\n",
       "      <td>3</td>\n",
       "      <td>10</td>\n",
       "      <td>1</td>\n",
       "      <td>47</td>\n",
       "    </tr>\n",
       "    <tr>\n",
       "      <th>3</th>\n",
       "      <td>1</td>\n",
       "      <td>2013-03-29 09:26:00</td>\n",
       "      <td>3</td>\n",
       "      <td>4</td>\n",
       "      <td>9</td>\n",
       "      <td>1</td>\n",
       "      <td>13</td>\n",
       "    </tr>\n",
       "    <tr>\n",
       "      <th>4</th>\n",
       "      <td>2</td>\n",
       "      <td>2004-01-28 08:04:00</td>\n",
       "      <td>1</td>\n",
       "      <td>2</td>\n",
       "      <td>8</td>\n",
       "      <td>1</td>\n",
       "      <td>5</td>\n",
       "    </tr>\n",
       "  </tbody>\n",
       "</table>\n",
       "</div>"
      ],
      "text/plain": [
       "   SEVERITYCODE             INCDTTM  MONTH  WEEKDAY  HOUR  PEAKOROFFPEAK  \\\n",
       "0             2 2013-03-27 14:54:00      3        2    14              1   \n",
       "1             1 2006-12-20 18:55:00     12        2    18              1   \n",
       "2             1 2004-11-18 10:20:00     11        3    10              1   \n",
       "3             1 2013-03-29 09:26:00      3        4     9              1   \n",
       "4             2 2004-01-28 08:04:00      1        2     8              1   \n",
       "\n",
       "   YEARWEEK  \n",
       "0        13  \n",
       "1        51  \n",
       "2        47  \n",
       "3        13  \n",
       "4         5  "
      ]
     },
     "execution_count": 173,
     "metadata": {},
     "output_type": "execute_result"
    }
   ],
   "source": [
    "df_explore['MONTH'] = df_explore['INCDTTM'].dt.month\n",
    "df_explore['WEEKDAY'] = df_explore['INCDTTM'].dt.weekday\n",
    "df_explore['HOUR'] = df_explore['INCDTTM'].dt.strftime('%H').astype(int)\n",
    "df_explore['PEAKOROFFPEAK'] = df_explore['INCDTTM'].apply(lambda x: peak_offpeak(x))\n",
    "df_explore['YEARWEEK'] = df_explore[\"INCDTTM\"].dt.week\n",
    "df_explore.head()"
   ]
  },
  {
   "cell_type": "code",
   "execution_count": 174,
   "metadata": {},
   "outputs": [
    {
     "data": {
      "text/html": [
       "<style  type=\"text/css\" >\n",
       "    #T_f736caaa_0484_11eb_a6a7_4eaf257ab6e8row0_col0 {\n",
       "            background-color:  #008000;\n",
       "            color:  #f1f1f1;\n",
       "        }    #T_f736caaa_0484_11eb_a6a7_4eaf257ab6e8row0_col1 {\n",
       "            background-color:  #e5ffe5;\n",
       "            color:  #000000;\n",
       "        }    #T_f736caaa_0484_11eb_a6a7_4eaf257ab6e8row0_col2 {\n",
       "            background-color:  #d8f8d8;\n",
       "            color:  #000000;\n",
       "        }    #T_f736caaa_0484_11eb_a6a7_4eaf257ab6e8row0_col3 {\n",
       "            background-color:  #daf9da;\n",
       "            color:  #000000;\n",
       "        }    #T_f736caaa_0484_11eb_a6a7_4eaf257ab6e8row0_col4 {\n",
       "            background-color:  #cbf1cb;\n",
       "            color:  #000000;\n",
       "        }    #T_f736caaa_0484_11eb_a6a7_4eaf257ab6e8row0_col5 {\n",
       "            background-color:  #e4fee4;\n",
       "            color:  #000000;\n",
       "        }    #T_f736caaa_0484_11eb_a6a7_4eaf257ab6e8row1_col0 {\n",
       "            background-color:  #e1fde1;\n",
       "            color:  #000000;\n",
       "        }    #T_f736caaa_0484_11eb_a6a7_4eaf257ab6e8row1_col1 {\n",
       "            background-color:  #008000;\n",
       "            color:  #f1f1f1;\n",
       "        }    #T_f736caaa_0484_11eb_a6a7_4eaf257ab6e8row1_col2 {\n",
       "            background-color:  #d4f6d4;\n",
       "            color:  #000000;\n",
       "        }    #T_f736caaa_0484_11eb_a6a7_4eaf257ab6e8row1_col3 {\n",
       "            background-color:  #dffcdf;\n",
       "            color:  #000000;\n",
       "        }    #T_f736caaa_0484_11eb_a6a7_4eaf257ab6e8row1_col4 {\n",
       "            background-color:  #d4f6d4;\n",
       "            color:  #000000;\n",
       "        }    #T_f736caaa_0484_11eb_a6a7_4eaf257ab6e8row1_col5 {\n",
       "            background-color:  #058305;\n",
       "            color:  #f1f1f1;\n",
       "        }    #T_f736caaa_0484_11eb_a6a7_4eaf257ab6e8row2_col0 {\n",
       "            background-color:  #e5ffe5;\n",
       "            color:  #000000;\n",
       "        }    #T_f736caaa_0484_11eb_a6a7_4eaf257ab6e8row2_col1 {\n",
       "            background-color:  #e5ffe5;\n",
       "            color:  #000000;\n",
       "        }    #T_f736caaa_0484_11eb_a6a7_4eaf257ab6e8row2_col2 {\n",
       "            background-color:  #008000;\n",
       "            color:  #f1f1f1;\n",
       "        }    #T_f736caaa_0484_11eb_a6a7_4eaf257ab6e8row2_col3 {\n",
       "            background-color:  #e5ffe5;\n",
       "            color:  #000000;\n",
       "        }    #T_f736caaa_0484_11eb_a6a7_4eaf257ab6e8row2_col4 {\n",
       "            background-color:  #e5ffe5;\n",
       "            color:  #000000;\n",
       "        }    #T_f736caaa_0484_11eb_a6a7_4eaf257ab6e8row2_col5 {\n",
       "            background-color:  #e5ffe5;\n",
       "            color:  #000000;\n",
       "        }    #T_f736caaa_0484_11eb_a6a7_4eaf257ab6e8row3_col0 {\n",
       "            background-color:  #dbf9db;\n",
       "            color:  #000000;\n",
       "        }    #T_f736caaa_0484_11eb_a6a7_4eaf257ab6e8row3_col1 {\n",
       "            background-color:  #e4fee4;\n",
       "            color:  #000000;\n",
       "        }    #T_f736caaa_0484_11eb_a6a7_4eaf257ab6e8row3_col2 {\n",
       "            background-color:  #d9f8d9;\n",
       "            color:  #000000;\n",
       "        }    #T_f736caaa_0484_11eb_a6a7_4eaf257ab6e8row3_col3 {\n",
       "            background-color:  #008000;\n",
       "            color:  #f1f1f1;\n",
       "        }    #T_f736caaa_0484_11eb_a6a7_4eaf257ab6e8row3_col4 {\n",
       "            background-color:  #87cb87;\n",
       "            color:  #000000;\n",
       "        }    #T_f736caaa_0484_11eb_a6a7_4eaf257ab6e8row3_col5 {\n",
       "            background-color:  #defbde;\n",
       "            color:  #000000;\n",
       "        }    #T_f736caaa_0484_11eb_a6a7_4eaf257ab6e8row4_col0 {\n",
       "            background-color:  #d9f8d9;\n",
       "            color:  #000000;\n",
       "        }    #T_f736caaa_0484_11eb_a6a7_4eaf257ab6e8row4_col1 {\n",
       "            background-color:  #e5ffe5;\n",
       "            color:  #000000;\n",
       "        }    #T_f736caaa_0484_11eb_a6a7_4eaf257ab6e8row4_col2 {\n",
       "            background-color:  #e5ffe5;\n",
       "            color:  #000000;\n",
       "        }    #T_f736caaa_0484_11eb_a6a7_4eaf257ab6e8row4_col3 {\n",
       "            background-color:  #8fcf8f;\n",
       "            color:  #000000;\n",
       "        }    #T_f736caaa_0484_11eb_a6a7_4eaf257ab6e8row4_col4 {\n",
       "            background-color:  #008000;\n",
       "            color:  #f1f1f1;\n",
       "        }    #T_f736caaa_0484_11eb_a6a7_4eaf257ab6e8row4_col5 {\n",
       "            background-color:  #e2fde2;\n",
       "            color:  #000000;\n",
       "        }    #T_f736caaa_0484_11eb_a6a7_4eaf257ab6e8row5_col0 {\n",
       "            background-color:  #e1fde1;\n",
       "            color:  #000000;\n",
       "        }    #T_f736caaa_0484_11eb_a6a7_4eaf257ab6e8row5_col1 {\n",
       "            background-color:  #058305;\n",
       "            color:  #f1f1f1;\n",
       "        }    #T_f736caaa_0484_11eb_a6a7_4eaf257ab6e8row5_col2 {\n",
       "            background-color:  #d5f6d5;\n",
       "            color:  #000000;\n",
       "        }    #T_f736caaa_0484_11eb_a6a7_4eaf257ab6e8row5_col3 {\n",
       "            background-color:  #dbf9db;\n",
       "            color:  #000000;\n",
       "        }    #T_f736caaa_0484_11eb_a6a7_4eaf257ab6e8row5_col4 {\n",
       "            background-color:  #d2f4d2;\n",
       "            color:  #000000;\n",
       "        }    #T_f736caaa_0484_11eb_a6a7_4eaf257ab6e8row5_col5 {\n",
       "            background-color:  #008000;\n",
       "            color:  #f1f1f1;\n",
       "        }</style><table id=\"T_f736caaa_0484_11eb_a6a7_4eaf257ab6e8\" ><thead>    <tr>        <th class=\"blank level0\" ></th>        <th class=\"col_heading level0 col0\" >SEVERITYCODE</th>        <th class=\"col_heading level0 col1\" >MONTH</th>        <th class=\"col_heading level0 col2\" >WEEKDAY</th>        <th class=\"col_heading level0 col3\" >HOUR</th>        <th class=\"col_heading level0 col4\" >PEAKOROFFPEAK</th>        <th class=\"col_heading level0 col5\" >YEARWEEK</th>    </tr></thead><tbody>\n",
       "                <tr>\n",
       "                        <th id=\"T_f736caaa_0484_11eb_a6a7_4eaf257ab6e8level0_row0\" class=\"row_heading level0 row0\" >SEVERITYCODE</th>\n",
       "                        <td id=\"T_f736caaa_0484_11eb_a6a7_4eaf257ab6e8row0_col0\" class=\"data row0 col0\" >1.00</td>\n",
       "                        <td id=\"T_f736caaa_0484_11eb_a6a7_4eaf257ab6e8row0_col1\" class=\"data row0 col1\" >0.00</td>\n",
       "                        <td id=\"T_f736caaa_0484_11eb_a6a7_4eaf257ab6e8row0_col2\" class=\"data row0 col2\" >-0.02</td>\n",
       "                        <td id=\"T_f736caaa_0484_11eb_a6a7_4eaf257ab6e8row0_col3\" class=\"data row0 col3\" >0.03</td>\n",
       "                        <td id=\"T_f736caaa_0484_11eb_a6a7_4eaf257ab6e8row0_col4\" class=\"data row0 col4\" >0.04</td>\n",
       "                        <td id=\"T_f736caaa_0484_11eb_a6a7_4eaf257ab6e8row0_col5\" class=\"data row0 col5\" >0.01</td>\n",
       "            </tr>\n",
       "            <tr>\n",
       "                        <th id=\"T_f736caaa_0484_11eb_a6a7_4eaf257ab6e8level0_row1\" class=\"row_heading level0 row1\" >MONTH</th>\n",
       "                        <td id=\"T_f736caaa_0484_11eb_a6a7_4eaf257ab6e8row1_col0\" class=\"data row1 col0\" >0.00</td>\n",
       "                        <td id=\"T_f736caaa_0484_11eb_a6a7_4eaf257ab6e8row1_col1\" class=\"data row1 col1\" >1.00</td>\n",
       "                        <td id=\"T_f736caaa_0484_11eb_a6a7_4eaf257ab6e8row1_col2\" class=\"data row1 col2\" >-0.00</td>\n",
       "                        <td id=\"T_f736caaa_0484_11eb_a6a7_4eaf257ab6e8row1_col3\" class=\"data row1 col3\" >0.01</td>\n",
       "                        <td id=\"T_f736caaa_0484_11eb_a6a7_4eaf257ab6e8row1_col4\" class=\"data row1 col4\" >0.00</td>\n",
       "                        <td id=\"T_f736caaa_0484_11eb_a6a7_4eaf257ab6e8row1_col5\" class=\"data row1 col5\" >0.98</td>\n",
       "            </tr>\n",
       "            <tr>\n",
       "                        <th id=\"T_f736caaa_0484_11eb_a6a7_4eaf257ab6e8level0_row2\" class=\"row_heading level0 row2\" >WEEKDAY</th>\n",
       "                        <td id=\"T_f736caaa_0484_11eb_a6a7_4eaf257ab6e8row2_col0\" class=\"data row2 col0\" >-0.02</td>\n",
       "                        <td id=\"T_f736caaa_0484_11eb_a6a7_4eaf257ab6e8row2_col1\" class=\"data row2 col1\" >-0.00</td>\n",
       "                        <td id=\"T_f736caaa_0484_11eb_a6a7_4eaf257ab6e8row2_col2\" class=\"data row2 col2\" >1.00</td>\n",
       "                        <td id=\"T_f736caaa_0484_11eb_a6a7_4eaf257ab6e8row2_col3\" class=\"data row2 col3\" >-0.02</td>\n",
       "                        <td id=\"T_f736caaa_0484_11eb_a6a7_4eaf257ab6e8row2_col4\" class=\"data row2 col4\" >-0.08</td>\n",
       "                        <td id=\"T_f736caaa_0484_11eb_a6a7_4eaf257ab6e8row2_col5\" class=\"data row2 col5\" >-0.00</td>\n",
       "            </tr>\n",
       "            <tr>\n",
       "                        <th id=\"T_f736caaa_0484_11eb_a6a7_4eaf257ab6e8level0_row3\" class=\"row_heading level0 row3\" >HOUR</th>\n",
       "                        <td id=\"T_f736caaa_0484_11eb_a6a7_4eaf257ab6e8row3_col0\" class=\"data row3 col0\" >0.03</td>\n",
       "                        <td id=\"T_f736caaa_0484_11eb_a6a7_4eaf257ab6e8row3_col1\" class=\"data row3 col1\" >0.01</td>\n",
       "                        <td id=\"T_f736caaa_0484_11eb_a6a7_4eaf257ab6e8row3_col2\" class=\"data row3 col2\" >-0.02</td>\n",
       "                        <td id=\"T_f736caaa_0484_11eb_a6a7_4eaf257ab6e8row3_col3\" class=\"data row3 col3\" >1.00</td>\n",
       "                        <td id=\"T_f736caaa_0484_11eb_a6a7_4eaf257ab6e8row3_col4\" class=\"data row3 col4\" >0.36</td>\n",
       "                        <td id=\"T_f736caaa_0484_11eb_a6a7_4eaf257ab6e8row3_col5\" class=\"data row3 col5\" >0.03</td>\n",
       "            </tr>\n",
       "            <tr>\n",
       "                        <th id=\"T_f736caaa_0484_11eb_a6a7_4eaf257ab6e8level0_row4\" class=\"row_heading level0 row4\" >PEAKOROFFPEAK</th>\n",
       "                        <td id=\"T_f736caaa_0484_11eb_a6a7_4eaf257ab6e8row4_col0\" class=\"data row4 col0\" >0.04</td>\n",
       "                        <td id=\"T_f736caaa_0484_11eb_a6a7_4eaf257ab6e8row4_col1\" class=\"data row4 col1\" >0.00</td>\n",
       "                        <td id=\"T_f736caaa_0484_11eb_a6a7_4eaf257ab6e8row4_col2\" class=\"data row4 col2\" >-0.08</td>\n",
       "                        <td id=\"T_f736caaa_0484_11eb_a6a7_4eaf257ab6e8row4_col3\" class=\"data row4 col3\" >0.36</td>\n",
       "                        <td id=\"T_f736caaa_0484_11eb_a6a7_4eaf257ab6e8row4_col4\" class=\"data row4 col4\" >1.00</td>\n",
       "                        <td id=\"T_f736caaa_0484_11eb_a6a7_4eaf257ab6e8row4_col5\" class=\"data row4 col5\" >0.02</td>\n",
       "            </tr>\n",
       "            <tr>\n",
       "                        <th id=\"T_f736caaa_0484_11eb_a6a7_4eaf257ab6e8level0_row5\" class=\"row_heading level0 row5\" >YEARWEEK</th>\n",
       "                        <td id=\"T_f736caaa_0484_11eb_a6a7_4eaf257ab6e8row5_col0\" class=\"data row5 col0\" >0.01</td>\n",
       "                        <td id=\"T_f736caaa_0484_11eb_a6a7_4eaf257ab6e8row5_col1\" class=\"data row5 col1\" >0.98</td>\n",
       "                        <td id=\"T_f736caaa_0484_11eb_a6a7_4eaf257ab6e8row5_col2\" class=\"data row5 col2\" >-0.00</td>\n",
       "                        <td id=\"T_f736caaa_0484_11eb_a6a7_4eaf257ab6e8row5_col3\" class=\"data row5 col3\" >0.03</td>\n",
       "                        <td id=\"T_f736caaa_0484_11eb_a6a7_4eaf257ab6e8row5_col4\" class=\"data row5 col4\" >0.02</td>\n",
       "                        <td id=\"T_f736caaa_0484_11eb_a6a7_4eaf257ab6e8row5_col5\" class=\"data row5 col5\" >1.00</td>\n",
       "            </tr>\n",
       "    </tbody></table>"
      ],
      "text/plain": [
       "<pandas.io.formats.style.Styler at 0x7f93556e3ac8>"
      ]
     },
     "execution_count": 174,
     "metadata": {},
     "output_type": "execute_result"
    }
   ],
   "source": [
    "corr = df_explore.corr()\n",
    "cm = sns.light_palette(\"green\", as_cmap=True)\n",
    "corr.style.background_gradient(cmap=cm).set_precision(2)"
   ]
  },
  {
   "cell_type": "code",
   "execution_count": 215,
   "metadata": {},
   "outputs": [
    {
     "data": {
      "text/plain": [
       "[Text(0.5, 0, 'Collisions'), Text(0, 0.5, 'Peak')]"
      ]
     },
     "execution_count": 215,
     "metadata": {},
     "output_type": "execute_result"
    },
    {
     "data": {
      "image/png": "[encoded data removed]",
      "text/plain": [
       "<Figure size 1296x1008 with 4 Axes>"
      ]
     },
     "metadata": {},
     "output_type": "display_data"
    }
   ],
   "source": [
    "fig, ax = plt.subplots(2,2, figsize = (18, 14))\n",
    "ax1, ax2, ax3, ax4 = ax.flatten()\n",
    "\n",
    "sns.countplot(y=\"MONTH\", hue=\"SEVERITYCODE\", data=df_explore, ax=ax1)\n",
    "ax1.set(xlabel='Collisions', ylabel=\"Month\")\n",
    "\n",
    "sns.countplot(y=\"WEEKDAY\", hue=\"SEVERITYCODE\", data=df_explore, ax=ax2)\n",
    "ax2.set(xlabel='Collisions', ylabel=\"Weekday\")\n",
    "\n",
    "sns.countplot(y=\"HOUR\", hue=\"SEVERITYCODE\", data=df_explore[(df_explore.HOUR != 0)], ax=ax3)\n",
    "ax3.set(xlabel='Collisions', ylabel=\"Hour\")\n",
    "\n",
    "sns.countplot(y=\"PEAKOROFFPEAK\", hue=\"SEVERITYCODE\", data=df_explore, ax=ax4)\n",
    "ax4.set(xlabel='Collisions', ylabel=\"Peak\")"
   ]
  },
  {
   "cell_type": "code",
   "execution_count": 210,
   "metadata": {},
   "outputs": [
    {
     "data": {
      "text/plain": [
       "[Text(0.5, 0, 'Collisions'), Text(0, 0.5, 'Week')]"
      ]
     },
     "execution_count": 210,
     "metadata": {},
     "output_type": "execute_result"
    },
    {
     "data": {
      "image/png": "[encoded data removed]",
      "text/plain": [
       "<Figure size 1152x1440 with 2 Axes>"
      ]
     },
     "metadata": {},
     "output_type": "display_data"
    }
   ],
   "source": [
    "fig, (ax5, ax6) = plt.subplots(1, 2, figsize = (16, 20))\n",
    "sns.countplot(y=\"YEARWEEK\", hue=\"SEVERITYCODE\", data=df_explore[(df_explore.YEARWEEK <= 26)], ax=ax5)\n",
    "ax5.set(xlabel='Collisions', ylabel=\"Weeks 1 - 26\")\n",
    "sns.countplot(y=\"YEARWEEK\", hue=\"SEVERITYCODE\", data=df_explore[(df_explore.YEARWEEK > 26)], ax=ax6)\n",
    "ax6.set(xlabel='Collisions', ylabel=\"Week\")"
   ]
  },
  {
   "cell_type": "markdown",
   "metadata": {},
   "source": [
    "## Situational Conditions - Weather, Road, Light"
   ]
  },
  {
   "cell_type": "code",
   "execution_count": 249,
   "metadata": {},
   "outputs": [],
   "source": [
    "df_explore = df[['SEVERITYCODE', 'WEATHER', 'ROADCOND', 'LIGHTCOND']].copy()"
   ]
  },
  {
   "cell_type": "code",
   "execution_count": 250,
   "metadata": {},
   "outputs": [
    {
     "data": {
      "text/plain": [
       "array(['Overcast', 'Raining', 'Clear', nan, 'Unknown', 'Other', 'Snowing',\n",
       "       'Fog/Smog/Smoke', 'Sleet/Hail/Freezing Rain', 'Blowing Sand/Dirt',\n",
       "       'Severe Crosswind', 'Partly Cloudy'], dtype=object)"
      ]
     },
     "execution_count": 250,
     "metadata": {},
     "output_type": "execute_result"
    }
   ],
   "source": [
    "df_explore['WEATHER'].unique()"
   ]
  },
  {
   "cell_type": "code",
   "execution_count": 251,
   "metadata": {},
   "outputs": [
    {
     "data": {
      "text/plain": [
       "array(['Wet', 'Dry', nan, 'Unknown', 'Snow/Slush', 'Ice', 'Other',\n",
       "       'Sand/Mud/Dirt', 'Standing Water', 'Oil'], dtype=object)"
      ]
     },
     "execution_count": 251,
     "metadata": {},
     "output_type": "execute_result"
    }
   ],
   "source": [
    "df_explore['ROADCOND'].unique()"
   ]
  },
  {
   "cell_type": "code",
   "execution_count": 138,
   "metadata": {},
   "outputs": [
    {
     "data": {
      "text/plain": [
       "array(['Daylight', 'Dark - Street Lights On', 'Dark - No Street Lights',\n",
       "       nan, 'Unknown', 'Dusk', 'Dawn', 'Dark - Street Lights Off',\n",
       "       'Other', 'Dark - Unknown Lighting'], dtype=object)"
      ]
     },
     "execution_count": 138,
     "metadata": {},
     "output_type": "execute_result"
    }
   ],
   "source": [
    "df_explore['LIGHTCOND'].unique()"
   ]
  },
  {
   "cell_type": "code",
   "execution_count": 252,
   "metadata": {},
   "outputs": [
    {
     "data": {
      "text/plain": [
       "<AxesSubplot:xlabel='count', ylabel='WEATHER'>"
      ]
     },
     "execution_count": 252,
     "metadata": {},
     "output_type": "execute_result"
    },
    {
     "data": {
      "image/png": "[encoded data removed]",
      "text/plain": [
       "<Figure size 432x288 with 1 Axes>"
      ]
     },
     "metadata": {},
     "output_type": "display_data"
    }
   ],
   "source": [
    "sns.countplot(y=\"WEATHER\", hue=\"SEVERITYCODE\", data=df_explore)"
   ]
  },
  {
   "cell_type": "markdown",
   "metadata": {},
   "source": [
    "For weather we keep overcast, raining, clear and unknown.  Everything else is not relavent."
   ]
  },
  {
   "cell_type": "code",
   "execution_count": 253,
   "metadata": {},
   "outputs": [
    {
     "data": {
      "text/plain": [
       "<AxesSubplot:xlabel='count', ylabel='ROADCOND'>"
      ]
     },
     "execution_count": 253,
     "metadata": {},
     "output_type": "execute_result"
    },
    {
     "data": {
      "image/png": "[encoded data removed]",
      "text/plain": [
       "<Figure size 432x288 with 1 Axes>"
      ]
     },
     "metadata": {},
     "output_type": "display_data"
    }
   ],
   "source": [
    "sns.countplot(y=\"ROADCOND\", hue=\"SEVERITYCODE\", data=df_explore)"
   ]
  },
  {
   "cell_type": "markdown",
   "metadata": {},
   "source": [
    "For road condition keep wet, dry and unknown."
   ]
  },
  {
   "cell_type": "code",
   "execution_count": 254,
   "metadata": {},
   "outputs": [
    {
     "data": {
      "text/plain": [
       "<AxesSubplot:xlabel='count', ylabel='LIGHTCOND'>"
      ]
     },
     "execution_count": 254,
     "metadata": {},
     "output_type": "execute_result"
    },
    {
     "data": {
      "image/png": "[encoded data removed]",
      "text/plain": [
       "<Figure size 432x288 with 1 Axes>"
      ]
     },
     "metadata": {},
     "output_type": "display_data"
    }
   ],
   "source": [
    "sns.countplot(y=\"LIGHTCOND\", hue=\"SEVERITYCODE\", data=df_explore)"
   ]
  },
  {
   "cell_type": "markdown",
   "metadata": {},
   "source": [
    "For light condition keep daylight, dark with street lights on, dusk and unknown."
   ]
  },
  {
   "cell_type": "markdown",
   "metadata": {},
   "source": [
    "## Counts - VEHCOUNT, PERSONCOUNT, PEDCOUNT, PEDCYLCOUNT"
   ]
  },
  {
   "cell_type": "code",
   "execution_count": 49,
   "metadata": {},
   "outputs": [],
   "source": [
    "df_explore = df[['SEVERITYCODE','VEHCOUNT','PERSONCOUNT','PEDCOUNT','PEDCYLCOUNT']].copy()"
   ]
  },
  {
   "cell_type": "code",
   "execution_count": 51,
   "metadata": {},
   "outputs": [
    {
     "data": {
      "text/plain": [
       "array([ 2,  3,  1,  0,  4,  7,  5,  6,  8, 11,  9, 10, 12])"
      ]
     },
     "execution_count": 51,
     "metadata": {},
     "output_type": "execute_result"
    }
   ],
   "source": [
    "df_explore['VEHCOUNT'].unique()"
   ]
  },
  {
   "cell_type": "code",
   "execution_count": 52,
   "metadata": {},
   "outputs": [
    {
     "data": {
      "text/plain": [
       "array([ 2,  4,  3,  0,  1,  5,  6, 16,  8,  7, 11,  9, 12, 17, 26, 22, 10,\n",
       "       37, 13, 36, 28, 14, 53, 19, 30, 29, 23, 44, 15, 32, 21, 41, 27, 20,\n",
       "       35, 43, 81, 18, 25, 48, 24, 34, 57, 39, 47, 54, 31])"
      ]
     },
     "execution_count": 52,
     "metadata": {},
     "output_type": "execute_result"
    }
   ],
   "source": [
    "df_explore['PERSONCOUNT'].unique()"
   ]
  },
  {
   "cell_type": "code",
   "execution_count": 53,
   "metadata": {},
   "outputs": [
    {
     "data": {
      "text/plain": [
       "array([0, 1, 2, 3, 4, 5, 6])"
      ]
     },
     "execution_count": 53,
     "metadata": {},
     "output_type": "execute_result"
    }
   ],
   "source": [
    "df_explore['PEDCOUNT'].unique()"
   ]
  },
  {
   "cell_type": "code",
   "execution_count": 54,
   "metadata": {},
   "outputs": [
    {
     "data": {
      "text/plain": [
       "array([0, 1, 2])"
      ]
     },
     "execution_count": 54,
     "metadata": {},
     "output_type": "execute_result"
    }
   ],
   "source": [
    "df_explore['PEDCYLCOUNT'].unique()"
   ]
  },
  {
   "cell_type": "code",
   "execution_count": 55,
   "metadata": {},
   "outputs": [
    {
     "data": {
      "text/html": [
       "<style  type=\"text/css\" >\n",
       "    #T_5be2de5c_052b_11eb_ab21_3202682a814arow0_col0 {\n",
       "            background-color:  #008000;\n",
       "            color:  #f1f1f1;\n",
       "        }    #T_5be2de5c_052b_11eb_ab21_3202682a814arow0_col1 {\n",
       "            background-color:  #c1ebc1;\n",
       "            color:  #000000;\n",
       "        }    #T_5be2de5c_052b_11eb_ab21_3202682a814arow0_col2 {\n",
       "            background-color:  #c1ebc1;\n",
       "            color:  #000000;\n",
       "        }    #T_5be2de5c_052b_11eb_ab21_3202682a814arow0_col3 {\n",
       "            background-color:  #89cc89;\n",
       "            color:  #000000;\n",
       "        }    #T_5be2de5c_052b_11eb_ab21_3202682a814arow0_col4 {\n",
       "            background-color:  #90d090;\n",
       "            color:  #000000;\n",
       "        }    #T_5be2de5c_052b_11eb_ab21_3202682a814arow1_col0 {\n",
       "            background-color:  #e5ffe5;\n",
       "            color:  #000000;\n",
       "        }    #T_5be2de5c_052b_11eb_ab21_3202682a814arow1_col1 {\n",
       "            background-color:  #008000;\n",
       "            color:  #f1f1f1;\n",
       "        }    #T_5be2de5c_052b_11eb_ab21_3202682a814arow1_col2 {\n",
       "            background-color:  #89cc89;\n",
       "            color:  #000000;\n",
       "        }    #T_5be2de5c_052b_11eb_ab21_3202682a814arow1_col3 {\n",
       "            background-color:  #e5ffe5;\n",
       "            color:  #000000;\n",
       "        }    #T_5be2de5c_052b_11eb_ab21_3202682a814arow1_col4 {\n",
       "            background-color:  #e5ffe5;\n",
       "            color:  #000000;\n",
       "        }    #T_5be2de5c_052b_11eb_ab21_3202682a814arow2_col0 {\n",
       "            background-color:  #bde9bd;\n",
       "            color:  #000000;\n",
       "        }    #T_5be2de5c_052b_11eb_ab21_3202682a814arow2_col1 {\n",
       "            background-color:  #70be70;\n",
       "            color:  #000000;\n",
       "        }    #T_5be2de5c_052b_11eb_ab21_3202682a814arow2_col2 {\n",
       "            background-color:  #008000;\n",
       "            color:  #f1f1f1;\n",
       "        }    #T_5be2de5c_052b_11eb_ab21_3202682a814arow2_col3 {\n",
       "            background-color:  #bae7ba;\n",
       "            color:  #000000;\n",
       "        }    #T_5be2de5c_052b_11eb_ab21_3202682a814arow2_col4 {\n",
       "            background-color:  #bfeabf;\n",
       "            color:  #000000;\n",
       "        }    #T_5be2de5c_052b_11eb_ab21_3202682a814arow3_col0 {\n",
       "            background-color:  #a4dba4;\n",
       "            color:  #000000;\n",
       "        }    #T_5be2de5c_052b_11eb_ab21_3202682a814arow3_col1 {\n",
       "            background-color:  #e5ffe5;\n",
       "            color:  #000000;\n",
       "        }    #T_5be2de5c_052b_11eb_ab21_3202682a814arow3_col2 {\n",
       "            background-color:  #e3fee3;\n",
       "            color:  #000000;\n",
       "        }    #T_5be2de5c_052b_11eb_ab21_3202682a814arow3_col3 {\n",
       "            background-color:  #008000;\n",
       "            color:  #f1f1f1;\n",
       "        }    #T_5be2de5c_052b_11eb_ab21_3202682a814arow3_col4 {\n",
       "            background-color:  #bae7ba;\n",
       "            color:  #000000;\n",
       "        }    #T_5be2de5c_052b_11eb_ab21_3202682a814arow4_col0 {\n",
       "            background-color:  #abdfab;\n",
       "            color:  #000000;\n",
       "        }    #T_5be2de5c_052b_11eb_ab21_3202682a814arow4_col1 {\n",
       "            background-color:  #e5ffe5;\n",
       "            color:  #000000;\n",
       "        }    #T_5be2de5c_052b_11eb_ab21_3202682a814arow4_col2 {\n",
       "            background-color:  #e5ffe5;\n",
       "            color:  #000000;\n",
       "        }    #T_5be2de5c_052b_11eb_ab21_3202682a814arow4_col3 {\n",
       "            background-color:  #b9e7b9;\n",
       "            color:  #000000;\n",
       "        }    #T_5be2de5c_052b_11eb_ab21_3202682a814arow4_col4 {\n",
       "            background-color:  #008000;\n",
       "            color:  #f1f1f1;\n",
       "        }</style><table id=\"T_5be2de5c_052b_11eb_ab21_3202682a814a\" ><thead>    <tr>        <th class=\"blank level0\" ></th>        <th class=\"col_heading level0 col0\" >SEVERITYCODE</th>        <th class=\"col_heading level0 col1\" >VEHCOUNT</th>        <th class=\"col_heading level0 col2\" >PERSONCOUNT</th>        <th class=\"col_heading level0 col3\" >PEDCOUNT</th>        <th class=\"col_heading level0 col4\" >PEDCYLCOUNT</th>    </tr></thead><tbody>\n",
       "                <tr>\n",
       "                        <th id=\"T_5be2de5c_052b_11eb_ab21_3202682a814alevel0_row0\" class=\"row_heading level0 row0\" >SEVERITYCODE</th>\n",
       "                        <td id=\"T_5be2de5c_052b_11eb_ab21_3202682a814arow0_col0\" class=\"data row0 col0\" >1.00</td>\n",
       "                        <td id=\"T_5be2de5c_052b_11eb_ab21_3202682a814arow0_col1\" class=\"data row0 col1\" >-0.05</td>\n",
       "                        <td id=\"T_5be2de5c_052b_11eb_ab21_3202682a814arow0_col2\" class=\"data row0 col2\" >0.13</td>\n",
       "                        <td id=\"T_5be2de5c_052b_11eb_ab21_3202682a814arow0_col3\" class=\"data row0 col3\" >0.25</td>\n",
       "                        <td id=\"T_5be2de5c_052b_11eb_ab21_3202682a814arow0_col4\" class=\"data row0 col4\" >0.21</td>\n",
       "            </tr>\n",
       "            <tr>\n",
       "                        <th id=\"T_5be2de5c_052b_11eb_ab21_3202682a814alevel0_row1\" class=\"row_heading level0 row1\" >VEHCOUNT</th>\n",
       "                        <td id=\"T_5be2de5c_052b_11eb_ab21_3202682a814arow1_col0\" class=\"data row1 col0\" >-0.05</td>\n",
       "                        <td id=\"T_5be2de5c_052b_11eb_ab21_3202682a814arow1_col1\" class=\"data row1 col1\" >1.00</td>\n",
       "                        <td id=\"T_5be2de5c_052b_11eb_ab21_3202682a814arow1_col2\" class=\"data row1 col2\" >0.38</td>\n",
       "                        <td id=\"T_5be2de5c_052b_11eb_ab21_3202682a814arow1_col3\" class=\"data row1 col3\" >-0.26</td>\n",
       "                        <td id=\"T_5be2de5c_052b_11eb_ab21_3202682a814arow1_col4\" class=\"data row1 col4\" >-0.25</td>\n",
       "            </tr>\n",
       "            <tr>\n",
       "                        <th id=\"T_5be2de5c_052b_11eb_ab21_3202682a814alevel0_row2\" class=\"row_heading level0 row2\" >PERSONCOUNT</th>\n",
       "                        <td id=\"T_5be2de5c_052b_11eb_ab21_3202682a814arow2_col0\" class=\"data row2 col0\" >0.13</td>\n",
       "                        <td id=\"T_5be2de5c_052b_11eb_ab21_3202682a814arow2_col1\" class=\"data row2 col1\" >0.38</td>\n",
       "                        <td id=\"T_5be2de5c_052b_11eb_ab21_3202682a814arow2_col2\" class=\"data row2 col2\" >1.00</td>\n",
       "                        <td id=\"T_5be2de5c_052b_11eb_ab21_3202682a814arow2_col3\" class=\"data row2 col3\" >-0.02</td>\n",
       "                        <td id=\"T_5be2de5c_052b_11eb_ab21_3202682a814arow2_col4\" class=\"data row2 col4\" >-0.04</td>\n",
       "            </tr>\n",
       "            <tr>\n",
       "                        <th id=\"T_5be2de5c_052b_11eb_ab21_3202682a814alevel0_row3\" class=\"row_heading level0 row3\" >PEDCOUNT</th>\n",
       "                        <td id=\"T_5be2de5c_052b_11eb_ab21_3202682a814arow3_col0\" class=\"data row3 col0\" >0.25</td>\n",
       "                        <td id=\"T_5be2de5c_052b_11eb_ab21_3202682a814arow3_col1\" class=\"data row3 col1\" >-0.26</td>\n",
       "                        <td id=\"T_5be2de5c_052b_11eb_ab21_3202682a814arow3_col2\" class=\"data row3 col2\" >-0.02</td>\n",
       "                        <td id=\"T_5be2de5c_052b_11eb_ab21_3202682a814arow3_col3\" class=\"data row3 col3\" >1.00</td>\n",
       "                        <td id=\"T_5be2de5c_052b_11eb_ab21_3202682a814arow3_col4\" class=\"data row3 col4\" >-0.02</td>\n",
       "            </tr>\n",
       "            <tr>\n",
       "                        <th id=\"T_5be2de5c_052b_11eb_ab21_3202682a814alevel0_row4\" class=\"row_heading level0 row4\" >PEDCYLCOUNT</th>\n",
       "                        <td id=\"T_5be2de5c_052b_11eb_ab21_3202682a814arow4_col0\" class=\"data row4 col0\" >0.21</td>\n",
       "                        <td id=\"T_5be2de5c_052b_11eb_ab21_3202682a814arow4_col1\" class=\"data row4 col1\" >-0.25</td>\n",
       "                        <td id=\"T_5be2de5c_052b_11eb_ab21_3202682a814arow4_col2\" class=\"data row4 col2\" >-0.04</td>\n",
       "                        <td id=\"T_5be2de5c_052b_11eb_ab21_3202682a814arow4_col3\" class=\"data row4 col3\" >-0.02</td>\n",
       "                        <td id=\"T_5be2de5c_052b_11eb_ab21_3202682a814arow4_col4\" class=\"data row4 col4\" >1.00</td>\n",
       "            </tr>\n",
       "    </tbody></table>"
      ],
      "text/plain": [
       "<pandas.io.formats.style.Styler at 0x7fc6e7e117b8>"
      ]
     },
     "execution_count": 55,
     "metadata": {},
     "output_type": "execute_result"
    }
   ],
   "source": [
    "corr = df_explore.corr()\n",
    "cm = sns.light_palette(\"green\", as_cmap=True)\n",
    "corr.style.background_gradient(cmap=cm).set_precision(2)"
   ]
  },
  {
   "cell_type": "code",
   "execution_count": 56,
   "metadata": {},
   "outputs": [
    {
     "data": {
      "text/plain": [
       "[Text(0.5, 0, 'Collisions'), Text(0, 0.5, 'Cyclist Count')]"
      ]
     },
     "execution_count": 56,
     "metadata": {},
     "output_type": "execute_result"
    },
    {
     "data": {
      "image/png": "[encoded data removed]",
      "text/plain": [
       "<Figure size 1296x1008 with 4 Axes>"
      ]
     },
     "metadata": {
      "needs_background": "light"
     },
     "output_type": "display_data"
    }
   ],
   "source": [
    "fig, ax = plt.subplots(2,2, figsize = (18, 14))\n",
    "ax1, ax2, ax3, ax4 = ax.flatten()\n",
    "\n",
    "sns.countplot(y=\"VEHCOUNT\", hue=\"SEVERITYCODE\", data=df_explore, ax=ax1)\n",
    "ax1.set(xlabel='Collisions', ylabel='Vehicle Count')\n",
    "\n",
    "sns.countplot(y=\"PERSONCOUNT\", hue=\"SEVERITYCODE\", data=df_explore, ax=ax2)\n",
    "ax2.set(xlabel='Collisions', ylabel='Person Count')\n",
    "\n",
    "sns.countplot(y=\"PEDCOUNT\", hue=\"SEVERITYCODE\", data=df_explore, ax=ax3)\n",
    "ax3.set(xlabel='Collisions', ylabel=\"Pedestrian Count\")\n",
    "\n",
    "sns.countplot(y=\"PEDCYLCOUNT\", hue=\"SEVERITYCODE\", data=df_explore, ax=ax4)\n",
    "ax4.set(xlabel='Collisions', ylabel=\"Cyclist Count\")"
   ]
  },
  {
   "cell_type": "markdown",
   "metadata": {},
   "source": [
    "Person distribution is way off.  Side bar - there was a huge bus accident which had the 81 people involved, that was a single crash.  In any case this need to be adjusted for modeling.  Consider categorizing these resampling.  Same with vehicle count but this is not as bad.  While walkers and bike riders are almost certain to have an injury involved there are a minimum number of these so not a good candidate, try it out though.  "
   ]
  },
  {
   "cell_type": "markdown",
   "metadata": {},
   "source": [
    "## Human Factors - INATTENTIONIND, UNDERINFL"
   ]
  },
  {
   "cell_type": "markdown",
   "metadata": {},
   "source": [
    "There is a lot of distracted drivers causing accidents.  There is some correlation with both so these are candidates."
   ]
  },
  {
   "cell_type": "code",
   "execution_count": 18,
   "metadata": {},
   "outputs": [],
   "source": [
    "df_explore = df[['SEVERITYCODE','INATTENTIONIND','UNDERINFL']].copy()"
   ]
  },
  {
   "cell_type": "code",
   "execution_count": 19,
   "metadata": {},
   "outputs": [
    {
     "data": {
      "text/plain": [
       "array([nan, 'Y'], dtype=object)"
      ]
     },
     "execution_count": 19,
     "metadata": {},
     "output_type": "execute_result"
    }
   ],
   "source": [
    "df_explore['INATTENTIONIND'].unique()"
   ]
  },
  {
   "cell_type": "code",
   "execution_count": 20,
   "metadata": {},
   "outputs": [
    {
     "data": {
      "text/plain": [
       "array(['N', '0', nan, '1', 'Y'], dtype=object)"
      ]
     },
     "execution_count": 20,
     "metadata": {},
     "output_type": "execute_result"
    }
   ],
   "source": [
    "df_explore['UNDERINFL'].unique()"
   ]
  },
  {
   "cell_type": "code",
   "execution_count": 21,
   "metadata": {},
   "outputs": [],
   "source": [
    "df_explore[['UNDERINFL','INATTENTIONIND']] = df_explore[['UNDERINFL','INATTENTIONIND']].replace(['Y','1', 1.0], 1)\n",
    "df_explore['UNDERINFL'] = df_explore['UNDERINFL'].replace(['N','0', 0.0], 0)\n",
    "df_explore['INATTENTIONIND'] = df_explore['INATTENTIONIND'].replace(np.nan, 0)\n",
    "df_explore['UNDERINFL'] = df_explore['UNDERINFL'].replace(np.nan, 0)"
   ]
  },
  {
   "cell_type": "code",
   "execution_count": 27,
   "metadata": {},
   "outputs": [
    {
     "data": {
      "text/plain": [
       "0.0    164868\n",
       "1.0     29805\n",
       "Name: INATTENTIONIND, dtype: int64"
      ]
     },
     "execution_count": 27,
     "metadata": {},
     "output_type": "execute_result"
    }
   ],
   "source": [
    "df_explore['INATTENTIONIND'].value_counts()"
   ]
  },
  {
   "cell_type": "code",
   "execution_count": 28,
   "metadata": {},
   "outputs": [
    {
     "data": {
      "text/plain": [
       "0.0    185552\n",
       "1.0      9121\n",
       "Name: UNDERINFL, dtype: int64"
      ]
     },
     "execution_count": 28,
     "metadata": {},
     "output_type": "execute_result"
    }
   ],
   "source": [
    "df_explore['UNDERINFL'].value_counts()"
   ]
  },
  {
   "cell_type": "code",
   "execution_count": 22,
   "metadata": {},
   "outputs": [
    {
     "data": {
      "text/html": [
       "<style  type=\"text/css\" >\n",
       "    #T_9d010b0e_0524_11eb_ab21_3202682a814arow0_col0 {\n",
       "            background-color:  #008000;\n",
       "            color:  #f1f1f1;\n",
       "        }    #T_9d010b0e_0524_11eb_ab21_3202682a814arow0_col1 {\n",
       "            background-color:  #d5f6d5;\n",
       "            color:  #000000;\n",
       "        }    #T_9d010b0e_0524_11eb_ab21_3202682a814arow0_col2 {\n",
       "            background-color:  #d6f7d6;\n",
       "            color:  #000000;\n",
       "        }    #T_9d010b0e_0524_11eb_ab21_3202682a814arow1_col0 {\n",
       "            background-color:  #e5ffe5;\n",
       "            color:  #000000;\n",
       "        }    #T_9d010b0e_0524_11eb_ab21_3202682a814arow1_col1 {\n",
       "            background-color:  #008000;\n",
       "            color:  #f1f1f1;\n",
       "        }    #T_9d010b0e_0524_11eb_ab21_3202682a814arow1_col2 {\n",
       "            background-color:  #e5ffe5;\n",
       "            color:  #000000;\n",
       "        }    #T_9d010b0e_0524_11eb_ab21_3202682a814arow2_col0 {\n",
       "            background-color:  #e5ffe5;\n",
       "            color:  #000000;\n",
       "        }    #T_9d010b0e_0524_11eb_ab21_3202682a814arow2_col1 {\n",
       "            background-color:  #e5ffe5;\n",
       "            color:  #000000;\n",
       "        }    #T_9d010b0e_0524_11eb_ab21_3202682a814arow2_col2 {\n",
       "            background-color:  #008000;\n",
       "            color:  #f1f1f1;\n",
       "        }</style><table id=\"T_9d010b0e_0524_11eb_ab21_3202682a814a\" ><thead>    <tr>        <th class=\"blank level0\" ></th>        <th class=\"col_heading level0 col0\" >SEVERITYCODE</th>        <th class=\"col_heading level0 col1\" >INATTENTIONIND</th>        <th class=\"col_heading level0 col2\" >UNDERINFL</th>    </tr></thead><tbody>\n",
       "                <tr>\n",
       "                        <th id=\"T_9d010b0e_0524_11eb_ab21_3202682a814alevel0_row0\" class=\"row_heading level0 row0\" >SEVERITYCODE</th>\n",
       "                        <td id=\"T_9d010b0e_0524_11eb_ab21_3202682a814arow0_col0\" class=\"data row0 col0\" >1.00</td>\n",
       "                        <td id=\"T_9d010b0e_0524_11eb_ab21_3202682a814arow0_col1\" class=\"data row0 col1\" >0.05</td>\n",
       "                        <td id=\"T_9d010b0e_0524_11eb_ab21_3202682a814arow0_col2\" class=\"data row0 col2\" >0.04</td>\n",
       "            </tr>\n",
       "            <tr>\n",
       "                        <th id=\"T_9d010b0e_0524_11eb_ab21_3202682a814alevel0_row1\" class=\"row_heading level0 row1\" >INATTENTIONIND</th>\n",
       "                        <td id=\"T_9d010b0e_0524_11eb_ab21_3202682a814arow1_col0\" class=\"data row1 col0\" >0.05</td>\n",
       "                        <td id=\"T_9d010b0e_0524_11eb_ab21_3202682a814arow1_col1\" class=\"data row1 col1\" >1.00</td>\n",
       "                        <td id=\"T_9d010b0e_0524_11eb_ab21_3202682a814arow1_col2\" class=\"data row1 col2\" >-0.03</td>\n",
       "            </tr>\n",
       "            <tr>\n",
       "                        <th id=\"T_9d010b0e_0524_11eb_ab21_3202682a814alevel0_row2\" class=\"row_heading level0 row2\" >UNDERINFL</th>\n",
       "                        <td id=\"T_9d010b0e_0524_11eb_ab21_3202682a814arow2_col0\" class=\"data row2 col0\" >0.04</td>\n",
       "                        <td id=\"T_9d010b0e_0524_11eb_ab21_3202682a814arow2_col1\" class=\"data row2 col1\" >-0.03</td>\n",
       "                        <td id=\"T_9d010b0e_0524_11eb_ab21_3202682a814arow2_col2\" class=\"data row2 col2\" >1.00</td>\n",
       "            </tr>\n",
       "    </tbody></table>"
      ],
      "text/plain": [
       "<pandas.io.formats.style.Styler at 0x7fc75b85f898>"
      ]
     },
     "execution_count": 22,
     "metadata": {},
     "output_type": "execute_result"
    }
   ],
   "source": [
    "corr = df_explore.corr()\n",
    "cm = sns.light_palette(\"green\", as_cmap=True)\n",
    "corr.style.background_gradient(cmap=cm).set_precision(2)"
   ]
  },
  {
   "cell_type": "code",
   "execution_count": 26,
   "metadata": {},
   "outputs": [
    {
     "data": {
      "text/plain": [
       "[Text(0.5, 0, 'Collisions'), Text(0, 0.5, 'Intoxicated Driver')]"
      ]
     },
     "execution_count": 26,
     "metadata": {},
     "output_type": "execute_result"
    },
    {
     "data": {
      "image/png": "[encoded data removed]",
      "text/plain": [
       "<Figure size 864x216 with 2 Axes>"
      ]
     },
     "metadata": {
      "needs_background": "light"
     },
     "output_type": "display_data"
    }
   ],
   "source": [
    "fig, ax = plt.subplots(1,2, figsize = (12, 3))\n",
    "ax1, ax2 = ax.flatten()\n",
    "\n",
    "# Plot when the driver is distracted\n",
    "sns.countplot(y=\"INATTENTIONIND\", hue=\"SEVERITYCODE\", data=df_explore[(df_explore.INATTENTIONIND == 1)], ax=ax1)\n",
    "ax1.set(xlabel='Collisions', ylabel=\"Distracted Driver\")\n",
    "\n",
    "# Plot when driver is intoxicated\n",
    "sns.countplot(y=\"UNDERINFL\", hue=\"SEVERITYCODE\", data=df_explore[(df_explore.UNDERINFL ==1)], ax=ax2)\n",
    "ax2.set(xlabel='Collisions', ylabel=\"Intoxicated Driver\")"
   ]
  },
  {
   "cell_type": "markdown",
   "metadata": {},
   "source": [
    "## Collision Descriptors"
   ]
  },
  {
   "cell_type": "code",
   "execution_count": 104,
   "metadata": {},
   "outputs": [
    {
     "name": "stdout",
     "output_type": "stream",
     "text": [
      "['Angles' 'Sideswipe' 'Parked Car' 'Other' 'Cycles' 'Rear Ended' 'Head On'\n",
      " nan 'Left Turn' 'Pedestrian' 'Right Turn']\n"
     ]
    },
    {
     "data": {
      "text/plain": [
       "<AxesSubplot:xlabel='COLLISIONTYPE', ylabel='count'>"
      ]
     },
     "execution_count": 104,
     "metadata": {},
     "output_type": "execute_result"
    },
    {
     "data": {
      "image/png": "[encoded data removed]",
      "text/plain": [
       "<Figure size 1440x720 with 1 Axes>"
      ]
     },
     "metadata": {
      "needs_background": "light"
     },
     "output_type": "display_data"
    }
   ],
   "source": [
    "# These are a superset of SDOT collision types.  Also overlap with HITPARKEDCAR.\n",
    "print(df['COLLISIONTYPE'].unique())\n",
    "fig, ax = plt.subplots(figsize=(20,10))\n",
    "sns.countplot(x=\"COLLISIONTYPE\", hue=\"SEVERITYCODE\", data=df, ax=ax)"
   ]
  },
  {
   "cell_type": "code",
   "execution_count": 101,
   "metadata": {},
   "outputs": [
    {
     "name": "stdout",
     "output_type": "stream",
     "text": [
      "[nan 'Y']\n"
     ]
    },
    {
     "data": {
      "text/plain": [
       "<AxesSubplot:xlabel='count', ylabel='SPEEDING'>"
      ]
     },
     "execution_count": 101,
     "metadata": {},
     "output_type": "execute_result"
    },
    {
     "data": {
      "image/png": "[encoded data removed]",
      "text/plain": [
       "<Figure size 432x288 with 1 Axes>"
      ]
     },
     "metadata": {
      "needs_background": "light"
     },
     "output_type": "display_data"
    }
   ],
   "source": [
    "# Surprising there is not more speeding, but when there is there a good chance of injury\n",
    "print(df['SPEEDING'].unique())\n",
    "sns.countplot(y=\"SPEEDING\", hue=\"SEVERITYCODE\", data=df)"
   ]
  },
  {
   "cell_type": "code",
   "execution_count": 64,
   "metadata": {},
   "outputs": [
    {
     "name": "stdout",
     "output_type": "stream",
     "text": [
      "['N' 'Y']\n",
      "N    187457\n",
      "Y      7216\n",
      "Name: HITPARKEDCAR, dtype: int64\n"
     ]
    },
    {
     "data": {
      "text/plain": [
       "<AxesSubplot:xlabel='count', ylabel='HITPARKEDCAR'>"
      ]
     },
     "execution_count": 64,
     "metadata": {},
     "output_type": "execute_result"
    },
    {
     "data": {
      "image/png": "[encoded data removed]",
      "text/plain": [
       "<Figure size 432x288 with 1 Axes>"
      ]
     },
     "metadata": {
      "needs_background": "light"
     },
     "output_type": "display_data"
    }
   ],
   "source": [
    "# When hitting a parked car there is little chance of injury\n",
    "print(df['HITPARKEDCAR'].unique())\n",
    "print(df['HITPARKEDCAR'].value_counts())\n",
    "sns.countplot(y=\"HITPARKEDCAR\", hue=\"SEVERITYCODE\", data=df[(df.HITPARKEDCAR == 'Y')])"
   ]
  },
  {
   "cell_type": "code",
   "execution_count": 103,
   "metadata": {},
   "outputs": [
    {
     "name": "stdout",
     "output_type": "stream",
     "text": [
      "[nan 'Y']\n",
      "Y    4667\n",
      "Name: PEDROWNOTGRNT, dtype: int64\n"
     ]
    },
    {
     "data": {
      "text/plain": [
       "<AxesSubplot:xlabel='count', ylabel='PEDROWNOTGRNT'>"
      ]
     },
     "execution_count": 103,
     "metadata": {},
     "output_type": "execute_result"
    },
    {
     "data": {
      "image/png": "[encoded data removed]",
      "text/plain": [
       "<Figure size 432x288 with 1 Axes>"
      ]
     },
     "metadata": {
      "needs_background": "light"
     },
     "output_type": "display_data"
    }
   ],
   "source": [
    "# When a pedestrian is not given right of way this is usually an injury\n",
    "print(df['PEDROWNOTGRNT'].unique())\n",
    "print(df['PEDROWNOTGRNT'].value_counts())\n",
    "sns.countplot(y=\"PEDROWNOTGRNT\", hue=\"SEVERITYCODE\", data=df)"
   ]
  },
  {
   "cell_type": "code",
   "execution_count": 86,
   "metadata": {},
   "outputs": [
    {
     "name": "stdout",
     "output_type": "stream",
     "text": [
      "[11 16 14 51 13 26 28 18 34  0 24 69 12 21 23 29 27 48 15 55 33 56 54 31\n",
      " 44 32 25 66 36 64 22 58 47 61 35 53 46 68 52]\n"
     ]
    },
    {
     "data": {
      "text/plain": [
       "<AxesSubplot:xlabel='SDOT_COLCODE', ylabel='count'>"
      ]
     },
     "execution_count": 86,
     "metadata": {},
     "output_type": "execute_result"
    },
    {
     "data": {
      "image/png": "[encoded data removed]",
      "text/plain": [
       "<Figure size 1440x720 with 1 Axes>"
      ]
     },
     "metadata": {
      "needs_background": "light"
     },
     "output_type": "display_data"
    }
   ],
   "source": [
    "print(df['SDOT_COLCODE'].unique())\n",
    "fig, ax = plt.subplots(figsize=(20,10))\n",
    "sns.countplot(x=\"SDOT_COLCODE\", hue=\"SEVERITYCODE\", data=df, ax=ax)\n",
    "#sns.violinplot(df['SDOT_COLCODE'], ax=ax)"
   ]
  },
  {
   "cell_type": "code",
   "execution_count": 102,
   "metadata": {},
   "outputs": [
    {
     "data": {
      "text/html": [
       "<div>\n",
       "<style scoped>\n",
       "    .dataframe tbody tr th:only-of-type {\n",
       "        vertical-align: middle;\n",
       "    }\n",
       "\n",
       "    .dataframe tbody tr th {\n",
       "        vertical-align: top;\n",
       "    }\n",
       "\n",
       "    .dataframe thead th {\n",
       "        text-align: right;\n",
       "    }\n",
       "</style>\n",
       "<table border=\"1\" class=\"dataframe\">\n",
       "  <thead>\n",
       "    <tr style=\"text-align: right;\">\n",
       "      <th></th>\n",
       "      <th>SDOT_COLDESC</th>\n",
       "      <th>ST_COLDESC</th>\n",
       "    </tr>\n",
       "  </thead>\n",
       "  <tbody>\n",
       "    <tr>\n",
       "      <th>0</th>\n",
       "      <td>MOTOR VEHICLE STRUCK MOTOR VEHICLE, FRONT END ...</td>\n",
       "      <td>Entering at angle</td>\n",
       "    </tr>\n",
       "    <tr>\n",
       "      <th>1</th>\n",
       "      <td>MOTOR VEHICLE STRUCK MOTOR VEHICLE, LEFT SIDE ...</td>\n",
       "      <td>From same direction - both going straight - bo...</td>\n",
       "    </tr>\n",
       "    <tr>\n",
       "      <th>2</th>\n",
       "      <td>MOTOR VEHICLE STRUCK MOTOR VEHICLE, REAR END</td>\n",
       "      <td>One parked--one moving</td>\n",
       "    </tr>\n",
       "    <tr>\n",
       "      <th>3</th>\n",
       "      <td>MOTOR VEHICLE STRUCK MOTOR VEHICLE, FRONT END ...</td>\n",
       "      <td>From same direction - all others</td>\n",
       "    </tr>\n",
       "    <tr>\n",
       "      <th>4</th>\n",
       "      <td>MOTOR VEHICLE STRUCK MOTOR VEHICLE, FRONT END ...</td>\n",
       "      <td>Entering at angle</td>\n",
       "    </tr>\n",
       "    <tr>\n",
       "      <th>...</th>\n",
       "      <td>...</td>\n",
       "      <td>...</td>\n",
       "    </tr>\n",
       "    <tr>\n",
       "      <th>194668</th>\n",
       "      <td>MOTOR VEHICLE STRUCK MOTOR VEHICLE, FRONT END ...</td>\n",
       "      <td>From opposite direction - both moving - head-on</td>\n",
       "    </tr>\n",
       "    <tr>\n",
       "      <th>194669</th>\n",
       "      <td>MOTOR VEHICLE STRUCK MOTOR VEHICLE, REAR END</td>\n",
       "      <td>From same direction - both going straight - bo...</td>\n",
       "    </tr>\n",
       "    <tr>\n",
       "      <th>194670</th>\n",
       "      <td>MOTOR VEHICLE STRUCK MOTOR VEHICLE, FRONT END ...</td>\n",
       "      <td>From opposite direction - one left turn - one ...</td>\n",
       "    </tr>\n",
       "    <tr>\n",
       "      <th>194671</th>\n",
       "      <td>PEDALCYCLIST STRUCK MOTOR VEHICLE FRONT END AT...</td>\n",
       "      <td>Vehicle Strikes Pedalcyclist</td>\n",
       "    </tr>\n",
       "    <tr>\n",
       "      <th>194672</th>\n",
       "      <td>MOTOR VEHICLE STRUCK MOTOR VEHICLE, REAR END</td>\n",
       "      <td>From same direction - both going straight - on...</td>\n",
       "    </tr>\n",
       "  </tbody>\n",
       "</table>\n",
       "<p>194673 rows × 2 columns</p>\n",
       "</div>"
      ],
      "text/plain": [
       "                                             SDOT_COLDESC  \\\n",
       "0       MOTOR VEHICLE STRUCK MOTOR VEHICLE, FRONT END ...   \n",
       "1       MOTOR VEHICLE STRUCK MOTOR VEHICLE, LEFT SIDE ...   \n",
       "2            MOTOR VEHICLE STRUCK MOTOR VEHICLE, REAR END   \n",
       "3       MOTOR VEHICLE STRUCK MOTOR VEHICLE, FRONT END ...   \n",
       "4       MOTOR VEHICLE STRUCK MOTOR VEHICLE, FRONT END ...   \n",
       "...                                                   ...   \n",
       "194668  MOTOR VEHICLE STRUCK MOTOR VEHICLE, FRONT END ...   \n",
       "194669       MOTOR VEHICLE STRUCK MOTOR VEHICLE, REAR END   \n",
       "194670  MOTOR VEHICLE STRUCK MOTOR VEHICLE, FRONT END ...   \n",
       "194671  PEDALCYCLIST STRUCK MOTOR VEHICLE FRONT END AT...   \n",
       "194672       MOTOR VEHICLE STRUCK MOTOR VEHICLE, REAR END   \n",
       "\n",
       "                                               ST_COLDESC  \n",
       "0                                       Entering at angle  \n",
       "1       From same direction - both going straight - bo...  \n",
       "2                                  One parked--one moving  \n",
       "3                        From same direction - all others  \n",
       "4                                       Entering at angle  \n",
       "...                                                   ...  \n",
       "194668    From opposite direction - both moving - head-on  \n",
       "194669  From same direction - both going straight - bo...  \n",
       "194670  From opposite direction - one left turn - one ...  \n",
       "194671                       Vehicle Strikes Pedalcyclist  \n",
       "194672  From same direction - both going straight - on...  \n",
       "\n",
       "[194673 rows x 2 columns]"
      ]
     },
     "execution_count": 102,
     "metadata": {},
     "output_type": "execute_result"
    }
   ],
   "source": [
    "# SDOT and Washington State collision codes are different but representing the same thing.  So much for standardization.\n",
    "# Use the SDOT codes only, do not use the state ones\n",
    "df[{'SDOT_COLDESC','ST_COLDESC'}]"
   ]
  },
  {
   "cell_type": "code",
   "execution_count": 93,
   "metadata": {},
   "outputs": [
    {
     "name": "stdout",
     "output_type": "stream",
     "text": [
      "[    0  6855 25242 ... 11583 10319 45880]\n",
      "0         191907\n",
      "6532          19\n",
      "6078          16\n",
      "12162         15\n",
      "10336         14\n",
      "           ...  \n",
      "35157          1\n",
      "10817          1\n",
      "15043          1\n",
      "525169         1\n",
      "16376          1\n",
      "Name: SEGLANEKEY, Length: 1955, dtype: int64\n"
     ]
    }
   ],
   "source": [
    "# Not a clue what these are and no info to be found, not worth investigating\n",
    "print(df['SEGLANEKEY'].unique())\n",
    "print(df['SEGLANEKEY'].value_counts())"
   ]
  },
  {
   "cell_type": "markdown",
   "metadata": {},
   "source": [
    "## Data Understsanding Wrap-Up"
   ]
  },
  {
   "cell_type": "markdown",
   "metadata": {},
   "source": [
    "Based on analysis of the data set we conclude the following attributes will make it into the model as features.\n",
    "- Severity\n",
    "    - **SEVERITYCODE**\n",
    "    - ~~**SEVERITYDESC**~~ - nothing of value here\n",
    "- Location, Time\n",
    "    - ~~**INCDATE**~~ - out, this is redundant\n",
    "    - ~~**INCDTTM**~~ - out, all date parts are not helpful to the model\n",
    "    - ~~**X**~~ - out, these could be helpful for additional info but not for this study\n",
    "    - ~~**Y**~~ - out, same as above\n",
    "    - ~~**LOCATION**~~ - out, while containing a lot of detail is too complex to handle for this study\n",
    "    - **ADDRTYPE** - in, one of the better features with solid correlation \n",
    "    - **JUNCTIONTYPE** - in, another good feature with solid correlation\n",
    "    - ~~**INTKEY**~~ - out, this is key\n",
    "    - ~~**CROSSWALKKEY**~~ - out, is key but has correlation to severity\n",
    "- Situational Conditions\n",
    "    - **WEATHER** - in, dropping most of the categories\n",
    "    - **ROADCOND** - in, dropping most of the categories\n",
    "    - **LIGHTCOND** - in, dropping most of the categories\n",
    "- Counts\n",
    "    - **VEHCOUNT** - in, there is some correlation here but need to consider overfitting\n",
    "    - **PERSONCOUNT** - in, there are plenty of outliers here, clean-up needed\n",
    "    - ~~**PEDCOUNT**~~ -  out, there is correlation here but not enough to sway the prediction\n",
    "    - ~~**PEDCYLCOUNT**~~ - out, there is correlation here but not enough to sway the prediction\n",
    "- Human Factors\n",
    "    - **INATTENTIONIND** - in, not a strong correlation but helpful\n",
    "    - **UNDERINFL** - in, not a strong correlation but helpful\n",
    "- Collision Descriptors\n",
    "    - **COLLISIONTYPE** - in, good correlation keep all of the categories here\n",
    "    - **SPEEDING** - in, there's not a lot here but there is a correlation\n",
    "    - ~~**SEGLANEKEY**~~ - out, there's no info on what these are does not help with severity\n",
    "    - **HITPARKEDCAR** - in, helps with severity, it's not as severe when a parked car is involved\n",
    "    - **PEDROWNOTGRNT** - in, there's almost always an injury when this is set\n",
    "    - **SDOTCOLNUM** - out, key\n",
    "    - ~~**SDOT_COLCODE**~~ - in, SDOT code used to describe the collision\n",
    "    - ~~**SDOT_COLDESC**~~ - out, no need for the description\n",
    "    - ~~**ST_COLCODE**~~ - out, overlap with SDOT_COLCODE\n",
    "    - ~~**ST_COLDESC**~~\n"
   ]
  },
  {
   "cell_type": "markdown",
   "metadata": {},
   "source": [
    "# Data Preparation"
   ]
  },
  {
   "cell_type": "code",
   "execution_count": 129,
   "metadata": {},
   "outputs": [
    {
     "name": "stdout",
     "output_type": "stream",
     "text": [
      "File downloaded\n"
     ]
    }
   ],
   "source": [
    "# Get a fresh read on the data file\n",
    "df = pd.read_csv(\"https://s3.us.cloud-object-storage.appdomain.cloud/cf-courses-data/CognitiveClass/DP0701EN/version-2/Data-Collisions.csv\",\\\n",
    "                low_memory = False)\n",
    "print('File downloaded')"
   ]
  },
  {
   "cell_type": "code",
   "execution_count": 130,
   "metadata": {},
   "outputs": [
    {
     "data": {
      "text/plain": [
       "1    136485\n",
       "2     58188\n",
       "Name: SEVERITYCODE, dtype: int64"
      ]
     },
     "execution_count": 130,
     "metadata": {},
     "output_type": "execute_result"
    }
   ],
   "source": [
    "df['SEVERITYCODE'].value_counts()"
   ]
  },
  {
   "cell_type": "code",
   "execution_count": 131,
   "metadata": {},
   "outputs": [],
   "source": [
    "df.drop(columns=['X','Y','OBJECTID','INCKEY','COLDETKEY','REPORTNO','STATUS','INTKEY','EXCEPTRSNCODE','EXCEPTRSNDESC'\n",
    "                      ,'SEVERITYCODE.1','SEVERITYDESC','INCDATE','SDOT_COLDESC','SDOTCOLNUM','ST_COLDESC','SEGLANEKEY',\n",
    "                      'CROSSWALKKEY', 'PEDCOUNT','PEDCYLCOUNT','INCDTTM','ST_COLCODE','LOCATION'],inplace=True)"
   ]
  },
  {
   "cell_type": "code",
   "execution_count": 132,
   "metadata": {},
   "outputs": [],
   "source": [
    "df[\"SEVERITYCODE\"]=df[\"SEVERITYCODE\"].apply(lambda x : 0 if x==1 else 1)\n",
    "df[\"HITPARKEDCAR\"]=df[\"HITPARKEDCAR\"].apply(lambda x : 1 if x==\"Y\" else 0)\n",
    "df[\"PEDROWNOTGRNT\"]=df[\"PEDROWNOTGRNT\"].apply(lambda x : 1 if x==\"Y\" else 0)\n",
    "df[\"SPEEDING\"]=df[\"SPEEDING\"].apply(lambda x : 1 if x==\"Y\" else 0)\n",
    "df[\"INATTENTIONIND\"]=df[\"INATTENTIONIND\"].apply(lambda x : 1 if x==\"Y\" else 0)\n",
    "df[\"UNDERINFL\"]=df[\"UNDERINFL\"].fillna(0).apply(lambda x : 1 if x =='Y' else (0 if x == 'N' else int(x)))\n",
    "#df['INCDTTM'] = pd.to_datetime(df['INCDTTM'])\n",
    "#df['SDOT_COLCODE'] = df['SDOT_COLCODE'].fillna('0.0').astype('float64')"
   ]
  },
  {
   "cell_type": "code",
   "execution_count": 156,
   "metadata": {},
   "outputs": [],
   "source": [
    "df_features = df.copy()"
   ]
  },
  {
   "cell_type": "code",
   "execution_count": 157,
   "metadata": {},
   "outputs": [
    {
     "data": {
      "text/plain": [
       "Index(['SEVERITYCODE', 'ADDRTYPE', 'COLLISIONTYPE', 'PERSONCOUNT', 'VEHCOUNT',\n",
       "       'JUNCTIONTYPE', 'SDOT_COLCODE', 'INATTENTIONIND', 'UNDERINFL',\n",
       "       'WEATHER', 'ROADCOND', 'LIGHTCOND', 'PEDROWNOTGRNT', 'SPEEDING',\n",
       "       'HITPARKEDCAR'],\n",
       "      dtype='object')"
      ]
     },
     "execution_count": 157,
     "metadata": {},
     "output_type": "execute_result"
    }
   ],
   "source": [
    "df_features.columns"
   ]
  },
  {
   "cell_type": "code",
   "execution_count": 158,
   "metadata": {},
   "outputs": [],
   "source": [
    "df_features[\"WEATHER\"]= df_features[\"WEATHER\"].apply(lambda x: \"OVERCAST\" if x == \"Overcast\" else (\"RAINING\" if x == \"Raining\" else\n",
    "                                                                (\"CLEAR\" if x == \"Clear\" else (\"UNKNOWN\" if x ==\"Unknown\" else\n",
    "                                                                                              \"NOISE\" ))))"
   ]
  },
  {
   "cell_type": "code",
   "execution_count": 159,
   "metadata": {},
   "outputs": [],
   "source": [
    "df_features[\"ROADCOND\"]= df_features[\"ROADCOND\"].apply(lambda x: \"DRY\" if x == \"Dry\" else (\"WET\" if x == \"Wet\" else\n",
    "                                                                 (\"UNKNOWN\" if x ==\"Unknown\" else\n",
    "                                                                                              \"NOISE\" )))"
   ]
  },
  {
   "cell_type": "code",
   "execution_count": 160,
   "metadata": {},
   "outputs": [],
   "source": [
    "df_features[\"LIGHTCOND\"]= df_features[\"LIGHTCOND\"].apply(lambda x: \"DAYLIGHT\" if x == \"Daylight\" else (\"DARK-STREET-LIGHTS-ON\" if x == \"Dark - Street Lights On\" else\n",
    "                                                                (\"UNKNOWN\" if x == \"Unknown\" else (\"DUSK\" if x ==\"Dusk\" else\n",
    "                                                                                              \"NOISE\" ))))"
   ]
  },
  {
   "cell_type": "code",
   "execution_count": 161,
   "metadata": {},
   "outputs": [],
   "source": [
    "df_features[\"JUNCTIONTYPE\"]= df_features[\"JUNCTIONTYPE\"].apply(lambda x: \"MID-BLOCK-UNRELATED\" if x == \"Mid-Block (not related to intersection)\" else (\"INTERSECTION-RELATED\" if x == \"At Intersection (intersection related)\" else\n",
    "                                                                (\"MID-BLOCK-RELATED\" if x == \"Mid-Block (but intersection related)\" else (\"DRIVEWAY\" if x ==\"Driveway Junction\" else\n",
    "                                                                                              \"NOISE\" ))))"
   ]
  },
  {
   "cell_type": "code",
   "execution_count": 162,
   "metadata": {},
   "outputs": [],
   "source": [
    "df_features[\"ADDRTYPE\"]=df_features[\"ADDRTYPE\"].apply(lambda x : 0 if x=='Block' else 1)\n",
    "#df_features['ADDRTYPE'] = \\\n",
    "#df_features['ADDRTYPE'].fillna('Block').replace(\\\n",
    "#                                       ['Alley', 'Block', 'Intersection'], ['0', '1', '1']).astype('float64')"
   ]
  },
  {
   "cell_type": "code",
   "execution_count": 163,
   "metadata": {},
   "outputs": [],
   "source": [
    "df_features['COLLISIONTYPE'] = \\\n",
    "df_features['COLLISIONTYPE'].fillna('Other').replace(\\\n",
    "                                            ['Angles','Cycles','Head On', 'Left Turn', 'Other', 'Parked Car',\\\n",
    "                                             'Pedestrian', 'Rear Ended', 'Right Turn', 'Sideswipe'],\\\n",
    "                                            ['0','1','2','3','4','5','6','7','8','9']).astype('float64')"
   ]
  },
  {
   "cell_type": "code",
   "execution_count": 164,
   "metadata": {},
   "outputs": [
    {
     "data": {
      "text/plain": [
       "SEVERITYCODE      0\n",
       "ADDRTYPE          0\n",
       "COLLISIONTYPE     0\n",
       "PERSONCOUNT       0\n",
       "VEHCOUNT          0\n",
       "JUNCTIONTYPE      0\n",
       "SDOT_COLCODE      0\n",
       "INATTENTIONIND    0\n",
       "UNDERINFL         0\n",
       "WEATHER           0\n",
       "ROADCOND          0\n",
       "LIGHTCOND         0\n",
       "PEDROWNOTGRNT     0\n",
       "SPEEDING          0\n",
       "HITPARKEDCAR      0\n",
       "dtype: int64"
      ]
     },
     "execution_count": 164,
     "metadata": {},
     "output_type": "execute_result"
    }
   ],
   "source": [
    "df_features.isnull().sum()"
   ]
  },
  {
   "cell_type": "code",
   "execution_count": 165,
   "metadata": {},
   "outputs": [],
   "source": [
    "#df_features.dropna(subset = [\"ADDRTYPE\",\"LOCATION\",\"COLLISIONTYPE\",\"JUNCTIONTYPE\",\"WEATHER\",\"ROADCOND\",\\\n",
    "#                    \"LIGHTCOND\",\"ST_COLCODE\"], inplace=True)"
   ]
  },
  {
   "cell_type": "code",
   "execution_count": 166,
   "metadata": {},
   "outputs": [],
   "source": [
    "#df_features.isnull().sum()"
   ]
  },
  {
   "cell_type": "code",
   "execution_count": 167,
   "metadata": {},
   "outputs": [],
   "source": [
    "# One Hot Encoding\n",
    "df_features = pd.get_dummies(df_features,columns=['WEATHER','COLLISIONTYPE','JUNCTIONTYPE',\\\n",
    "                                                  'ROADCOND','LIGHTCOND'])"
   ]
  },
  {
   "cell_type": "code",
   "execution_count": 168,
   "metadata": {},
   "outputs": [
    {
     "data": {
      "text/plain": [
       "Index(['SEVERITYCODE', 'ADDRTYPE', 'PERSONCOUNT', 'VEHCOUNT', 'SDOT_COLCODE',\n",
       "       'INATTENTIONIND', 'UNDERINFL', 'PEDROWNOTGRNT', 'SPEEDING',\n",
       "       'HITPARKEDCAR', 'WEATHER_CLEAR', 'WEATHER_NOISE', 'WEATHER_OVERCAST',\n",
       "       'WEATHER_RAINING', 'WEATHER_UNKNOWN', 'COLLISIONTYPE_0.0',\n",
       "       'COLLISIONTYPE_1.0', 'COLLISIONTYPE_2.0', 'COLLISIONTYPE_3.0',\n",
       "       'COLLISIONTYPE_4.0', 'COLLISIONTYPE_5.0', 'COLLISIONTYPE_6.0',\n",
       "       'COLLISIONTYPE_7.0', 'COLLISIONTYPE_8.0', 'COLLISIONTYPE_9.0',\n",
       "       'JUNCTIONTYPE_DRIVEWAY', 'JUNCTIONTYPE_INTERSECTION-RELATED',\n",
       "       'JUNCTIONTYPE_MID-BLOCK-RELATED', 'JUNCTIONTYPE_MID-BLOCK-UNRELATED',\n",
       "       'JUNCTIONTYPE_NOISE', 'ROADCOND_DRY', 'ROADCOND_NOISE',\n",
       "       'ROADCOND_UNKNOWN', 'ROADCOND_WET', 'LIGHTCOND_DARK-STREET-LIGHTS-ON',\n",
       "       'LIGHTCOND_DAYLIGHT', 'LIGHTCOND_DUSK', 'LIGHTCOND_NOISE',\n",
       "       'LIGHTCOND_UNKNOWN'],\n",
       "      dtype='object')"
      ]
     },
     "execution_count": 168,
     "metadata": {},
     "output_type": "execute_result"
    }
   ],
   "source": [
    "df_features.columns"
   ]
  },
  {
   "cell_type": "code",
   "execution_count": 169,
   "metadata": {},
   "outputs": [],
   "source": [
    "# Remove the noise\n",
    "df_features.drop(columns=[\"JUNCTIONTYPE_NOISE\", \"LIGHTCOND_NOISE\",\"ROADCOND_NOISE\",\\\n",
    "                          \"WEATHER_NOISE\"],axis=1,inplace=True)"
   ]
  },
  {
   "cell_type": "code",
   "execution_count": 170,
   "metadata": {},
   "outputs": [
    {
     "data": {
      "text/html": [
       "<div>\n",
       "<style scoped>\n",
       "    .dataframe tbody tr th:only-of-type {\n",
       "        vertical-align: middle;\n",
       "    }\n",
       "\n",
       "    .dataframe tbody tr th {\n",
       "        vertical-align: top;\n",
       "    }\n",
       "\n",
       "    .dataframe thead th {\n",
       "        text-align: right;\n",
       "    }\n",
       "</style>\n",
       "<table border=\"1\" class=\"dataframe\">\n",
       "  <thead>\n",
       "    <tr style=\"text-align: right;\">\n",
       "      <th></th>\n",
       "      <th>SEVERITYCODE</th>\n",
       "      <th>ADDRTYPE</th>\n",
       "      <th>PERSONCOUNT</th>\n",
       "      <th>VEHCOUNT</th>\n",
       "      <th>SDOT_COLCODE</th>\n",
       "      <th>INATTENTIONIND</th>\n",
       "      <th>UNDERINFL</th>\n",
       "      <th>PEDROWNOTGRNT</th>\n",
       "      <th>SPEEDING</th>\n",
       "      <th>HITPARKEDCAR</th>\n",
       "      <th>...</th>\n",
       "      <th>JUNCTIONTYPE_INTERSECTION-RELATED</th>\n",
       "      <th>JUNCTIONTYPE_MID-BLOCK-RELATED</th>\n",
       "      <th>JUNCTIONTYPE_MID-BLOCK-UNRELATED</th>\n",
       "      <th>ROADCOND_DRY</th>\n",
       "      <th>ROADCOND_UNKNOWN</th>\n",
       "      <th>ROADCOND_WET</th>\n",
       "      <th>LIGHTCOND_DARK-STREET-LIGHTS-ON</th>\n",
       "      <th>LIGHTCOND_DAYLIGHT</th>\n",
       "      <th>LIGHTCOND_DUSK</th>\n",
       "      <th>LIGHTCOND_UNKNOWN</th>\n",
       "    </tr>\n",
       "  </thead>\n",
       "  <tbody>\n",
       "    <tr>\n",
       "      <th>0</th>\n",
       "      <td>1</td>\n",
       "      <td>1.0</td>\n",
       "      <td>2</td>\n",
       "      <td>2</td>\n",
       "      <td>11</td>\n",
       "      <td>0</td>\n",
       "      <td>0</td>\n",
       "      <td>0</td>\n",
       "      <td>0</td>\n",
       "      <td>0</td>\n",
       "      <td>...</td>\n",
       "      <td>1</td>\n",
       "      <td>0</td>\n",
       "      <td>0</td>\n",
       "      <td>0</td>\n",
       "      <td>0</td>\n",
       "      <td>1</td>\n",
       "      <td>0</td>\n",
       "      <td>1</td>\n",
       "      <td>0</td>\n",
       "      <td>0</td>\n",
       "    </tr>\n",
       "    <tr>\n",
       "      <th>1</th>\n",
       "      <td>0</td>\n",
       "      <td>1.0</td>\n",
       "      <td>2</td>\n",
       "      <td>2</td>\n",
       "      <td>16</td>\n",
       "      <td>0</td>\n",
       "      <td>0</td>\n",
       "      <td>0</td>\n",
       "      <td>0</td>\n",
       "      <td>0</td>\n",
       "      <td>...</td>\n",
       "      <td>0</td>\n",
       "      <td>0</td>\n",
       "      <td>1</td>\n",
       "      <td>0</td>\n",
       "      <td>0</td>\n",
       "      <td>1</td>\n",
       "      <td>1</td>\n",
       "      <td>0</td>\n",
       "      <td>0</td>\n",
       "      <td>0</td>\n",
       "    </tr>\n",
       "    <tr>\n",
       "      <th>2</th>\n",
       "      <td>0</td>\n",
       "      <td>1.0</td>\n",
       "      <td>4</td>\n",
       "      <td>3</td>\n",
       "      <td>14</td>\n",
       "      <td>0</td>\n",
       "      <td>0</td>\n",
       "      <td>0</td>\n",
       "      <td>0</td>\n",
       "      <td>0</td>\n",
       "      <td>...</td>\n",
       "      <td>0</td>\n",
       "      <td>0</td>\n",
       "      <td>1</td>\n",
       "      <td>1</td>\n",
       "      <td>0</td>\n",
       "      <td>0</td>\n",
       "      <td>0</td>\n",
       "      <td>1</td>\n",
       "      <td>0</td>\n",
       "      <td>0</td>\n",
       "    </tr>\n",
       "    <tr>\n",
       "      <th>3</th>\n",
       "      <td>0</td>\n",
       "      <td>1.0</td>\n",
       "      <td>3</td>\n",
       "      <td>3</td>\n",
       "      <td>11</td>\n",
       "      <td>0</td>\n",
       "      <td>0</td>\n",
       "      <td>0</td>\n",
       "      <td>0</td>\n",
       "      <td>0</td>\n",
       "      <td>...</td>\n",
       "      <td>0</td>\n",
       "      <td>0</td>\n",
       "      <td>1</td>\n",
       "      <td>1</td>\n",
       "      <td>0</td>\n",
       "      <td>0</td>\n",
       "      <td>0</td>\n",
       "      <td>1</td>\n",
       "      <td>0</td>\n",
       "      <td>0</td>\n",
       "    </tr>\n",
       "    <tr>\n",
       "      <th>4</th>\n",
       "      <td>1</td>\n",
       "      <td>1.0</td>\n",
       "      <td>2</td>\n",
       "      <td>2</td>\n",
       "      <td>11</td>\n",
       "      <td>0</td>\n",
       "      <td>0</td>\n",
       "      <td>0</td>\n",
       "      <td>0</td>\n",
       "      <td>0</td>\n",
       "      <td>...</td>\n",
       "      <td>1</td>\n",
       "      <td>0</td>\n",
       "      <td>0</td>\n",
       "      <td>0</td>\n",
       "      <td>0</td>\n",
       "      <td>1</td>\n",
       "      <td>0</td>\n",
       "      <td>1</td>\n",
       "      <td>0</td>\n",
       "      <td>0</td>\n",
       "    </tr>\n",
       "  </tbody>\n",
       "</table>\n",
       "<p>5 rows × 35 columns</p>\n",
       "</div>"
      ],
      "text/plain": [
       "   SEVERITYCODE  ADDRTYPE  PERSONCOUNT  VEHCOUNT  SDOT_COLCODE  \\\n",
       "0             1       1.0            2         2            11   \n",
       "1             0       1.0            2         2            16   \n",
       "2             0       1.0            4         3            14   \n",
       "3             0       1.0            3         3            11   \n",
       "4             1       1.0            2         2            11   \n",
       "\n",
       "   INATTENTIONIND  UNDERINFL  PEDROWNOTGRNT  SPEEDING  HITPARKEDCAR  ...  \\\n",
       "0               0          0              0         0             0  ...   \n",
       "1               0          0              0         0             0  ...   \n",
       "2               0          0              0         0             0  ...   \n",
       "3               0          0              0         0             0  ...   \n",
       "4               0          0              0         0             0  ...   \n",
       "\n",
       "   JUNCTIONTYPE_INTERSECTION-RELATED  JUNCTIONTYPE_MID-BLOCK-RELATED  \\\n",
       "0                                  1                               0   \n",
       "1                                  0                               0   \n",
       "2                                  0                               0   \n",
       "3                                  0                               0   \n",
       "4                                  1                               0   \n",
       "\n",
       "   JUNCTIONTYPE_MID-BLOCK-UNRELATED  ROADCOND_DRY  ROADCOND_UNKNOWN  \\\n",
       "0                                 0             0                 0   \n",
       "1                                 1             0                 0   \n",
       "2                                 1             1                 0   \n",
       "3                                 1             1                 0   \n",
       "4                                 0             0                 0   \n",
       "\n",
       "   ROADCOND_WET  LIGHTCOND_DARK-STREET-LIGHTS-ON  LIGHTCOND_DAYLIGHT  \\\n",
       "0             1                                0                   1   \n",
       "1             1                                1                   0   \n",
       "2             0                                0                   1   \n",
       "3             0                                0                   1   \n",
       "4             1                                0                   1   \n",
       "\n",
       "   LIGHTCOND_DUSK  LIGHTCOND_UNKNOWN  \n",
       "0               0                  0  \n",
       "1               0                  0  \n",
       "2               0                  0  \n",
       "3               0                  0  \n",
       "4               0                  0  \n",
       "\n",
       "[5 rows x 35 columns]"
      ]
     },
     "execution_count": 170,
     "metadata": {},
     "output_type": "execute_result"
    }
   ],
   "source": [
    "df_features.head()"
   ]
  },
  {
   "cell_type": "code",
   "execution_count": 186,
   "metadata": {},
   "outputs": [
    {
     "data": {
      "text/plain": [
       "array(['SEVERITYCODE', 'ADDRTYPE', 'PERSONCOUNT', 'VEHCOUNT',\n",
       "       'SDOT_COLCODE', 'INATTENTIONIND', 'UNDERINFL', 'PEDROWNOTGRNT',\n",
       "       'SPEEDING', 'HITPARKEDCAR', 'WEATHER_CLEAR', 'WEATHER_OVERCAST',\n",
       "       'WEATHER_RAINING', 'WEATHER_UNKNOWN', 'COLLISIONTYPE_0.0',\n",
       "       'COLLISIONTYPE_1.0', 'COLLISIONTYPE_2.0', 'COLLISIONTYPE_3.0',\n",
       "       'COLLISIONTYPE_4.0', 'COLLISIONTYPE_5.0', 'COLLISIONTYPE_6.0',\n",
       "       'COLLISIONTYPE_7.0', 'COLLISIONTYPE_8.0', 'COLLISIONTYPE_9.0',\n",
       "       'JUNCTIONTYPE_DRIVEWAY', 'JUNCTIONTYPE_INTERSECTION-RELATED',\n",
       "       'JUNCTIONTYPE_MID-BLOCK-RELATED',\n",
       "       'JUNCTIONTYPE_MID-BLOCK-UNRELATED', 'ROADCOND_DRY',\n",
       "       'ROADCOND_UNKNOWN', 'ROADCOND_WET',\n",
       "       'LIGHTCOND_DARK-STREET-LIGHTS-ON', 'LIGHTCOND_DAYLIGHT',\n",
       "       'LIGHTCOND_DUSK', 'LIGHTCOND_UNKNOWN'], dtype=object)"
      ]
     },
     "execution_count": 186,
     "metadata": {},
     "output_type": "execute_result"
    }
   ],
   "source": [
    "df_features.columns.values"
   ]
  },
  {
   "cell_type": "code",
   "execution_count": 187,
   "metadata": {},
   "outputs": [],
   "source": [
    "X_unbalanced = df_features[['ADDRTYPE', 'PERSONCOUNT', 'VEHCOUNT',\n",
    "       'SDOT_COLCODE', 'INATTENTIONIND', 'UNDERINFL', 'PEDROWNOTGRNT',\n",
    "       'SPEEDING', 'HITPARKEDCAR', 'WEATHER_CLEAR', 'WEATHER_OVERCAST',\n",
    "       'WEATHER_RAINING', 'WEATHER_UNKNOWN', 'COLLISIONTYPE_0.0',\n",
    "       'COLLISIONTYPE_1.0', 'COLLISIONTYPE_2.0', 'COLLISIONTYPE_3.0',\n",
    "       'COLLISIONTYPE_4.0', 'COLLISIONTYPE_5.0', 'COLLISIONTYPE_6.0',\n",
    "       'COLLISIONTYPE_7.0', 'COLLISIONTYPE_8.0', 'COLLISIONTYPE_9.0',\n",
    "       'JUNCTIONTYPE_DRIVEWAY', 'JUNCTIONTYPE_INTERSECTION-RELATED',\n",
    "       'JUNCTIONTYPE_MID-BLOCK-RELATED',\n",
    "       'JUNCTIONTYPE_MID-BLOCK-UNRELATED', 'ROADCOND_DRY',\n",
    "       'ROADCOND_UNKNOWN', 'ROADCOND_WET',\n",
    "       'LIGHTCOND_DARK-STREET-LIGHTS-ON', 'LIGHTCOND_DAYLIGHT',\n",
    "       'LIGHTCOND_DUSK', 'LIGHTCOND_UNKNOWN']]\n",
    "y_unbalanced = df_features['SEVERITYCODE']"
   ]
  },
  {
   "cell_type": "markdown",
   "metadata": {},
   "source": [
    "Use random under sampling method balance severity.  RUS randomly removes samples from the majority class (SEVERITYCODE == 1) to equal the minority class (SEVERITYCODE == 2).  The balancing has a significant effect on all of the models used below.  Without using this Decision Tree, KNN, Logistics Regression and Random Forest do not perform well at all.  On the other hand XGBoost and GBT positive weight parameters are don't make a difference so it levels the playing field.  Without balancing XGB and GBT perform very well but we balance per the requirements and allow for all of the classifiers to have a shot at being the best at predicting severity == injury."
   ]
  },
  {
   "cell_type": "code",
   "execution_count": 188,
   "metadata": {},
   "outputs": [
    {
     "name": "stdout",
     "output_type": "stream",
     "text": [
      "   ADDRTYPE  PERSONCOUNT  VEHCOUNT  SDOT_COLCODE  INATTENTIONIND  UNDERINFL  \\\n",
      "0       1.0            3         3            11               0          0   \n",
      "1       1.0            0         2            11               0          0   \n",
      "2       1.0            2         2            11               0          0   \n",
      "3       1.0            1         0            14               0          0   \n",
      "4       1.0            2         2            14               0          0   \n",
      "\n",
      "   PEDROWNOTGRNT  SPEEDING  HITPARKEDCAR  WEATHER_CLEAR  ...  \\\n",
      "0              0         0             0              0  ...   \n",
      "1              0         0             0              1  ...   \n",
      "2              0         0             0              1  ...   \n",
      "3              0         0             0              0  ...   \n",
      "4              0         0             0              0  ...   \n",
      "\n",
      "   JUNCTIONTYPE_INTERSECTION-RELATED  JUNCTIONTYPE_MID-BLOCK-RELATED  \\\n",
      "0                                  0                               0   \n",
      "1                                  0                               0   \n",
      "2                                  1                               0   \n",
      "3                                  1                               0   \n",
      "4                                  0                               1   \n",
      "\n",
      "   JUNCTIONTYPE_MID-BLOCK-UNRELATED  ROADCOND_DRY  ROADCOND_UNKNOWN  \\\n",
      "0                                 1             0                 0   \n",
      "1                                 1             1                 0   \n",
      "2                                 0             1                 0   \n",
      "3                                 0             0                 0   \n",
      "4                                 0             1                 0   \n",
      "\n",
      "   ROADCOND_WET  LIGHTCOND_DARK-STREET-LIGHTS-ON  LIGHTCOND_DAYLIGHT  \\\n",
      "0             1                                0                   1   \n",
      "1             0                                0                   1   \n",
      "2             0                                1                   0   \n",
      "3             0                                0                   0   \n",
      "4             0                                0                   1   \n",
      "\n",
      "   LIGHTCOND_DUSK  LIGHTCOND_UNKNOWN  \n",
      "0               0                  0  \n",
      "1               0                  0  \n",
      "2               0                  0  \n",
      "3               0                  0  \n",
      "4               0                  0  \n",
      "\n",
      "[5 rows x 34 columns]\n",
      "1    58188\n",
      "0    58188\n",
      "Name: SEVERITYCODE, dtype: int64\n"
     ]
    }
   ],
   "source": [
    "RUS = RandomUnderSampler(random_state=12)\n",
    "X, y = RUS.fit_resample(X_unbalanced, y_unbalanced)\n",
    "\n",
    "print(X[0:5])\n",
    "print(y.value_counts())"
   ]
  },
  {
   "cell_type": "markdown",
   "metadata": {},
   "source": [
    "# Modeling"
   ]
  },
  {
   "cell_type": "code",
   "execution_count": null,
   "metadata": {},
   "outputs": [],
   "source": []
  },
  {
   "cell_type": "code",
   "execution_count": 189,
   "metadata": {},
   "outputs": [],
   "source": [
    "# plot_confusion_matrix(y_test, XGB_yhat, XGB_model.classes_, title='XGBoost Confusion Matrix', accuracy=XGB_score_jac)\n",
    "def plot_confusion_matrix(y_true, y_pred, labels, filename='', title='Confusion Matrix', accuracy=0.0, ymap=None, figsize=(6,4)):\n",
    "    #https://gist.github.com/hitvoice/36cf44689065ca9b927431546381a3f7\n",
    "    \"\"\"\n",
    "    Generate matrix plot of confusion matrix with pretty annotations.\n",
    "    The plot image is saved to disk.\n",
    "    args: \n",
    "      y_true:    true label of the data, with shape (nsamples,)\n",
    "      y_pred:    prediction of the data, with shape (nsamples,)\n",
    "      filename:  filename of figure file to save\n",
    "      labels:    string array, name the order of class labels in the confusion matrix.\n",
    "                 use `clf.classes_` if using scikit-learn models.\n",
    "                 with shape (nclass,).\n",
    "      ymap:      dict: any -> string, length == nclass.\n",
    "                 if not None, map the labels & ys to more understandable strings.\n",
    "                 Caution: original y_true, y_pred and labels must align.\n",
    "      figsize:   the size of the figure plotted.\n",
    "    \"\"\"\n",
    "    if ymap is not None:\n",
    "        y_pred = [ymap[yi] for yi in y_pred]\n",
    "        y_true = [ymap[yi] for yi in y_true]\n",
    "        labels = [ymap[yi] for yi in labels]\n",
    "    cm = confusion_matrix(y_true, y_pred, labels=labels)\n",
    "    cm_sum = np.sum(cm, axis=1, keepdims=True)\n",
    "    cm_perc = cm / cm_sum.astype(float) * 100\n",
    "    annot = np.empty_like(cm).astype(str)\n",
    "    nrows, ncols = cm.shape\n",
    "    for i in range(nrows):\n",
    "        for j in range(ncols):\n",
    "            c = cm[i, j]\n",
    "            p = cm_perc[i, j]\n",
    "            if i == j:\n",
    "                s = cm_sum[i]\n",
    "                annot[i, j] = '%.1f%%\\n%d/%d' % (p, c, s)\n",
    "            elif c == 0:\n",
    "                annot[i, j] = ''\n",
    "            else:\n",
    "                annot[i, j] = '%.1f%%\\n%d' % (p, c)\n",
    "    cm = pd.DataFrame(cm, index=labels, columns=labels)\n",
    "    cm.index.name = 'Actual'\n",
    "    cm.columns.name = 'Predicted'\n",
    "    fig, ax = plt.subplots(figsize=figsize)\n",
    "    if accuracy == 0:\n",
    "        ax.set_title(title, pad=10)\n",
    "    else:\n",
    "        ax.set_title(title + '\\nAccuracy: ' + str(accuracy), pad=10)\n",
    "    sns.heatmap(cm, annot=annot, fmt='', ax=ax)\n",
    "    if len(filename) != 0:\n",
    "        plt.savefig(filename)\n",
    "    plt.show()"
   ]
  },
  {
   "cell_type": "code",
   "execution_count": 190,
   "metadata": {},
   "outputs": [],
   "source": [
    "#df_features.dtypes"
   ]
  },
  {
   "cell_type": "code",
   "execution_count": 191,
   "metadata": {},
   "outputs": [],
   "source": [
    "#X = df_features.copy()\n",
    "#X.drop(['SEVERITYCODE'], axis=1, inplace=True)\n",
    "#X[0:5]"
   ]
  },
  {
   "cell_type": "code",
   "execution_count": 192,
   "metadata": {},
   "outputs": [],
   "source": [
    "#y = df_features['SEVERITYCODE'].values\n",
    "#y[0:5]"
   ]
  },
  {
   "cell_type": "code",
   "execution_count": 193,
   "metadata": {},
   "outputs": [],
   "source": [
    "X = preprocessing.StandardScaler().fit(X).transform(X)\n",
    "#X[0:5]"
   ]
  },
  {
   "cell_type": "code",
   "execution_count": 194,
   "metadata": {},
   "outputs": [
    {
     "name": "stdout",
     "output_type": "stream",
     "text": [
      "Train Set: (93100, 34) (93100,)\n",
      "Test Set: (23276, 34) (23276,)\n"
     ]
    }
   ],
   "source": [
    "X_train, X_test, y_train, y_test = train_test_split(X, y, test_size=0.2, random_state=4, stratify=y)\n",
    "print ('Train Set:', X_train.shape,  y_train.shape)\n",
    "print ('Test Set:', X_test.shape,  y_test.shape)"
   ]
  },
  {
   "cell_type": "markdown",
   "metadata": {},
   "source": [
    "## XGBoost"
   ]
  },
  {
   "cell_type": "code",
   "execution_count": 195,
   "metadata": {},
   "outputs": [],
   "source": [
    "# Tuning\n",
    "#weight = int(y_train.value_counts()[0]/y_train.value_counts()[1])\n",
    "#print(weight)\n",
    "\n",
    "#parameters = {\n",
    "#    \"learning_rate\":[0.05,0.10,0.15,0.20,0.25,0.30],\n",
    "#    \"max_depth\" : [3,4,5,6,8,10,12,15,20],\n",
    "#    \"min_child_weight\": [1,3,5,7],\n",
    "#    \"gamma\":[0.1,0.2,0.3,0.4],\n",
    "#    \"colsample_bytree\":[0.3,0.4,0.5,0.7],\n",
    "#    \"scale_pos_weight\":[2,2.2,2.5,2.7,2.9,3]\n",
    "#}\n",
    "#XGB_model = XGBClassifier()\n",
    "#random_search = RandomizedSearchCV(XGB_model, param_distributions = parameters, n_iter = 5, n_jobs = -1,\\\n",
    "#                                   cv=5, verbose = 3, scoring = 'f1')\n",
    "#random_search.fit(X_train, y_train)\n",
    "#random_search.best_estimator_"
   ]
  },
  {
   "cell_type": "code",
   "execution_count": 196,
   "metadata": {},
   "outputs": [
    {
     "data": {
      "text/plain": [
       "2.3455867189111155"
      ]
     },
     "execution_count": 196,
     "metadata": {},
     "output_type": "execute_result"
    }
   ],
   "source": [
    "scale_pos_weight = df_features[df_features.SEVERITYCODE==0]\\\n",
    "['SEVERITYCODE'].count()/df_features[df_features.SEVERITYCODE==1]['SEVERITYCODE'].count() \n",
    "scale_pos_weight"
   ]
  },
  {
   "cell_type": "code",
   "execution_count": 197,
   "metadata": {},
   "outputs": [
    {
     "name": "stdout",
     "output_type": "stream",
     "text": [
      "Train Set Accuracy:  0.7196348012889366\n",
      "              precision    recall  f1-score   support\n",
      "\n",
      "           0       0.77      0.64      0.70     11638\n",
      "           1       0.69      0.81      0.74     11638\n",
      "\n",
      "    accuracy                           0.72     23276\n",
      "   macro avg       0.73      0.72      0.72     23276\n",
      "weighted avg       0.73      0.72      0.72     23276\n",
      "\n",
      "f1 Score:  0.72\n",
      "Jaccard Score:  0.72\n",
      "Log Loss:  0.52\n"
     ]
    },
    {
     "data": {
      "image/png": "[encoded data removed]",
      "text/plain": [
       "<Figure size 432x288 with 2 Axes>"
      ]
     },
     "metadata": {
      "needs_background": "light"
     },
     "output_type": "display_data"
    }
   ],
   "source": [
    "# Override weight based on optimization\n",
    "#scale_pos_weight = 2.7\n",
    "scale_pos_weight = 1\n",
    "XGB_model = XGBClassifier(base_score=0.5, booster='gbtree', colsample_bylevel=1,\n",
    "              colsample_bynode=1, colsample_bytree=0.4, gamma=0.4, gpu_id=-1,\n",
    "              importance_type='gain', interaction_constraints='',\n",
    "              learning_rate=0.3, max_delta_step=0, max_depth=4,\n",
    "              min_child_weight=5, missing=np.nan, monotone_constraints='()',\n",
    "              n_estimators=100, n_jobs=0, num_parallel_tree=1,\n",
    "              objective='binary:logistic', random_state=0, reg_alpha=0,\n",
    "              reg_lambda=1, scale_pos_weight=scale_pos_weight, subsample=1,\n",
    "              tree_method='exact', validate_parameters=1, verbosity=None)\n",
    "\n",
    "XGB_model.fit(X_train, y_train)\n",
    "XGB_yhat = XGB_model.predict(X_test)\n",
    "XGB_yhat_prob = XGB_model.predict_proba(X_test)\n",
    "\n",
    "XGB_score_jac = round(accuracy_score(y_test, XGB_yhat), 2)\n",
    "XGB_score_f1 = round(f1_score(y_test, XGB_yhat, average='weighted'), 2)\n",
    "XGB_score_ll = round(log_loss(y_test, XGB_yhat_prob), 2)\n",
    "\n",
    "# Summary\n",
    "print(\"Train Set Accuracy: \", metrics.accuracy_score(y_train, XGB_model.predict(X_train)))\n",
    "print (classification_report(y_test, XGB_yhat))\n",
    "print (\"f1 Score: \", XGB_score_f1)\n",
    "print (\"Jaccard Score: \", XGB_score_jac)\n",
    "print (\"Log Loss: \", XGB_score_ll)\n",
    "\n",
    "plot_confusion_matrix(y_test, XGB_yhat, XGB_model.classes_, title='XGBoost Confusion Matrix',\\\n",
    "                      accuracy=XGB_score_jac)"
   ]
  },
  {
   "cell_type": "code",
   "execution_count": 208,
   "metadata": {},
   "outputs": [],
   "source": [
    "XGB_roc_auc = roc_auc_score(y_test, XGB_model.predict(X_test))\n",
    "XGB_fpr, XGB_tpr, XGB_thresholds = roc_curve(y_test, XGB_model.predict_proba(X_test)[:,1])"
   ]
  },
  {
   "cell_type": "code",
   "execution_count": null,
   "metadata": {},
   "outputs": [],
   "source": []
  },
  {
   "cell_type": "markdown",
   "metadata": {},
   "source": [
    "## Gradient Boosting Trees"
   ]
  },
  {
   "cell_type": "code",
   "execution_count": 198,
   "metadata": {},
   "outputs": [],
   "source": [
    "# GBT Tuning\n",
    "#parameters = {'learning_rate': [0.15,0.1,0.05,0.01,0.005,0.001],\n",
    "#              'subsample'    : [0.7,0.75,0.8,0.85,0.9,0.95,1],\n",
    "#              'n_estimators' : [100,250,500,750,1000,1250,1500,1750],\n",
    "#              'min_samples_split':[2,4,6,8,10,20,40,60,100],\n",
    "#              'min_samples_leaf':[1,3,5,7,9],\n",
    "#              'max_depth'    : [2,3,4,5,6,7]\n",
    "#             }\n",
    "\n",
    "#parameters = {'learning_rate': [0.15,0.1,0.05,0.01,0.005,0.001],\n",
    "#              'n_estimators' : [100,250,500,750,1000,1250,1500,1750]\n",
    "#             }\n",
    "\n",
    "#tuning = GridSearchCV(estimator=GradientBoostingClassifier(max_depth=4, min_samples_split = 2,\\\n",
    "#                                                           min_samples_leaf = 1, max_features = 'sqrt',\\\n",
    "#                                                           random_state = 10),\\\n",
    "#                      param_grid = parameters, scoring='accuracy', n_jobs=4, iid=False, cv=5)\n",
    "#tuning.fit(X_train,y_train)\n",
    "#tuning.grid_scores_, tuning.best_params_, tuning.best_score_"
   ]
  },
  {
   "cell_type": "code",
   "execution_count": 199,
   "metadata": {},
   "outputs": [
    {
     "name": "stdout",
     "output_type": "stream",
     "text": [
      "Train Set Accuracy:  0.7069602577873254\n",
      "              precision    recall  f1-score   support\n",
      "\n",
      "           0       0.76      0.63      0.69     11638\n",
      "           1       0.68      0.80      0.74     11638\n",
      "\n",
      "    accuracy                           0.71     23276\n",
      "   macro avg       0.72      0.71      0.71     23276\n",
      "weighted avg       0.72      0.71      0.71     23276\n",
      "\n",
      "f1 Score:  0.71\n",
      "Jaccard Score:  0.71\n",
      "Log Loss:  0.53\n"
     ]
    },
    {
     "data": {
      "image/png": "[encoded data removed]",
      "text/plain": [
       "<Figure size 432x288 with 2 Axes>"
      ]
     },
     "metadata": {
      "needs_background": "light"
     },
     "output_type": "display_data"
    }
   ],
   "source": [
    "sample_weights = np.zeros(len(y_train))\n",
    "#sample_weights[y_train == 0] = 0.2989\n",
    "#sample_weights[y_train == 1] = 0.7011\n",
    "sample_weights[y_train == 0] = 0.50\n",
    "sample_weights[y_train == 1] = 0.50\n",
    "\n",
    "\n",
    "GBT_model = GradientBoostingClassifier(n_estimators=20, learning_rate=0.75, max_features=2, max_depth=2, \\\n",
    "                                       random_state=0).fit(X_train, y_train, sample_weight=sample_weights)\n",
    "GBT_yhat = GBT_model.predict(X_test)\n",
    "GBT_yhat_prob = GBT_model.predict_proba(X_test)\n",
    "\n",
    "GBT_score_jac = round(accuracy_score(y_test, GBT_yhat), 2)\n",
    "GBT_score_f1 = round(f1_score(y_test, GBT_yhat, average='weighted'), 2)\n",
    "GBT_score_ll = round(log_loss(y_test, GBT_yhat_prob), 2)\n",
    "\n",
    "# Summary\n",
    "print(\"Train Set Accuracy: \", metrics.accuracy_score(y_train, GBT_model.predict(X_train)))\n",
    "print (classification_report(y_test, GBT_yhat))\n",
    "print (\"f1 Score: \", GBT_score_f1)\n",
    "print (\"Jaccard Score: \", GBT_score_jac)\n",
    "print (\"Log Loss: \", GBT_score_ll)\n",
    "\n",
    "plot_confusion_matrix(y_test, GBT_yhat, GBT_model.classes_, title = 'Gradient Boosting Trees Confusion Matrix',\\\n",
    "                      accuracy = GBT_score_jac)"
   ]
  },
  {
   "cell_type": "code",
   "execution_count": 210,
   "metadata": {},
   "outputs": [],
   "source": [
    "GBT_roc_auc = roc_auc_score(y_test, GBT_model.predict(X_test))\n",
    "GBT_fpr, GBT_tpr, GBT_thresholds = roc_curve(y_test, GBT_model.predict_proba(X_test)[:,1])"
   ]
  },
  {
   "cell_type": "markdown",
   "metadata": {},
   "source": [
    "## Logistic Regression"
   ]
  },
  {
   "cell_type": "code",
   "execution_count": 200,
   "metadata": {},
   "outputs": [
    {
     "name": "stdout",
     "output_type": "stream",
     "text": [
      "Train Set Accuracy:  0.7031041890440387\n",
      "              precision    recall  f1-score   support\n",
      "\n",
      "           0       0.76      0.62      0.68     11638\n",
      "           1       0.68      0.80      0.74     11638\n",
      "\n",
      "    accuracy                           0.71     23276\n",
      "   macro avg       0.72      0.71      0.71     23276\n",
      "weighted avg       0.72      0.71      0.71     23276\n",
      "\n",
      "f1 Score:  0.71\n",
      "Jaccard Score:  0.71\n",
      "Log Loss:  0.53\n"
     ]
    },
    {
     "data": {
      "image/png": "[encoded data removed]",
      "text/plain": [
       "<Figure size 432x288 with 2 Axes>"
      ]
     },
     "metadata": {
      "needs_background": "light"
     },
     "output_type": "display_data"
    }
   ],
   "source": [
    "LR_model = LogisticRegression(C = 0.1, solver = 'liblinear', class_weight = 'balanced').fit(X_train, y_train)\n",
    "LR_yhat = LR_model.predict(X_test)\n",
    "LR_yhat_prob = LR_model.predict_proba(X_test)\n",
    "\n",
    "LR_score_jac = round(accuracy_score(y_test, LR_yhat), 2)\n",
    "LR_score_f1 = round(f1_score(y_test, LR_yhat, average = 'weighted'), 2)\n",
    "LR_score_ll = round(log_loss(y_test, LR_yhat_prob), 2)\n",
    "\n",
    "# Summary\n",
    "print(\"Train Set Accuracy: \", metrics.accuracy_score(y_train, LR_model.predict(X_train)))\n",
    "print (classification_report(y_test, LR_yhat))\n",
    "print (\"f1 Score: \", LR_score_f1)\n",
    "print (\"Jaccard Score: \", LR_score_jac)\n",
    "print (\"Log Loss: \", LR_score_ll)\n",
    "\n",
    "plot_confusion_matrix(y_test, LR_yhat, LR_model.classes_, title = 'Logistic Regression Confusion Matrix',\\\n",
    "                      accuracy = LR_score_jac)"
   ]
  },
  {
   "cell_type": "code",
   "execution_count": 211,
   "metadata": {},
   "outputs": [],
   "source": [
    "LR_roc_auc = roc_auc_score(y_test, LR_model.predict(X_test))\n",
    "LR_fpr, LR_tpr, LR_thresholds = roc_curve(y_test, LR_model.predict_proba(X_test)[:,1])"
   ]
  },
  {
   "cell_type": "markdown",
   "metadata": {},
   "source": [
    "## Random Forest"
   ]
  },
  {
   "cell_type": "code",
   "execution_count": 201,
   "metadata": {},
   "outputs": [],
   "source": [
    "# Tuning\n",
    "#parameters = {'n_estimators':[499,500,501]}\n",
    "#             #'criterion':('gini'),\n",
    "#             #'max_depth':[8,10]}\n",
    "#            # 'max_features':('auto','sqrt')}\n",
    "#            \n",
    "#RF_model = RandomForestClassifier(n_jobs=-1, random_state=140, max_features='auto', max_depth=10)\n",
    "#RF_grid = GridSearchCV(RF_model, param_grid=parameters, verbose=10, n_jobs=-1)\n",
    "#RF_grid.fit(X_train,y_train)\n",
    "#print(RF_grid.best_params_)\n",
    "#print(RF_grid.best_score_)\n",
    "#RF_grid_pred = RF_grid.predict(X_test)\n",
    "#print(classification_report(y_test, RF_grid_pred))"
   ]
  },
  {
   "cell_type": "code",
   "execution_count": 202,
   "metadata": {},
   "outputs": [
    {
     "name": "stdout",
     "output_type": "stream",
     "text": [
      "Train Set Accuracy:  0.7190225563909775\n",
      "              precision    recall  f1-score   support\n",
      "\n",
      "           0       0.76      0.64      0.70     11638\n",
      "           1       0.69      0.80      0.74     11638\n",
      "\n",
      "    accuracy                           0.72     23276\n",
      "   macro avg       0.73      0.72      0.72     23276\n",
      "weighted avg       0.73      0.72      0.72     23276\n",
      "\n",
      "f1 Score:  0.72\n",
      "Jaccard Score:  0.72\n",
      "Log Loss:  0.53\n"
     ]
    },
    {
     "data": {
      "image/png": "[encoded data removed]",
      "text/plain": [
       "<Figure size 432x288 with 2 Axes>"
      ]
     },
     "metadata": {
      "needs_background": "light"
     },
     "output_type": "display_data"
    }
   ],
   "source": [
    "RF_model = RandomForestClassifier(n_estimators = 500, criterion = 'gini', n_jobs = -1,\\\n",
    "                                  random_state = 140, max_features = 'auto', max_depth=10)\n",
    "RF_model.fit(X_train,y_train)\n",
    "RF_yhat = RF_model.predict(X_test)\n",
    "RF_yhat_prob = RF_model.predict_proba(X_test)\n",
    "\n",
    "RF_score_jac = round(accuracy_score(y_test, RF_yhat), 2)\n",
    "RF_score_f1 = round(f1_score(y_test, RF_yhat, average='weighted'), 2)\n",
    "RF_score_ll = round(log_loss(y_test, RF_yhat_prob), 2)\n",
    "\n",
    "# Summary\n",
    "print(\"Train Set Accuracy: \", metrics.accuracy_score(y_train, RF_model.predict(X_train)))\n",
    "print (classification_report(y_test, RF_yhat))\n",
    "print (\"f1 Score: \", RF_score_f1)\n",
    "print (\"Jaccard Score: \", RF_score_jac)\n",
    "print (\"Log Loss: \", RF_score_ll)\n",
    "\n",
    "plot_confusion_matrix(y_test, RF_yhat, RF_model.classes_, title='Random Forest Confusion Matrix',\\\n",
    "                      accuracy = RF_score_jac)"
   ]
  },
  {
   "cell_type": "code",
   "execution_count": 212,
   "metadata": {},
   "outputs": [],
   "source": [
    "RF_roc_auc = roc_auc_score(y_test, RF_model.predict(X_test))\n",
    "RF_fpr, RF_tpr, RF_thresholds = roc_curve(y_test, RF_model.predict_proba(X_test)[:,1])"
   ]
  },
  {
   "cell_type": "markdown",
   "metadata": {},
   "source": [
    "## k-Nearest Neighbors"
   ]
  },
  {
   "cell_type": "code",
   "execution_count": null,
   "metadata": {},
   "outputs": [],
   "source": [
    "# Tuning\n",
    "#Ks = 15\n",
    "#Ks = 2\n",
    "#mean_acc = np.zeros((Ks-1))\n",
    "#std_acc = np.zeros((Ks-1))\n",
    "\n",
    "#for n in range(1, Ks):\n",
    "#    print(\"K -\", n)\n",
    "#    KNN_model = KNeighborsClassifier(n_neighbors = n).fit(X_train, y_train)\n",
    "#    KNN_yhat = KNN_model.predict(X_test)\n",
    "#    mean_acc[n-1] = metrics.accuracy_score(y_test, KNN_yhat)\n",
    "#    std_acc[n-1] = np.std(KNN_yhat == y_test) / np.sqrt(KNN_yhat.shape[0])\n",
    "#mean_acc\n",
    "#print( \"The best accuracy was with\", mean_acc.max(), \"with k=\", mean_acc.argmax() + 1)\n",
    "#plt.plot(range(1, Ks),mean_acc)\n",
    "#plt.fill_between(range(1, Ks), mean_acc - 1 * std_acc, mean_acc + 1 * std_acc, alpha=0.10)\n",
    "#plt.legend(('Accuracy ', '+/- 3xstd'))\n",
    "#plt.ylabel('Accuracy')\n",
    "#plt.xlabel('Neighbors')\n",
    "#plt.tight_layout()\n",
    "#plt.show()"
   ]
  },
  {
   "cell_type": "code",
   "execution_count": null,
   "metadata": {},
   "outputs": [],
   "source": []
  },
  {
   "cell_type": "code",
   "execution_count": 204,
   "metadata": {},
   "outputs": [
    {
     "name": "stdout",
     "output_type": "stream",
     "text": [
      "Train Set Accuracy:  0.7147261009667024\n",
      "              precision    recall  f1-score   support\n",
      "\n",
      "           0       0.71      0.69      0.70     11638\n",
      "           1       0.70      0.71      0.70     11638\n",
      "\n",
      "    accuracy                           0.70     23276\n",
      "   macro avg       0.70      0.70      0.70     23276\n",
      "weighted avg       0.70      0.70      0.70     23276\n",
      "\n",
      "f1 Score:  0.7\n",
      "Jaccard Score:  0.7\n",
      "Log Loss:  0.89\n"
     ]
    },
    {
     "data": {
      "image/png": "[encoded data removed]",
      "text/plain": [
       "<Figure size 432x288 with 2 Axes>"
      ]
     },
     "metadata": {
      "needs_background": "light"
     },
     "output_type": "display_data"
    }
   ],
   "source": [
    "#k = mean_acc.argmax() + 1\n",
    "k = 10\n",
    "KNN_model = KNeighborsClassifier(n_neighbors = k).fit(X_train, y_train)\n",
    "KNN_yhat = KNN_model.predict(X_test)\n",
    "KNN_yhat_prob = KNN_model.predict_proba(X_test)\n",
    "\n",
    "KNN_score_jac = round(accuracy_score(y_test, KNN_yhat), 2)\n",
    "KNN_score_f1 = round(f1_score(y_test, KNN_yhat, average='weighted'), 2)\n",
    "KNN_score_ll = round(log_loss(y_test, KNN_yhat_prob), 2)\n",
    "\n",
    "# Summary\n",
    "print(\"Train Set Accuracy: \", metrics.accuracy_score(y_train, KNN_model.predict(X_train)))\n",
    "print (classification_report(y_test, KNN_yhat))\n",
    "print (\"f1 Score: \", KNN_score_f1)\n",
    "print (\"Jaccard Score: \", KNN_score_jac)\n",
    "print (\"Log Loss: \", KNN_score_ll)\n",
    "\n",
    "plot_confusion_matrix(y_test, KNN_yhat, KNN_model.classes_, title = 'KNN Confusion Matrix',\\\n",
    "                      accuracy = KNN_score_jac)"
   ]
  },
  {
   "cell_type": "code",
   "execution_count": 213,
   "metadata": {},
   "outputs": [],
   "source": [
    "KNN_roc_auc = roc_auc_score(y_test, KNN_model.predict(X_test))\n",
    "KNN_fpr, KNN_tpr, KNN_thresholds = roc_curve(y_test, KNN_model.predict_proba(X_test)[:,1])"
   ]
  },
  {
   "cell_type": "markdown",
   "metadata": {},
   "source": [
    "## Decision Tree"
   ]
  },
  {
   "cell_type": "code",
   "execution_count": 203,
   "metadata": {},
   "outputs": [
    {
     "name": "stdout",
     "output_type": "stream",
     "text": [
      "Train Set Accuracy:  0.699516648764769\n",
      "              precision    recall  f1-score   support\n",
      "\n",
      "           0       0.78      0.59      0.67     11638\n",
      "           1       0.67      0.83      0.74     11638\n",
      "\n",
      "    accuracy                           0.71     23276\n",
      "   macro avg       0.72      0.71      0.70     23276\n",
      "weighted avg       0.72      0.71      0.70     23276\n",
      "\n",
      "f1 Score:  0.7\n",
      "Jaccard Score:  0.71\n",
      "Log Loss:  0.54\n"
     ]
    },
    {
     "data": {
      "image/png": "[encoded data removed]",
      "text/plain": [
       "<Figure size 432x288 with 2 Axes>"
      ]
     },
     "metadata": {
      "needs_background": "light"
     },
     "output_type": "display_data"
    }
   ],
   "source": [
    "DT_model = DecisionTreeClassifier(criterion = \"entropy\", max_depth = 6)\n",
    "DT_model.fit(X_train, y_train)\n",
    "DT_yhat = DT_model.predict(X_test)\n",
    "DT_yhat_prob = DT_model.predict_proba(X_test)\n",
    "\n",
    "DT_score_jac = round(accuracy_score(y_test, DT_yhat), 2)\n",
    "DT_score_f1 = round(f1_score(y_test, DT_yhat, average='weighted'), 2)\n",
    "DT_score_ll = round(log_loss(y_test, DT_yhat_prob), 2)\n",
    "\n",
    "# Summary\n",
    "print(\"Train Set Accuracy: \", metrics.accuracy_score(y_train, DT_model.predict(X_train)))\n",
    "print (classification_report(y_test, DT_yhat))\n",
    "print (\"f1 Score: \", DT_score_f1)\n",
    "print (\"Jaccard Score: \", DT_score_jac)\n",
    "print (\"Log Loss: \", DT_score_ll)\n",
    "\n",
    "plot_confusion_matrix(y_test, DT_yhat, DT_model.classes_, title = 'Decision Tree Confusion Matrix',\\\n",
    "                      accuracy = DT_score_jac)"
   ]
  },
  {
   "cell_type": "code",
   "execution_count": 214,
   "metadata": {},
   "outputs": [],
   "source": [
    "DT_roc_auc = roc_auc_score(y_test, DT_model.predict(X_test))\n",
    "DT_fpr, DT_tpr, DT_thresholds = roc_curve(y_test, DT_model.predict_proba(X_test)[:,1])"
   ]
  },
  {
   "cell_type": "markdown",
   "metadata": {},
   "source": [
    "# Evaluation"
   ]
  },
  {
   "cell_type": "code",
   "execution_count": 226,
   "metadata": {},
   "outputs": [
    {
     "data": {
      "text/html": [
       "<div>\n",
       "<style scoped>\n",
       "    .dataframe tbody tr th:only-of-type {\n",
       "        vertical-align: middle;\n",
       "    }\n",
       "\n",
       "    .dataframe tbody tr th {\n",
       "        vertical-align: top;\n",
       "    }\n",
       "\n",
       "    .dataframe thead th {\n",
       "        text-align: right;\n",
       "    }\n",
       "</style>\n",
       "<table border=\"1\" class=\"dataframe\">\n",
       "  <thead>\n",
       "    <tr style=\"text-align: right;\">\n",
       "      <th></th>\n",
       "      <th>Model</th>\n",
       "      <th>Jaccard Index</th>\n",
       "      <th>F1-Score</th>\n",
       "      <th>Log Loss</th>\n",
       "    </tr>\n",
       "  </thead>\n",
       "  <tbody>\n",
       "    <tr>\n",
       "      <th>0</th>\n",
       "      <td>Gradient Boosting Trees</td>\n",
       "      <td>0.71</td>\n",
       "      <td>0.71</td>\n",
       "      <td>0.53</td>\n",
       "    </tr>\n",
       "    <tr>\n",
       "      <th>1</th>\n",
       "      <td>XGBoost</td>\n",
       "      <td>0.72</td>\n",
       "      <td>0.72</td>\n",
       "      <td>0.52</td>\n",
       "    </tr>\n",
       "    <tr>\n",
       "      <th>2</th>\n",
       "      <td>Random Forest</td>\n",
       "      <td>0.72</td>\n",
       "      <td>0.72</td>\n",
       "      <td>0.53</td>\n",
       "    </tr>\n",
       "    <tr>\n",
       "      <th>3</th>\n",
       "      <td>Decision Tree</td>\n",
       "      <td>0.71</td>\n",
       "      <td>0.7</td>\n",
       "      <td>0.54</td>\n",
       "    </tr>\n",
       "    <tr>\n",
       "      <th>4</th>\n",
       "      <td>k-Nearest Neighbors</td>\n",
       "      <td>0.7</td>\n",
       "      <td>0.7</td>\n",
       "      <td>0.89</td>\n",
       "    </tr>\n",
       "    <tr>\n",
       "      <th>5</th>\n",
       "      <td>Logistic Regression</td>\n",
       "      <td>0.71</td>\n",
       "      <td>0.71</td>\n",
       "      <td>0.53</td>\n",
       "    </tr>\n",
       "  </tbody>\n",
       "</table>\n",
       "</div>"
      ],
      "text/plain": [
       "                     Model Jaccard Index F1-Score Log Loss\n",
       "0  Gradient Boosting Trees          0.71     0.71     0.53\n",
       "1                  XGBoost          0.72     0.72     0.52\n",
       "2            Random Forest          0.72     0.72     0.53\n",
       "3            Decision Tree          0.71      0.7     0.54\n",
       "4      k-Nearest Neighbors           0.7      0.7     0.89\n",
       "5      Logistic Regression          0.71     0.71     0.53"
      ]
     },
     "execution_count": 226,
     "metadata": {},
     "output_type": "execute_result"
    }
   ],
   "source": [
    "results = pd.DataFrame(np.array([['Gradient Boosting Trees', GBT_score_jac, GBT_score_f1, GBT_score_ll], \\\n",
    "                                 ['XGBoost', XGB_score_jac, XGB_score_f1, XGB_score_ll], \\\n",
    "                                 ['Random Forest', RF_score_jac, RF_score_f1, RF_score_ll], \\\n",
    "                                 ['Decision Tree', DT_score_jac, DT_score_f1, DT_score_ll], \\\n",
    "                                 ['k-Nearest Neighbors', KNN_score_jac, KNN_score_f1, KNN_score_ll], \\\n",
    "                                 ['Logistic Regression', LR_score_jac, LR_score_f1, LR_score_ll]]), \\\n",
    "                                columns=['Model', 'Jaccard Index', 'F1-Score', 'Log Loss'])\n",
    "results"
   ]
  },
  {
   "cell_type": "code",
   "execution_count": 220,
   "metadata": {},
   "outputs": [
    {
     "data": {
      "image/png": "[encoded data removed]",
      "text/plain": [
       "<Figure size 864x720 with 1 Axes>"
      ]
     },
     "metadata": {
      "needs_background": "light"
     },
     "output_type": "display_data"
    }
   ],
   "source": [
    "plt.figure(figsize=(12,10))\n",
    "plt.plot(XGB_fpr, XGB_tpr, label='XBT Baseline (area = %0.2f)' % XGB_roc_auc)\n",
    "#plt.plot(GBT_fpr, GBT_tpr, label='GBT Model 1 (area = %0.2f)' % GBT_roc_auc)\n",
    "#plt.plot(LR_fpr, LR_tpr, label='LR Final Model (area = %0.2f)' % LR_roc_auc)\n",
    "#plt.plot(RF_fpr, RF_tpr, label='RF Final Model (area = %0.2f)' % RF_roc_auc)\n",
    "#plt.plot(KNN_fpr, KNN_tpr, label='KNN Final Model (area = %0.2f)' % KNN_roc_auc)\n",
    "plt.plot(DT_fpr, DT_tpr, label='DT Final Model (area = %0.2f)' % DT_roc_auc)\n",
    "\n",
    "plt.plot([0, 1], [0, 1],'r--')\n",
    "plt.xlim([0.0, 1.0])\n",
    "plt.ylim([0.0, 1.05])\n",
    "plt.xlabel('False Positive Rate')\n",
    "plt.ylabel('True Positive Rate')\n",
    "plt.title('Receiver Operating Characteristic')\n",
    "plt.legend(loc=\"lower right\")\n",
    "#plt.savefig('Log_ROC')\n",
    "plt.show()"
   ]
  },
  {
   "cell_type": "code",
   "execution_count": null,
   "metadata": {},
   "outputs": [],
   "source": []
  }
 ],
 "metadata": {
  "kernelspec": {
   "display_name": "Python",
   "language": "python",
   "name": "conda-env-python-py"
  },
  "language_info": {
   "codemirror_mode": {
    "name": "ipython",
    "version": 3
   },
   "file_extension": ".py",
   "mimetype": "text/x-python",
   "name": "python",
   "nbconvert_exporter": "python",
   "pygments_lexer": "ipython3",
   "version": "3.6.11"
  }
 },
 "nbformat": 4,
 "nbformat_minor": 4
}
